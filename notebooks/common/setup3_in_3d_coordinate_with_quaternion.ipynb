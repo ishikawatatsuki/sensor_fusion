{
 "cells": [
  {
   "cell_type": "markdown",
   "id": "c9156564-601d-45b3-9637-3a4ab54464e0",
   "metadata": {},
   "source": [
    "To establish communication between Visual Odometry and Kalman filter, homogeneous transformation matrix is needed.\n",
    "Currently, filters that adopt velocity motion model contains position and angle in x and z-axis to estimate the motion of an agent in a system.\n",
    "\n",
    "To compute homogeneous transformation matrix, translation vector that contains position in x, y, and z coordinates, and rotation matrix, which can be derived from quaternion, are needed.\n",
    "In this notebook, mathematical equation that explains new kinematic equation, which conforms to the velocity motion model, is derived."
   ]
  },
  {
   "cell_type": "markdown",
   "id": "dbdb5d08-c52d-46f1-9037-d4da18b1a237",
   "metadata": {},
   "source": [
    "When converting euler angles from quaternion, gimbal lock, which occurs when pitch angle (angle in y-axis) is +90 or -90 degree, needs to be taken into account."
   ]
  },
  {
   "cell_type": "code",
   "execution_count": 2,
   "id": "ee35023e-5507-4fff-808a-507e84340ce2",
   "metadata": {},
   "outputs": [],
   "source": [
    "import numpy as np\n",
    "import sympy\n",
    "from sympy.abc import alpha, x, y, v, w, R, psi, theta, phi\n",
    "from sympy import symbols, Matrix"
   ]
  },
  {
   "cell_type": "code",
   "execution_count": 3,
   "id": "4d118e56-656f-4e62-b6ec-3c68d3c5af3a",
   "metadata": {},
   "outputs": [],
   "source": [
    "# state vector\n",
    "px = symbols('p_{x}')\n",
    "py = symbols('p_{y}')\n",
    "pz = symbols('p_{z}')\n",
    "qw = symbols('q_{w}')\n",
    "qx = symbols('q_{x}')\n",
    "qy = symbols('q_{y}')\n",
    "qz = symbols('q_{z}')\n",
    "\n",
    "# control input\n",
    "v = symbols('v')\n",
    "wx = symbols('w_{x}')\n",
    "wy = symbols('w_{y}')\n",
    "wz = symbols('w_{z}')\n",
    "\n",
    "# delta time\n",
    "dt = symbols('dt')"
   ]
  },
  {
   "cell_type": "code",
   "execution_count": 4,
   "id": "bdc81eb8-9862-4549-aa5b-d8a975475640",
   "metadata": {},
   "outputs": [],
   "source": [
    "norm_w = symbols('|w|')\n",
    "R = Matrix([\n",
    "    [qw**2 + qx**2 - qy**2 - qz**2, 2*(qx*qy - qw*qz), 2*(qw*qy + qx*qz)],\n",
    "    [2*(qx*qy + qw*qz), qw**2 - qx**2 + qy**2 - qz**2, 2*(qy*qz - qw*qx)],\n",
    "    [2*(qx*qz - qw*qy), 2*(qw*qx + qy*qz), qw**2 - qx**2 - qy**2 + qz**2]\n",
    "])\n",
    "Omega = Matrix([\n",
    "    [0, wz, -wy, wx],\n",
    "    [-wz, 0, wx, wy],\n",
    "    [wy, -wx, 0, wz],\n",
    "    [-wx, -wy, -wz, 0]\n",
    "])"
   ]
  },
  {
   "cell_type": "markdown",
   "id": "06d79cae-7a0a-41a9-9087-db2d6c4a7e8e",
   "metadata": {},
   "source": [
    "## Normal condition"
   ]
  },
  {
   "cell_type": "code",
   "execution_count": 17,
   "id": "d699bdd2-9d75-4ee3-97fb-6853e6b6e6e8",
   "metadata": {},
   "outputs": [],
   "source": [
    "phi = sympy.atan2(2*(qw*qx + qy*qz), qw**2 - qx**2 - qy**2 + qz**2)\n",
    "theta = sympy.asin(2*(qw*qy - qx*qz))\n",
    "psi = sympy.atan2(2*(qw*qz + qx*qy), qw**2 + qx**2 - qy**2 - qz**2)"
   ]
  },
  {
   "cell_type": "code",
   "execution_count": 18,
   "id": "da5ac948-695a-45d3-8ca3-d5cbfab86b2e",
   "metadata": {},
   "outputs": [
    {
     "data": {
      "text/latex": [
       "$\\displaystyle \\left[\\begin{matrix}q_{w} \\cos{\\left(\\frac{dt |w|}{2} \\right)} + \\frac{q_{x} w_{z} \\sin{\\left(\\frac{dt |w|}{2} \\right)}}{|w|} - \\frac{q_{y} w_{y} \\sin{\\left(\\frac{dt |w|}{2} \\right)}}{|w|} + \\frac{q_{z} w_{x} \\sin{\\left(\\frac{dt |w|}{2} \\right)}}{|w|}\\\\- \\frac{q_{w} w_{z} \\sin{\\left(\\frac{dt |w|}{2} \\right)}}{|w|} + q_{x} \\cos{\\left(\\frac{dt |w|}{2} \\right)} + \\frac{q_{y} w_{x} \\sin{\\left(\\frac{dt |w|}{2} \\right)}}{|w|} + \\frac{q_{z} w_{y} \\sin{\\left(\\frac{dt |w|}{2} \\right)}}{|w|}\\\\\\frac{q_{w} w_{y} \\sin{\\left(\\frac{dt |w|}{2} \\right)}}{|w|} - \\frac{q_{x} w_{x} \\sin{\\left(\\frac{dt |w|}{2} \\right)}}{|w|} + q_{y} \\cos{\\left(\\frac{dt |w|}{2} \\right)} + \\frac{q_{z} w_{z} \\sin{\\left(\\frac{dt |w|}{2} \\right)}}{|w|}\\\\- \\frac{q_{w} w_{x} \\sin{\\left(\\frac{dt |w|}{2} \\right)}}{|w|} - \\frac{q_{x} w_{y} \\sin{\\left(\\frac{dt |w|}{2} \\right)}}{|w|} - \\frac{q_{y} w_{z} \\sin{\\left(\\frac{dt |w|}{2} \\right)}}{|w|} + q_{z} \\cos{\\left(\\frac{dt |w|}{2} \\right)}\\end{matrix}\\right]$"
      ],
      "text/plain": [
       "Matrix([\n",
       "[ q_{w}*cos(dt*|w|/2) + q_{x}*w_{z}*sin(dt*|w|/2)/|w| - q_{y}*w_{y}*sin(dt*|w|/2)/|w| + q_{z}*w_{x}*sin(dt*|w|/2)/|w|],\n",
       "[-q_{w}*w_{z}*sin(dt*|w|/2)/|w| + q_{x}*cos(dt*|w|/2) + q_{y}*w_{x}*sin(dt*|w|/2)/|w| + q_{z}*w_{y}*sin(dt*|w|/2)/|w|],\n",
       "[ q_{w}*w_{y}*sin(dt*|w|/2)/|w| - q_{x}*w_{x}*sin(dt*|w|/2)/|w| + q_{y}*cos(dt*|w|/2) + q_{z}*w_{z}*sin(dt*|w|/2)/|w|],\n",
       "[-q_{w}*w_{x}*sin(dt*|w|/2)/|w| - q_{x}*w_{y}*sin(dt*|w|/2)/|w| - q_{y}*w_{z}*sin(dt*|w|/2)/|w| + q_{z}*cos(dt*|w|/2)]])"
      ]
     },
     "execution_count": 18,
     "metadata": {},
     "output_type": "execute_result"
    }
   ],
   "source": [
    "A = sympy.cos(norm_w*dt/2) * sympy.eye(4)\n",
    "B = (1/norm_w)*sympy.sin(norm_w*dt/2)\n",
    "q_t = Matrix([\n",
    "    [qw],\n",
    "    [qx],\n",
    "    [qy],\n",
    "    [qz]\n",
    "])\n",
    "(A + B * Omega) * q_t"
   ]
  },
  {
   "cell_type": "code",
   "execution_count": 19,
   "id": "e1cebc8e-3158-488d-8a1e-1b62fa15c4bd",
   "metadata": {},
   "outputs": [
    {
     "data": {
      "text/latex": [
       "$\\displaystyle \\left[\\begin{matrix}p_{x} - \\frac{v \\left(2 q_{w} q_{z} + 2 q_{x} q_{y}\\right)}{w_{z} \\sqrt{\\left(2 q_{w} q_{z} + 2 q_{x} q_{y}\\right)^{2} + \\left(q_{w}^{2} + q_{x}^{2} - q_{y}^{2} - q_{z}^{2}\\right)^{2}}} + \\frac{v \\sin{\\left(dt w_{z} + \\operatorname{atan}_{2}{\\left(2 q_{w} q_{z} + 2 q_{x} q_{y},q_{w}^{2} + q_{x}^{2} - q_{y}^{2} - q_{z}^{2} \\right)} \\right)}}{w_{z}}\\\\p_{y} - \\frac{v \\cos{\\left(dt w_{z} + \\operatorname{atan}_{2}{\\left(2 q_{w} q_{z} + 2 q_{x} q_{y},q_{w}^{2} + q_{x}^{2} - q_{y}^{2} - q_{z}^{2} \\right)} \\right)}}{w_{z}} + \\frac{v \\left(q_{w}^{2} + q_{x}^{2} - q_{y}^{2} - q_{z}^{2}\\right)}{w_{z} \\sqrt{\\left(2 q_{w} q_{z} + 2 q_{x} q_{y}\\right)^{2} + \\left(q_{w}^{2} + q_{x}^{2} - q_{y}^{2} - q_{z}^{2}\\right)^{2}}}\\\\p_{z} - \\frac{v \\left(2 q_{w} q_{x} + 2 q_{y} q_{z}\\right)}{w_{x} \\sqrt{\\left(2 q_{w} q_{x} + 2 q_{y} q_{z}\\right)^{2} + \\left(q_{w}^{2} - q_{x}^{2} - q_{y}^{2} + q_{z}^{2}\\right)^{2}}} + \\frac{v \\sin{\\left(dt w_{x} + \\operatorname{atan}_{2}{\\left(2 q_{w} q_{x} + 2 q_{y} q_{z},q_{w}^{2} - q_{x}^{2} - q_{y}^{2} + q_{z}^{2} \\right)} \\right)}}{w_{x}}\\\\q_{w} \\cos{\\left(\\frac{dt |w|}{2} \\right)} + \\frac{q_{x} w_{z} \\sin{\\left(\\frac{dt |w|}{2} \\right)}}{|w|} - \\frac{q_{y} w_{y} \\sin{\\left(\\frac{dt |w|}{2} \\right)}}{|w|} + \\frac{q_{z} w_{x} \\sin{\\left(\\frac{dt |w|}{2} \\right)}}{|w|}\\\\- \\frac{q_{w} w_{z} \\sin{\\left(\\frac{dt |w|}{2} \\right)}}{|w|} + q_{x} \\cos{\\left(\\frac{dt |w|}{2} \\right)} + \\frac{q_{y} w_{x} \\sin{\\left(\\frac{dt |w|}{2} \\right)}}{|w|} + \\frac{q_{z} w_{y} \\sin{\\left(\\frac{dt |w|}{2} \\right)}}{|w|}\\\\\\frac{q_{w} w_{y} \\sin{\\left(\\frac{dt |w|}{2} \\right)}}{|w|} - \\frac{q_{x} w_{x} \\sin{\\left(\\frac{dt |w|}{2} \\right)}}{|w|} + q_{y} \\cos{\\left(\\frac{dt |w|}{2} \\right)} + \\frac{q_{z} w_{z} \\sin{\\left(\\frac{dt |w|}{2} \\right)}}{|w|}\\\\- \\frac{q_{w} w_{x} \\sin{\\left(\\frac{dt |w|}{2} \\right)}}{|w|} - \\frac{q_{x} w_{y} \\sin{\\left(\\frac{dt |w|}{2} \\right)}}{|w|} - \\frac{q_{y} w_{z} \\sin{\\left(\\frac{dt |w|}{2} \\right)}}{|w|} + q_{z} \\cos{\\left(\\frac{dt |w|}{2} \\right)}\\end{matrix}\\right]$"
      ],
      "text/plain": [
       "Matrix([\n",
       "[            p_{x} - v*(2*q_{w}*q_{z} + 2*q_{x}*q_{y})/(w_{z}*sqrt((2*q_{w}*q_{z} + 2*q_{x}*q_{y})**2 + (q_{w}**2 + q_{x}**2 - q_{y}**2 - q_{z}**2)**2)) + v*sin(dt*w_{z} + atan2(2*q_{w}*q_{z} + 2*q_{x}*q_{y}, q_{w}**2 + q_{x}**2 - q_{y}**2 - q_{z}**2))/w_{z}],\n",
       "[p_{y} - v*cos(dt*w_{z} + atan2(2*q_{w}*q_{z} + 2*q_{x}*q_{y}, q_{w}**2 + q_{x}**2 - q_{y}**2 - q_{z}**2))/w_{z} + v*(q_{w}**2 + q_{x}**2 - q_{y}**2 - q_{z}**2)/(w_{z}*sqrt((2*q_{w}*q_{z} + 2*q_{x}*q_{y})**2 + (q_{w}**2 + q_{x}**2 - q_{y}**2 - q_{z}**2)**2))],\n",
       "[            p_{z} - v*(2*q_{w}*q_{x} + 2*q_{y}*q_{z})/(w_{x}*sqrt((2*q_{w}*q_{x} + 2*q_{y}*q_{z})**2 + (q_{w}**2 - q_{x}**2 - q_{y}**2 + q_{z}**2)**2)) + v*sin(dt*w_{x} + atan2(2*q_{w}*q_{x} + 2*q_{y}*q_{z}, q_{w}**2 - q_{x}**2 - q_{y}**2 + q_{z}**2))/w_{x}],\n",
       "[                                                                                                                                              q_{w}*cos(dt*|w|/2) + q_{x}*w_{z}*sin(dt*|w|/2)/|w| - q_{y}*w_{y}*sin(dt*|w|/2)/|w| + q_{z}*w_{x}*sin(dt*|w|/2)/|w|],\n",
       "[                                                                                                                                             -q_{w}*w_{z}*sin(dt*|w|/2)/|w| + q_{x}*cos(dt*|w|/2) + q_{y}*w_{x}*sin(dt*|w|/2)/|w| + q_{z}*w_{y}*sin(dt*|w|/2)/|w|],\n",
       "[                                                                                                                                              q_{w}*w_{y}*sin(dt*|w|/2)/|w| - q_{x}*w_{x}*sin(dt*|w|/2)/|w| + q_{y}*cos(dt*|w|/2) + q_{z}*w_{z}*sin(dt*|w|/2)/|w|],\n",
       "[                                                                                                                                             -q_{w}*w_{x}*sin(dt*|w|/2)/|w| - q_{x}*w_{y}*sin(dt*|w|/2)/|w| - q_{y}*w_{z}*sin(dt*|w|/2)/|w| + q_{z}*cos(dt*|w|/2)]])"
      ]
     },
     "execution_count": 19,
     "metadata": {},
     "output_type": "execute_result"
    }
   ],
   "source": [
    "fxu = Matrix([\n",
    "    [px - v*sympy.sin(psi)/wz + v*sympy.sin(psi + wz*dt)/wz],\n",
    "    [py + v*sympy.cos(psi)/wz - v*sympy.cos(psi + wz*dt)/wz],\n",
    "    [pz - v*sympy.sin(phi)/wx + v*sympy.sin(phi + wx*dt)/wx],\n",
    "    [(A + B * Omega) * q_t]\n",
    "])\n",
    "fxu"
   ]
  },
  {
   "cell_type": "code",
   "execution_count": 20,
   "id": "e688af3e-2cbc-4464-9b3a-87cfead6fe59",
   "metadata": {},
   "outputs": [],
   "source": [
    "state_x = Matrix([px, py, pz, qw, qx, qy, qz])\n",
    "control_input = Matrix([v, wx, wy, wz])"
   ]
  },
  {
   "cell_type": "code",
   "execution_count": 21,
   "id": "049321da-f234-412a-a8ca-5b953effae99",
   "metadata": {},
   "outputs": [
    {
     "data": {
      "text/latex": [
       "$\\displaystyle \\left[\\begin{matrix}1 & 0 & 0 & - \\frac{2 q_{z} v}{w_{z} \\sqrt{\\left(2 q_{w} q_{z} + 2 q_{x} q_{y}\\right)^{2} + \\left(q_{w}^{2} + q_{x}^{2} - q_{y}^{2} - q_{z}^{2}\\right)^{2}}} - \\frac{v \\left(2 q_{w} q_{z} + 2 q_{x} q_{y}\\right) \\left(- 2 q_{w} \\left(q_{w}^{2} + q_{x}^{2} - q_{y}^{2} - q_{z}^{2}\\right) - 2 q_{z} \\left(2 q_{w} q_{z} + 2 q_{x} q_{y}\\right)\\right)}{w_{z} \\left(\\left(2 q_{w} q_{z} + 2 q_{x} q_{y}\\right)^{2} + \\left(q_{w}^{2} + q_{x}^{2} - q_{y}^{2} - q_{z}^{2}\\right)^{2}\\right)^{\\frac{3}{2}}} + \\frac{v \\left(\\frac{2 q_{w} \\left(- 2 q_{w} q_{z} - 2 q_{x} q_{y}\\right)}{\\left(2 q_{w} q_{z} + 2 q_{x} q_{y}\\right)^{2} + \\left(q_{w}^{2} + q_{x}^{2} - q_{y}^{2} - q_{z}^{2}\\right)^{2}} + \\frac{2 q_{z} \\left(q_{w}^{2} + q_{x}^{2} - q_{y}^{2} - q_{z}^{2}\\right)}{\\left(2 q_{w} q_{z} + 2 q_{x} q_{y}\\right)^{2} + \\left(q_{w}^{2} + q_{x}^{2} - q_{y}^{2} - q_{z}^{2}\\right)^{2}}\\right) \\cos{\\left(dt w_{z} + \\operatorname{atan}_{2}{\\left(2 q_{w} q_{z} + 2 q_{x} q_{y},q_{w}^{2} + q_{x}^{2} - q_{y}^{2} - q_{z}^{2} \\right)} \\right)}}{w_{z}} & - \\frac{2 q_{y} v}{w_{z} \\sqrt{\\left(2 q_{w} q_{z} + 2 q_{x} q_{y}\\right)^{2} + \\left(q_{w}^{2} + q_{x}^{2} - q_{y}^{2} - q_{z}^{2}\\right)^{2}}} - \\frac{v \\left(2 q_{w} q_{z} + 2 q_{x} q_{y}\\right) \\left(- 2 q_{x} \\left(q_{w}^{2} + q_{x}^{2} - q_{y}^{2} - q_{z}^{2}\\right) - 2 q_{y} \\left(2 q_{w} q_{z} + 2 q_{x} q_{y}\\right)\\right)}{w_{z} \\left(\\left(2 q_{w} q_{z} + 2 q_{x} q_{y}\\right)^{2} + \\left(q_{w}^{2} + q_{x}^{2} - q_{y}^{2} - q_{z}^{2}\\right)^{2}\\right)^{\\frac{3}{2}}} + \\frac{v \\left(\\frac{2 q_{x} \\left(- 2 q_{w} q_{z} - 2 q_{x} q_{y}\\right)}{\\left(2 q_{w} q_{z} + 2 q_{x} q_{y}\\right)^{2} + \\left(q_{w}^{2} + q_{x}^{2} - q_{y}^{2} - q_{z}^{2}\\right)^{2}} + \\frac{2 q_{y} \\left(q_{w}^{2} + q_{x}^{2} - q_{y}^{2} - q_{z}^{2}\\right)}{\\left(2 q_{w} q_{z} + 2 q_{x} q_{y}\\right)^{2} + \\left(q_{w}^{2} + q_{x}^{2} - q_{y}^{2} - q_{z}^{2}\\right)^{2}}\\right) \\cos{\\left(dt w_{z} + \\operatorname{atan}_{2}{\\left(2 q_{w} q_{z} + 2 q_{x} q_{y},q_{w}^{2} + q_{x}^{2} - q_{y}^{2} - q_{z}^{2} \\right)} \\right)}}{w_{z}} & - \\frac{2 q_{x} v}{w_{z} \\sqrt{\\left(2 q_{w} q_{z} + 2 q_{x} q_{y}\\right)^{2} + \\left(q_{w}^{2} + q_{x}^{2} - q_{y}^{2} - q_{z}^{2}\\right)^{2}}} - \\frac{v \\left(2 q_{w} q_{z} + 2 q_{x} q_{y}\\right) \\left(- 2 q_{x} \\left(2 q_{w} q_{z} + 2 q_{x} q_{y}\\right) + 2 q_{y} \\left(q_{w}^{2} + q_{x}^{2} - q_{y}^{2} - q_{z}^{2}\\right)\\right)}{w_{z} \\left(\\left(2 q_{w} q_{z} + 2 q_{x} q_{y}\\right)^{2} + \\left(q_{w}^{2} + q_{x}^{2} - q_{y}^{2} - q_{z}^{2}\\right)^{2}\\right)^{\\frac{3}{2}}} + \\frac{v \\left(\\frac{2 q_{x} \\left(q_{w}^{2} + q_{x}^{2} - q_{y}^{2} - q_{z}^{2}\\right)}{\\left(2 q_{w} q_{z} + 2 q_{x} q_{y}\\right)^{2} + \\left(q_{w}^{2} + q_{x}^{2} - q_{y}^{2} - q_{z}^{2}\\right)^{2}} - \\frac{2 q_{y} \\left(- 2 q_{w} q_{z} - 2 q_{x} q_{y}\\right)}{\\left(2 q_{w} q_{z} + 2 q_{x} q_{y}\\right)^{2} + \\left(q_{w}^{2} + q_{x}^{2} - q_{y}^{2} - q_{z}^{2}\\right)^{2}}\\right) \\cos{\\left(dt w_{z} + \\operatorname{atan}_{2}{\\left(2 q_{w} q_{z} + 2 q_{x} q_{y},q_{w}^{2} + q_{x}^{2} - q_{y}^{2} - q_{z}^{2} \\right)} \\right)}}{w_{z}} & - \\frac{2 q_{w} v}{w_{z} \\sqrt{\\left(2 q_{w} q_{z} + 2 q_{x} q_{y}\\right)^{2} + \\left(q_{w}^{2} + q_{x}^{2} - q_{y}^{2} - q_{z}^{2}\\right)^{2}}} - \\frac{v \\left(2 q_{w} q_{z} + 2 q_{x} q_{y}\\right) \\left(- 2 q_{w} \\left(2 q_{w} q_{z} + 2 q_{x} q_{y}\\right) + 2 q_{z} \\left(q_{w}^{2} + q_{x}^{2} - q_{y}^{2} - q_{z}^{2}\\right)\\right)}{w_{z} \\left(\\left(2 q_{w} q_{z} + 2 q_{x} q_{y}\\right)^{2} + \\left(q_{w}^{2} + q_{x}^{2} - q_{y}^{2} - q_{z}^{2}\\right)^{2}\\right)^{\\frac{3}{2}}} + \\frac{v \\left(\\frac{2 q_{w} \\left(q_{w}^{2} + q_{x}^{2} - q_{y}^{2} - q_{z}^{2}\\right)}{\\left(2 q_{w} q_{z} + 2 q_{x} q_{y}\\right)^{2} + \\left(q_{w}^{2} + q_{x}^{2} - q_{y}^{2} - q_{z}^{2}\\right)^{2}} - \\frac{2 q_{z} \\left(- 2 q_{w} q_{z} - 2 q_{x} q_{y}\\right)}{\\left(2 q_{w} q_{z} + 2 q_{x} q_{y}\\right)^{2} + \\left(q_{w}^{2} + q_{x}^{2} - q_{y}^{2} - q_{z}^{2}\\right)^{2}}\\right) \\cos{\\left(dt w_{z} + \\operatorname{atan}_{2}{\\left(2 q_{w} q_{z} + 2 q_{x} q_{y},q_{w}^{2} + q_{x}^{2} - q_{y}^{2} - q_{z}^{2} \\right)} \\right)}}{w_{z}}\\\\0 & 1 & 0 & \\frac{2 q_{w} v}{w_{z} \\sqrt{\\left(2 q_{w} q_{z} + 2 q_{x} q_{y}\\right)^{2} + \\left(q_{w}^{2} + q_{x}^{2} - q_{y}^{2} - q_{z}^{2}\\right)^{2}}} + \\frac{v \\left(- 2 q_{w} \\left(q_{w}^{2} + q_{x}^{2} - q_{y}^{2} - q_{z}^{2}\\right) - 2 q_{z} \\left(2 q_{w} q_{z} + 2 q_{x} q_{y}\\right)\\right) \\left(q_{w}^{2} + q_{x}^{2} - q_{y}^{2} - q_{z}^{2}\\right)}{w_{z} \\left(\\left(2 q_{w} q_{z} + 2 q_{x} q_{y}\\right)^{2} + \\left(q_{w}^{2} + q_{x}^{2} - q_{y}^{2} - q_{z}^{2}\\right)^{2}\\right)^{\\frac{3}{2}}} + \\frac{v \\left(\\frac{2 q_{w} \\left(- 2 q_{w} q_{z} - 2 q_{x} q_{y}\\right)}{\\left(2 q_{w} q_{z} + 2 q_{x} q_{y}\\right)^{2} + \\left(q_{w}^{2} + q_{x}^{2} - q_{y}^{2} - q_{z}^{2}\\right)^{2}} + \\frac{2 q_{z} \\left(q_{w}^{2} + q_{x}^{2} - q_{y}^{2} - q_{z}^{2}\\right)}{\\left(2 q_{w} q_{z} + 2 q_{x} q_{y}\\right)^{2} + \\left(q_{w}^{2} + q_{x}^{2} - q_{y}^{2} - q_{z}^{2}\\right)^{2}}\\right) \\sin{\\left(dt w_{z} + \\operatorname{atan}_{2}{\\left(2 q_{w} q_{z} + 2 q_{x} q_{y},q_{w}^{2} + q_{x}^{2} - q_{y}^{2} - q_{z}^{2} \\right)} \\right)}}{w_{z}} & \\frac{2 q_{x} v}{w_{z} \\sqrt{\\left(2 q_{w} q_{z} + 2 q_{x} q_{y}\\right)^{2} + \\left(q_{w}^{2} + q_{x}^{2} - q_{y}^{2} - q_{z}^{2}\\right)^{2}}} + \\frac{v \\left(- 2 q_{x} \\left(q_{w}^{2} + q_{x}^{2} - q_{y}^{2} - q_{z}^{2}\\right) - 2 q_{y} \\left(2 q_{w} q_{z} + 2 q_{x} q_{y}\\right)\\right) \\left(q_{w}^{2} + q_{x}^{2} - q_{y}^{2} - q_{z}^{2}\\right)}{w_{z} \\left(\\left(2 q_{w} q_{z} + 2 q_{x} q_{y}\\right)^{2} + \\left(q_{w}^{2} + q_{x}^{2} - q_{y}^{2} - q_{z}^{2}\\right)^{2}\\right)^{\\frac{3}{2}}} + \\frac{v \\left(\\frac{2 q_{x} \\left(- 2 q_{w} q_{z} - 2 q_{x} q_{y}\\right)}{\\left(2 q_{w} q_{z} + 2 q_{x} q_{y}\\right)^{2} + \\left(q_{w}^{2} + q_{x}^{2} - q_{y}^{2} - q_{z}^{2}\\right)^{2}} + \\frac{2 q_{y} \\left(q_{w}^{2} + q_{x}^{2} - q_{y}^{2} - q_{z}^{2}\\right)}{\\left(2 q_{w} q_{z} + 2 q_{x} q_{y}\\right)^{2} + \\left(q_{w}^{2} + q_{x}^{2} - q_{y}^{2} - q_{z}^{2}\\right)^{2}}\\right) \\sin{\\left(dt w_{z} + \\operatorname{atan}_{2}{\\left(2 q_{w} q_{z} + 2 q_{x} q_{y},q_{w}^{2} + q_{x}^{2} - q_{y}^{2} - q_{z}^{2} \\right)} \\right)}}{w_{z}} & - \\frac{2 q_{y} v}{w_{z} \\sqrt{\\left(2 q_{w} q_{z} + 2 q_{x} q_{y}\\right)^{2} + \\left(q_{w}^{2} + q_{x}^{2} - q_{y}^{2} - q_{z}^{2}\\right)^{2}}} + \\frac{v \\left(- 2 q_{x} \\left(2 q_{w} q_{z} + 2 q_{x} q_{y}\\right) + 2 q_{y} \\left(q_{w}^{2} + q_{x}^{2} - q_{y}^{2} - q_{z}^{2}\\right)\\right) \\left(q_{w}^{2} + q_{x}^{2} - q_{y}^{2} - q_{z}^{2}\\right)}{w_{z} \\left(\\left(2 q_{w} q_{z} + 2 q_{x} q_{y}\\right)^{2} + \\left(q_{w}^{2} + q_{x}^{2} - q_{y}^{2} - q_{z}^{2}\\right)^{2}\\right)^{\\frac{3}{2}}} + \\frac{v \\left(\\frac{2 q_{x} \\left(q_{w}^{2} + q_{x}^{2} - q_{y}^{2} - q_{z}^{2}\\right)}{\\left(2 q_{w} q_{z} + 2 q_{x} q_{y}\\right)^{2} + \\left(q_{w}^{2} + q_{x}^{2} - q_{y}^{2} - q_{z}^{2}\\right)^{2}} - \\frac{2 q_{y} \\left(- 2 q_{w} q_{z} - 2 q_{x} q_{y}\\right)}{\\left(2 q_{w} q_{z} + 2 q_{x} q_{y}\\right)^{2} + \\left(q_{w}^{2} + q_{x}^{2} - q_{y}^{2} - q_{z}^{2}\\right)^{2}}\\right) \\sin{\\left(dt w_{z} + \\operatorname{atan}_{2}{\\left(2 q_{w} q_{z} + 2 q_{x} q_{y},q_{w}^{2} + q_{x}^{2} - q_{y}^{2} - q_{z}^{2} \\right)} \\right)}}{w_{z}} & - \\frac{2 q_{z} v}{w_{z} \\sqrt{\\left(2 q_{w} q_{z} + 2 q_{x} q_{y}\\right)^{2} + \\left(q_{w}^{2} + q_{x}^{2} - q_{y}^{2} - q_{z}^{2}\\right)^{2}}} + \\frac{v \\left(- 2 q_{w} \\left(2 q_{w} q_{z} + 2 q_{x} q_{y}\\right) + 2 q_{z} \\left(q_{w}^{2} + q_{x}^{2} - q_{y}^{2} - q_{z}^{2}\\right)\\right) \\left(q_{w}^{2} + q_{x}^{2} - q_{y}^{2} - q_{z}^{2}\\right)}{w_{z} \\left(\\left(2 q_{w} q_{z} + 2 q_{x} q_{y}\\right)^{2} + \\left(q_{w}^{2} + q_{x}^{2} - q_{y}^{2} - q_{z}^{2}\\right)^{2}\\right)^{\\frac{3}{2}}} + \\frac{v \\left(\\frac{2 q_{w} \\left(q_{w}^{2} + q_{x}^{2} - q_{y}^{2} - q_{z}^{2}\\right)}{\\left(2 q_{w} q_{z} + 2 q_{x} q_{y}\\right)^{2} + \\left(q_{w}^{2} + q_{x}^{2} - q_{y}^{2} - q_{z}^{2}\\right)^{2}} - \\frac{2 q_{z} \\left(- 2 q_{w} q_{z} - 2 q_{x} q_{y}\\right)}{\\left(2 q_{w} q_{z} + 2 q_{x} q_{y}\\right)^{2} + \\left(q_{w}^{2} + q_{x}^{2} - q_{y}^{2} - q_{z}^{2}\\right)^{2}}\\right) \\sin{\\left(dt w_{z} + \\operatorname{atan}_{2}{\\left(2 q_{w} q_{z} + 2 q_{x} q_{y},q_{w}^{2} + q_{x}^{2} - q_{y}^{2} - q_{z}^{2} \\right)} \\right)}}{w_{z}}\\\\0 & 0 & 1 & - \\frac{2 q_{x} v}{w_{x} \\sqrt{\\left(2 q_{w} q_{x} + 2 q_{y} q_{z}\\right)^{2} + \\left(q_{w}^{2} - q_{x}^{2} - q_{y}^{2} + q_{z}^{2}\\right)^{2}}} - \\frac{v \\left(2 q_{w} q_{x} + 2 q_{y} q_{z}\\right) \\left(- 2 q_{w} \\left(q_{w}^{2} - q_{x}^{2} - q_{y}^{2} + q_{z}^{2}\\right) - 2 q_{x} \\left(2 q_{w} q_{x} + 2 q_{y} q_{z}\\right)\\right)}{w_{x} \\left(\\left(2 q_{w} q_{x} + 2 q_{y} q_{z}\\right)^{2} + \\left(q_{w}^{2} - q_{x}^{2} - q_{y}^{2} + q_{z}^{2}\\right)^{2}\\right)^{\\frac{3}{2}}} + \\frac{v \\left(\\frac{2 q_{w} \\left(- 2 q_{w} q_{x} - 2 q_{y} q_{z}\\right)}{\\left(2 q_{w} q_{x} + 2 q_{y} q_{z}\\right)^{2} + \\left(q_{w}^{2} - q_{x}^{2} - q_{y}^{2} + q_{z}^{2}\\right)^{2}} + \\frac{2 q_{x} \\left(q_{w}^{2} - q_{x}^{2} - q_{y}^{2} + q_{z}^{2}\\right)}{\\left(2 q_{w} q_{x} + 2 q_{y} q_{z}\\right)^{2} + \\left(q_{w}^{2} - q_{x}^{2} - q_{y}^{2} + q_{z}^{2}\\right)^{2}}\\right) \\cos{\\left(dt w_{x} + \\operatorname{atan}_{2}{\\left(2 q_{w} q_{x} + 2 q_{y} q_{z},q_{w}^{2} - q_{x}^{2} - q_{y}^{2} + q_{z}^{2} \\right)} \\right)}}{w_{x}} & - \\frac{2 q_{w} v}{w_{x} \\sqrt{\\left(2 q_{w} q_{x} + 2 q_{y} q_{z}\\right)^{2} + \\left(q_{w}^{2} - q_{x}^{2} - q_{y}^{2} + q_{z}^{2}\\right)^{2}}} - \\frac{v \\left(2 q_{w} q_{x} + 2 q_{y} q_{z}\\right) \\left(- 2 q_{w} \\left(2 q_{w} q_{x} + 2 q_{y} q_{z}\\right) + 2 q_{x} \\left(q_{w}^{2} - q_{x}^{2} - q_{y}^{2} + q_{z}^{2}\\right)\\right)}{w_{x} \\left(\\left(2 q_{w} q_{x} + 2 q_{y} q_{z}\\right)^{2} + \\left(q_{w}^{2} - q_{x}^{2} - q_{y}^{2} + q_{z}^{2}\\right)^{2}\\right)^{\\frac{3}{2}}} + \\frac{v \\left(\\frac{2 q_{w} \\left(q_{w}^{2} - q_{x}^{2} - q_{y}^{2} + q_{z}^{2}\\right)}{\\left(2 q_{w} q_{x} + 2 q_{y} q_{z}\\right)^{2} + \\left(q_{w}^{2} - q_{x}^{2} - q_{y}^{2} + q_{z}^{2}\\right)^{2}} - \\frac{2 q_{x} \\left(- 2 q_{w} q_{x} - 2 q_{y} q_{z}\\right)}{\\left(2 q_{w} q_{x} + 2 q_{y} q_{z}\\right)^{2} + \\left(q_{w}^{2} - q_{x}^{2} - q_{y}^{2} + q_{z}^{2}\\right)^{2}}\\right) \\cos{\\left(dt w_{x} + \\operatorname{atan}_{2}{\\left(2 q_{w} q_{x} + 2 q_{y} q_{z},q_{w}^{2} - q_{x}^{2} - q_{y}^{2} + q_{z}^{2} \\right)} \\right)}}{w_{x}} & - \\frac{2 q_{z} v}{w_{x} \\sqrt{\\left(2 q_{w} q_{x} + 2 q_{y} q_{z}\\right)^{2} + \\left(q_{w}^{2} - q_{x}^{2} - q_{y}^{2} + q_{z}^{2}\\right)^{2}}} - \\frac{v \\left(2 q_{w} q_{x} + 2 q_{y} q_{z}\\right) \\left(2 q_{y} \\left(q_{w}^{2} - q_{x}^{2} - q_{y}^{2} + q_{z}^{2}\\right) - 2 q_{z} \\left(2 q_{w} q_{x} + 2 q_{y} q_{z}\\right)\\right)}{w_{x} \\left(\\left(2 q_{w} q_{x} + 2 q_{y} q_{z}\\right)^{2} + \\left(q_{w}^{2} - q_{x}^{2} - q_{y}^{2} + q_{z}^{2}\\right)^{2}\\right)^{\\frac{3}{2}}} + \\frac{v \\left(- \\frac{2 q_{y} \\left(- 2 q_{w} q_{x} - 2 q_{y} q_{z}\\right)}{\\left(2 q_{w} q_{x} + 2 q_{y} q_{z}\\right)^{2} + \\left(q_{w}^{2} - q_{x}^{2} - q_{y}^{2} + q_{z}^{2}\\right)^{2}} + \\frac{2 q_{z} \\left(q_{w}^{2} - q_{x}^{2} - q_{y}^{2} + q_{z}^{2}\\right)}{\\left(2 q_{w} q_{x} + 2 q_{y} q_{z}\\right)^{2} + \\left(q_{w}^{2} - q_{x}^{2} - q_{y}^{2} + q_{z}^{2}\\right)^{2}}\\right) \\cos{\\left(dt w_{x} + \\operatorname{atan}_{2}{\\left(2 q_{w} q_{x} + 2 q_{y} q_{z},q_{w}^{2} - q_{x}^{2} - q_{y}^{2} + q_{z}^{2} \\right)} \\right)}}{w_{x}} & - \\frac{2 q_{y} v}{w_{x} \\sqrt{\\left(2 q_{w} q_{x} + 2 q_{y} q_{z}\\right)^{2} + \\left(q_{w}^{2} - q_{x}^{2} - q_{y}^{2} + q_{z}^{2}\\right)^{2}}} - \\frac{v \\left(2 q_{w} q_{x} + 2 q_{y} q_{z}\\right) \\left(- 2 q_{y} \\left(2 q_{w} q_{x} + 2 q_{y} q_{z}\\right) - 2 q_{z} \\left(q_{w}^{2} - q_{x}^{2} - q_{y}^{2} + q_{z}^{2}\\right)\\right)}{w_{x} \\left(\\left(2 q_{w} q_{x} + 2 q_{y} q_{z}\\right)^{2} + \\left(q_{w}^{2} - q_{x}^{2} - q_{y}^{2} + q_{z}^{2}\\right)^{2}\\right)^{\\frac{3}{2}}} + \\frac{v \\left(\\frac{2 q_{y} \\left(q_{w}^{2} - q_{x}^{2} - q_{y}^{2} + q_{z}^{2}\\right)}{\\left(2 q_{w} q_{x} + 2 q_{y} q_{z}\\right)^{2} + \\left(q_{w}^{2} - q_{x}^{2} - q_{y}^{2} + q_{z}^{2}\\right)^{2}} + \\frac{2 q_{z} \\left(- 2 q_{w} q_{x} - 2 q_{y} q_{z}\\right)}{\\left(2 q_{w} q_{x} + 2 q_{y} q_{z}\\right)^{2} + \\left(q_{w}^{2} - q_{x}^{2} - q_{y}^{2} + q_{z}^{2}\\right)^{2}}\\right) \\cos{\\left(dt w_{x} + \\operatorname{atan}_{2}{\\left(2 q_{w} q_{x} + 2 q_{y} q_{z},q_{w}^{2} - q_{x}^{2} - q_{y}^{2} + q_{z}^{2} \\right)} \\right)}}{w_{x}}\\\\0 & 0 & 0 & \\cos{\\left(\\frac{dt |w|}{2} \\right)} & \\frac{w_{z} \\sin{\\left(\\frac{dt |w|}{2} \\right)}}{|w|} & - \\frac{w_{y} \\sin{\\left(\\frac{dt |w|}{2} \\right)}}{|w|} & \\frac{w_{x} \\sin{\\left(\\frac{dt |w|}{2} \\right)}}{|w|}\\\\0 & 0 & 0 & - \\frac{w_{z} \\sin{\\left(\\frac{dt |w|}{2} \\right)}}{|w|} & \\cos{\\left(\\frac{dt |w|}{2} \\right)} & \\frac{w_{x} \\sin{\\left(\\frac{dt |w|}{2} \\right)}}{|w|} & \\frac{w_{y} \\sin{\\left(\\frac{dt |w|}{2} \\right)}}{|w|}\\\\0 & 0 & 0 & \\frac{w_{y} \\sin{\\left(\\frac{dt |w|}{2} \\right)}}{|w|} & - \\frac{w_{x} \\sin{\\left(\\frac{dt |w|}{2} \\right)}}{|w|} & \\cos{\\left(\\frac{dt |w|}{2} \\right)} & \\frac{w_{z} \\sin{\\left(\\frac{dt |w|}{2} \\right)}}{|w|}\\\\0 & 0 & 0 & - \\frac{w_{x} \\sin{\\left(\\frac{dt |w|}{2} \\right)}}{|w|} & - \\frac{w_{y} \\sin{\\left(\\frac{dt |w|}{2} \\right)}}{|w|} & - \\frac{w_{z} \\sin{\\left(\\frac{dt |w|}{2} \\right)}}{|w|} & \\cos{\\left(\\frac{dt |w|}{2} \\right)}\\end{matrix}\\right]$"
      ],
      "text/plain": [
       "Matrix([\n",
       "[1, 0, 0,            -2*q_{z}*v/(w_{z}*sqrt((2*q_{w}*q_{z} + 2*q_{x}*q_{y})**2 + (q_{w}**2 + q_{x}**2 - q_{y}**2 - q_{z}**2)**2)) - v*(2*q_{w}*q_{z} + 2*q_{x}*q_{y})*(-2*q_{w}*(q_{w}**2 + q_{x}**2 - q_{y}**2 - q_{z}**2) - 2*q_{z}*(2*q_{w}*q_{z} + 2*q_{x}*q_{y}))/(w_{z}*((2*q_{w}*q_{z} + 2*q_{x}*q_{y})**2 + (q_{w}**2 + q_{x}**2 - q_{y}**2 - q_{z}**2)**2)**(3/2)) + v*(2*q_{w}*(-2*q_{w}*q_{z} - 2*q_{x}*q_{y})/((2*q_{w}*q_{z} + 2*q_{x}*q_{y})**2 + (q_{w}**2 + q_{x}**2 - q_{y}**2 - q_{z}**2)**2) + 2*q_{z}*(q_{w}**2 + q_{x}**2 - q_{y}**2 - q_{z}**2)/((2*q_{w}*q_{z} + 2*q_{x}*q_{y})**2 + (q_{w}**2 + q_{x}**2 - q_{y}**2 - q_{z}**2)**2))*cos(dt*w_{z} + atan2(2*q_{w}*q_{z} + 2*q_{x}*q_{y}, q_{w}**2 + q_{x}**2 - q_{y}**2 - q_{z}**2))/w_{z},            -2*q_{y}*v/(w_{z}*sqrt((2*q_{w}*q_{z} + 2*q_{x}*q_{y})**2 + (q_{w}**2 + q_{x}**2 - q_{y}**2 - q_{z}**2)**2)) - v*(2*q_{w}*q_{z} + 2*q_{x}*q_{y})*(-2*q_{x}*(q_{w}**2 + q_{x}**2 - q_{y}**2 - q_{z}**2) - 2*q_{y}*(2*q_{w}*q_{z} + 2*q_{x}*q_{y}))/(w_{z}*((2*q_{w}*q_{z} + 2*q_{x}*q_{y})**2 + (q_{w}**2 + q_{x}**2 - q_{y}**2 - q_{z}**2)**2)**(3/2)) + v*(2*q_{x}*(-2*q_{w}*q_{z} - 2*q_{x}*q_{y})/((2*q_{w}*q_{z} + 2*q_{x}*q_{y})**2 + (q_{w}**2 + q_{x}**2 - q_{y}**2 - q_{z}**2)**2) + 2*q_{y}*(q_{w}**2 + q_{x}**2 - q_{y}**2 - q_{z}**2)/((2*q_{w}*q_{z} + 2*q_{x}*q_{y})**2 + (q_{w}**2 + q_{x}**2 - q_{y}**2 - q_{z}**2)**2))*cos(dt*w_{z} + atan2(2*q_{w}*q_{z} + 2*q_{x}*q_{y}, q_{w}**2 + q_{x}**2 - q_{y}**2 - q_{z}**2))/w_{z},             -2*q_{x}*v/(w_{z}*sqrt((2*q_{w}*q_{z} + 2*q_{x}*q_{y})**2 + (q_{w}**2 + q_{x}**2 - q_{y}**2 - q_{z}**2)**2)) - v*(2*q_{w}*q_{z} + 2*q_{x}*q_{y})*(-2*q_{x}*(2*q_{w}*q_{z} + 2*q_{x}*q_{y}) + 2*q_{y}*(q_{w}**2 + q_{x}**2 - q_{y}**2 - q_{z}**2))/(w_{z}*((2*q_{w}*q_{z} + 2*q_{x}*q_{y})**2 + (q_{w}**2 + q_{x}**2 - q_{y}**2 - q_{z}**2)**2)**(3/2)) + v*(2*q_{x}*(q_{w}**2 + q_{x}**2 - q_{y}**2 - q_{z}**2)/((2*q_{w}*q_{z} + 2*q_{x}*q_{y})**2 + (q_{w}**2 + q_{x}**2 - q_{y}**2 - q_{z}**2)**2) - 2*q_{y}*(-2*q_{w}*q_{z} - 2*q_{x}*q_{y})/((2*q_{w}*q_{z} + 2*q_{x}*q_{y})**2 + (q_{w}**2 + q_{x}**2 - q_{y}**2 - q_{z}**2)**2))*cos(dt*w_{z} + atan2(2*q_{w}*q_{z} + 2*q_{x}*q_{y}, q_{w}**2 + q_{x}**2 - q_{y}**2 - q_{z}**2))/w_{z},             -2*q_{w}*v/(w_{z}*sqrt((2*q_{w}*q_{z} + 2*q_{x}*q_{y})**2 + (q_{w}**2 + q_{x}**2 - q_{y}**2 - q_{z}**2)**2)) - v*(2*q_{w}*q_{z} + 2*q_{x}*q_{y})*(-2*q_{w}*(2*q_{w}*q_{z} + 2*q_{x}*q_{y}) + 2*q_{z}*(q_{w}**2 + q_{x}**2 - q_{y}**2 - q_{z}**2))/(w_{z}*((2*q_{w}*q_{z} + 2*q_{x}*q_{y})**2 + (q_{w}**2 + q_{x}**2 - q_{y}**2 - q_{z}**2)**2)**(3/2)) + v*(2*q_{w}*(q_{w}**2 + q_{x}**2 - q_{y}**2 - q_{z}**2)/((2*q_{w}*q_{z} + 2*q_{x}*q_{y})**2 + (q_{w}**2 + q_{x}**2 - q_{y}**2 - q_{z}**2)**2) - 2*q_{z}*(-2*q_{w}*q_{z} - 2*q_{x}*q_{y})/((2*q_{w}*q_{z} + 2*q_{x}*q_{y})**2 + (q_{w}**2 + q_{x}**2 - q_{y}**2 - q_{z}**2)**2))*cos(dt*w_{z} + atan2(2*q_{w}*q_{z} + 2*q_{x}*q_{y}, q_{w}**2 + q_{x}**2 - q_{y}**2 - q_{z}**2))/w_{z}],\n",
       "[0, 1, 0, 2*q_{w}*v/(w_{z}*sqrt((2*q_{w}*q_{z} + 2*q_{x}*q_{y})**2 + (q_{w}**2 + q_{x}**2 - q_{y}**2 - q_{z}**2)**2)) + v*(-2*q_{w}*(q_{w}**2 + q_{x}**2 - q_{y}**2 - q_{z}**2) - 2*q_{z}*(2*q_{w}*q_{z} + 2*q_{x}*q_{y}))*(q_{w}**2 + q_{x}**2 - q_{y}**2 - q_{z}**2)/(w_{z}*((2*q_{w}*q_{z} + 2*q_{x}*q_{y})**2 + (q_{w}**2 + q_{x}**2 - q_{y}**2 - q_{z}**2)**2)**(3/2)) + v*(2*q_{w}*(-2*q_{w}*q_{z} - 2*q_{x}*q_{y})/((2*q_{w}*q_{z} + 2*q_{x}*q_{y})**2 + (q_{w}**2 + q_{x}**2 - q_{y}**2 - q_{z}**2)**2) + 2*q_{z}*(q_{w}**2 + q_{x}**2 - q_{y}**2 - q_{z}**2)/((2*q_{w}*q_{z} + 2*q_{x}*q_{y})**2 + (q_{w}**2 + q_{x}**2 - q_{y}**2 - q_{z}**2)**2))*sin(dt*w_{z} + atan2(2*q_{w}*q_{z} + 2*q_{x}*q_{y}, q_{w}**2 + q_{x}**2 - q_{y}**2 - q_{z}**2))/w_{z}, 2*q_{x}*v/(w_{z}*sqrt((2*q_{w}*q_{z} + 2*q_{x}*q_{y})**2 + (q_{w}**2 + q_{x}**2 - q_{y}**2 - q_{z}**2)**2)) + v*(-2*q_{x}*(q_{w}**2 + q_{x}**2 - q_{y}**2 - q_{z}**2) - 2*q_{y}*(2*q_{w}*q_{z} + 2*q_{x}*q_{y}))*(q_{w}**2 + q_{x}**2 - q_{y}**2 - q_{z}**2)/(w_{z}*((2*q_{w}*q_{z} + 2*q_{x}*q_{y})**2 + (q_{w}**2 + q_{x}**2 - q_{y}**2 - q_{z}**2)**2)**(3/2)) + v*(2*q_{x}*(-2*q_{w}*q_{z} - 2*q_{x}*q_{y})/((2*q_{w}*q_{z} + 2*q_{x}*q_{y})**2 + (q_{w}**2 + q_{x}**2 - q_{y}**2 - q_{z}**2)**2) + 2*q_{y}*(q_{w}**2 + q_{x}**2 - q_{y}**2 - q_{z}**2)/((2*q_{w}*q_{z} + 2*q_{x}*q_{y})**2 + (q_{w}**2 + q_{x}**2 - q_{y}**2 - q_{z}**2)**2))*sin(dt*w_{z} + atan2(2*q_{w}*q_{z} + 2*q_{x}*q_{y}, q_{w}**2 + q_{x}**2 - q_{y}**2 - q_{z}**2))/w_{z}, -2*q_{y}*v/(w_{z}*sqrt((2*q_{w}*q_{z} + 2*q_{x}*q_{y})**2 + (q_{w}**2 + q_{x}**2 - q_{y}**2 - q_{z}**2)**2)) + v*(-2*q_{x}*(2*q_{w}*q_{z} + 2*q_{x}*q_{y}) + 2*q_{y}*(q_{w}**2 + q_{x}**2 - q_{y}**2 - q_{z}**2))*(q_{w}**2 + q_{x}**2 - q_{y}**2 - q_{z}**2)/(w_{z}*((2*q_{w}*q_{z} + 2*q_{x}*q_{y})**2 + (q_{w}**2 + q_{x}**2 - q_{y}**2 - q_{z}**2)**2)**(3/2)) + v*(2*q_{x}*(q_{w}**2 + q_{x}**2 - q_{y}**2 - q_{z}**2)/((2*q_{w}*q_{z} + 2*q_{x}*q_{y})**2 + (q_{w}**2 + q_{x}**2 - q_{y}**2 - q_{z}**2)**2) - 2*q_{y}*(-2*q_{w}*q_{z} - 2*q_{x}*q_{y})/((2*q_{w}*q_{z} + 2*q_{x}*q_{y})**2 + (q_{w}**2 + q_{x}**2 - q_{y}**2 - q_{z}**2)**2))*sin(dt*w_{z} + atan2(2*q_{w}*q_{z} + 2*q_{x}*q_{y}, q_{w}**2 + q_{x}**2 - q_{y}**2 - q_{z}**2))/w_{z}, -2*q_{z}*v/(w_{z}*sqrt((2*q_{w}*q_{z} + 2*q_{x}*q_{y})**2 + (q_{w}**2 + q_{x}**2 - q_{y}**2 - q_{z}**2)**2)) + v*(-2*q_{w}*(2*q_{w}*q_{z} + 2*q_{x}*q_{y}) + 2*q_{z}*(q_{w}**2 + q_{x}**2 - q_{y}**2 - q_{z}**2))*(q_{w}**2 + q_{x}**2 - q_{y}**2 - q_{z}**2)/(w_{z}*((2*q_{w}*q_{z} + 2*q_{x}*q_{y})**2 + (q_{w}**2 + q_{x}**2 - q_{y}**2 - q_{z}**2)**2)**(3/2)) + v*(2*q_{w}*(q_{w}**2 + q_{x}**2 - q_{y}**2 - q_{z}**2)/((2*q_{w}*q_{z} + 2*q_{x}*q_{y})**2 + (q_{w}**2 + q_{x}**2 - q_{y}**2 - q_{z}**2)**2) - 2*q_{z}*(-2*q_{w}*q_{z} - 2*q_{x}*q_{y})/((2*q_{w}*q_{z} + 2*q_{x}*q_{y})**2 + (q_{w}**2 + q_{x}**2 - q_{y}**2 - q_{z}**2)**2))*sin(dt*w_{z} + atan2(2*q_{w}*q_{z} + 2*q_{x}*q_{y}, q_{w}**2 + q_{x}**2 - q_{y}**2 - q_{z}**2))/w_{z}],\n",
       "[0, 0, 1,            -2*q_{x}*v/(w_{x}*sqrt((2*q_{w}*q_{x} + 2*q_{y}*q_{z})**2 + (q_{w}**2 - q_{x}**2 - q_{y}**2 + q_{z}**2)**2)) - v*(2*q_{w}*q_{x} + 2*q_{y}*q_{z})*(-2*q_{w}*(q_{w}**2 - q_{x}**2 - q_{y}**2 + q_{z}**2) - 2*q_{x}*(2*q_{w}*q_{x} + 2*q_{y}*q_{z}))/(w_{x}*((2*q_{w}*q_{x} + 2*q_{y}*q_{z})**2 + (q_{w}**2 - q_{x}**2 - q_{y}**2 + q_{z}**2)**2)**(3/2)) + v*(2*q_{w}*(-2*q_{w}*q_{x} - 2*q_{y}*q_{z})/((2*q_{w}*q_{x} + 2*q_{y}*q_{z})**2 + (q_{w}**2 - q_{x}**2 - q_{y}**2 + q_{z}**2)**2) + 2*q_{x}*(q_{w}**2 - q_{x}**2 - q_{y}**2 + q_{z}**2)/((2*q_{w}*q_{x} + 2*q_{y}*q_{z})**2 + (q_{w}**2 - q_{x}**2 - q_{y}**2 + q_{z}**2)**2))*cos(dt*w_{x} + atan2(2*q_{w}*q_{x} + 2*q_{y}*q_{z}, q_{w}**2 - q_{x}**2 - q_{y}**2 + q_{z}**2))/w_{x},            -2*q_{w}*v/(w_{x}*sqrt((2*q_{w}*q_{x} + 2*q_{y}*q_{z})**2 + (q_{w}**2 - q_{x}**2 - q_{y}**2 + q_{z}**2)**2)) - v*(2*q_{w}*q_{x} + 2*q_{y}*q_{z})*(-2*q_{w}*(2*q_{w}*q_{x} + 2*q_{y}*q_{z}) + 2*q_{x}*(q_{w}**2 - q_{x}**2 - q_{y}**2 + q_{z}**2))/(w_{x}*((2*q_{w}*q_{x} + 2*q_{y}*q_{z})**2 + (q_{w}**2 - q_{x}**2 - q_{y}**2 + q_{z}**2)**2)**(3/2)) + v*(2*q_{w}*(q_{w}**2 - q_{x}**2 - q_{y}**2 + q_{z}**2)/((2*q_{w}*q_{x} + 2*q_{y}*q_{z})**2 + (q_{w}**2 - q_{x}**2 - q_{y}**2 + q_{z}**2)**2) - 2*q_{x}*(-2*q_{w}*q_{x} - 2*q_{y}*q_{z})/((2*q_{w}*q_{x} + 2*q_{y}*q_{z})**2 + (q_{w}**2 - q_{x}**2 - q_{y}**2 + q_{z}**2)**2))*cos(dt*w_{x} + atan2(2*q_{w}*q_{x} + 2*q_{y}*q_{z}, q_{w}**2 - q_{x}**2 - q_{y}**2 + q_{z}**2))/w_{x},             -2*q_{z}*v/(w_{x}*sqrt((2*q_{w}*q_{x} + 2*q_{y}*q_{z})**2 + (q_{w}**2 - q_{x}**2 - q_{y}**2 + q_{z}**2)**2)) - v*(2*q_{w}*q_{x} + 2*q_{y}*q_{z})*(2*q_{y}*(q_{w}**2 - q_{x}**2 - q_{y}**2 + q_{z}**2) - 2*q_{z}*(2*q_{w}*q_{x} + 2*q_{y}*q_{z}))/(w_{x}*((2*q_{w}*q_{x} + 2*q_{y}*q_{z})**2 + (q_{w}**2 - q_{x}**2 - q_{y}**2 + q_{z}**2)**2)**(3/2)) + v*(-2*q_{y}*(-2*q_{w}*q_{x} - 2*q_{y}*q_{z})/((2*q_{w}*q_{x} + 2*q_{y}*q_{z})**2 + (q_{w}**2 - q_{x}**2 - q_{y}**2 + q_{z}**2)**2) + 2*q_{z}*(q_{w}**2 - q_{x}**2 - q_{y}**2 + q_{z}**2)/((2*q_{w}*q_{x} + 2*q_{y}*q_{z})**2 + (q_{w}**2 - q_{x}**2 - q_{y}**2 + q_{z}**2)**2))*cos(dt*w_{x} + atan2(2*q_{w}*q_{x} + 2*q_{y}*q_{z}, q_{w}**2 - q_{x}**2 - q_{y}**2 + q_{z}**2))/w_{x},             -2*q_{y}*v/(w_{x}*sqrt((2*q_{w}*q_{x} + 2*q_{y}*q_{z})**2 + (q_{w}**2 - q_{x}**2 - q_{y}**2 + q_{z}**2)**2)) - v*(2*q_{w}*q_{x} + 2*q_{y}*q_{z})*(-2*q_{y}*(2*q_{w}*q_{x} + 2*q_{y}*q_{z}) - 2*q_{z}*(q_{w}**2 - q_{x}**2 - q_{y}**2 + q_{z}**2))/(w_{x}*((2*q_{w}*q_{x} + 2*q_{y}*q_{z})**2 + (q_{w}**2 - q_{x}**2 - q_{y}**2 + q_{z}**2)**2)**(3/2)) + v*(2*q_{y}*(q_{w}**2 - q_{x}**2 - q_{y}**2 + q_{z}**2)/((2*q_{w}*q_{x} + 2*q_{y}*q_{z})**2 + (q_{w}**2 - q_{x}**2 - q_{y}**2 + q_{z}**2)**2) + 2*q_{z}*(-2*q_{w}*q_{x} - 2*q_{y}*q_{z})/((2*q_{w}*q_{x} + 2*q_{y}*q_{z})**2 + (q_{w}**2 - q_{x}**2 - q_{y}**2 + q_{z}**2)**2))*cos(dt*w_{x} + atan2(2*q_{w}*q_{x} + 2*q_{y}*q_{z}, q_{w}**2 - q_{x}**2 - q_{y}**2 + q_{z}**2))/w_{x}],\n",
       "[0, 0, 0,                                                                                                                                                                                                                                                                                                                                                                                                                                                                                                                                                                                                                                                                                                                                            cos(dt*|w|/2),                                                                                                                                                                                                                                                                                                                                                                                                                                                                                                                                                                                                                                                                                                                                  w_{z}*sin(dt*|w|/2)/|w|,                                                                                                                                                                                                                                                                                                                                                                                                                                                                                                                                                                                                                                                                                                                                  -w_{y}*sin(dt*|w|/2)/|w|,                                                                                                                                                                                                                                                                                                                                                                                                                                                                                                                                                                                                                                                                                                                                   w_{x}*sin(dt*|w|/2)/|w|],\n",
       "[0, 0, 0,                                                                                                                                                                                                                                                                                                                                                                                                                                                                                                                                                                                                                                                                                                                                 -w_{z}*sin(dt*|w|/2)/|w|,                                                                                                                                                                                                                                                                                                                                                                                                                                                                                                                                                                                                                                                                                                                                            cos(dt*|w|/2),                                                                                                                                                                                                                                                                                                                                                                                                                                                                                                                                                                                                                                                                                                                                   w_{x}*sin(dt*|w|/2)/|w|,                                                                                                                                                                                                                                                                                                                                                                                                                                                                                                                                                                                                                                                                                                                                   w_{y}*sin(dt*|w|/2)/|w|],\n",
       "[0, 0, 0,                                                                                                                                                                                                                                                                                                                                                                                                                                                                                                                                                                                                                                                                                                                                  w_{y}*sin(dt*|w|/2)/|w|,                                                                                                                                                                                                                                                                                                                                                                                                                                                                                                                                                                                                                                                                                                                                 -w_{x}*sin(dt*|w|/2)/|w|,                                                                                                                                                                                                                                                                                                                                                                                                                                                                                                                                                                                                                                                                                                                                             cos(dt*|w|/2),                                                                                                                                                                                                                                                                                                                                                                                                                                                                                                                                                                                                                                                                                                                                   w_{z}*sin(dt*|w|/2)/|w|],\n",
       "[0, 0, 0,                                                                                                                                                                                                                                                                                                                                                                                                                                                                                                                                                                                                                                                                                                                                 -w_{x}*sin(dt*|w|/2)/|w|,                                                                                                                                                                                                                                                                                                                                                                                                                                                                                                                                                                                                                                                                                                                                 -w_{y}*sin(dt*|w|/2)/|w|,                                                                                                                                                                                                                                                                                                                                                                                                                                                                                                                                                                                                                                                                                                                                  -w_{z}*sin(dt*|w|/2)/|w|,                                                                                                                                                                                                                                                                                                                                                                                                                                                                                                                                                                                                                                                                                                                                             cos(dt*|w|/2)]])"
      ]
     },
     "execution_count": 21,
     "metadata": {},
     "output_type": "execute_result"
    }
   ],
   "source": [
    "F = fxu.jacobian(state_x)\n",
    "F"
   ]
  },
  {
   "cell_type": "code",
   "execution_count": 22,
   "id": "22d8d7b5-a6e1-4d92-b0c8-19531e72076d",
   "metadata": {},
   "outputs": [
    {
     "data": {
      "text/latex": [
       "$\\displaystyle \\left[\\begin{matrix}- \\frac{2 q_{w} q_{z} + 2 q_{x} q_{y}}{w_{z} \\sqrt{\\left(2 q_{w} q_{z} + 2 q_{x} q_{y}\\right)^{2} + \\left(q_{w}^{2} + q_{x}^{2} - q_{y}^{2} - q_{z}^{2}\\right)^{2}}} + \\frac{\\sin{\\left(dt w_{z} + \\operatorname{atan}_{2}{\\left(2 q_{w} q_{z} + 2 q_{x} q_{y},q_{w}^{2} + q_{x}^{2} - q_{y}^{2} - q_{z}^{2} \\right)} \\right)}}{w_{z}} & 0 & 0 & \\frac{dt v \\cos{\\left(dt w_{z} + \\operatorname{atan}_{2}{\\left(2 q_{w} q_{z} + 2 q_{x} q_{y},q_{w}^{2} + q_{x}^{2} - q_{y}^{2} - q_{z}^{2} \\right)} \\right)}}{w_{z}} + \\frac{v \\left(2 q_{w} q_{z} + 2 q_{x} q_{y}\\right)}{w_{z}^{2} \\sqrt{\\left(2 q_{w} q_{z} + 2 q_{x} q_{y}\\right)^{2} + \\left(q_{w}^{2} + q_{x}^{2} - q_{y}^{2} - q_{z}^{2}\\right)^{2}}} - \\frac{v \\sin{\\left(dt w_{z} + \\operatorname{atan}_{2}{\\left(2 q_{w} q_{z} + 2 q_{x} q_{y},q_{w}^{2} + q_{x}^{2} - q_{y}^{2} - q_{z}^{2} \\right)} \\right)}}{w_{z}^{2}}\\\\- \\frac{\\cos{\\left(dt w_{z} + \\operatorname{atan}_{2}{\\left(2 q_{w} q_{z} + 2 q_{x} q_{y},q_{w}^{2} + q_{x}^{2} - q_{y}^{2} - q_{z}^{2} \\right)} \\right)}}{w_{z}} + \\frac{q_{w}^{2} + q_{x}^{2} - q_{y}^{2} - q_{z}^{2}}{w_{z} \\sqrt{\\left(2 q_{w} q_{z} + 2 q_{x} q_{y}\\right)^{2} + \\left(q_{w}^{2} + q_{x}^{2} - q_{y}^{2} - q_{z}^{2}\\right)^{2}}} & 0 & 0 & \\frac{dt v \\sin{\\left(dt w_{z} + \\operatorname{atan}_{2}{\\left(2 q_{w} q_{z} + 2 q_{x} q_{y},q_{w}^{2} + q_{x}^{2} - q_{y}^{2} - q_{z}^{2} \\right)} \\right)}}{w_{z}} + \\frac{v \\cos{\\left(dt w_{z} + \\operatorname{atan}_{2}{\\left(2 q_{w} q_{z} + 2 q_{x} q_{y},q_{w}^{2} + q_{x}^{2} - q_{y}^{2} - q_{z}^{2} \\right)} \\right)}}{w_{z}^{2}} - \\frac{v \\left(q_{w}^{2} + q_{x}^{2} - q_{y}^{2} - q_{z}^{2}\\right)}{w_{z}^{2} \\sqrt{\\left(2 q_{w} q_{z} + 2 q_{x} q_{y}\\right)^{2} + \\left(q_{w}^{2} + q_{x}^{2} - q_{y}^{2} - q_{z}^{2}\\right)^{2}}}\\\\- \\frac{2 q_{w} q_{x} + 2 q_{y} q_{z}}{w_{x} \\sqrt{\\left(2 q_{w} q_{x} + 2 q_{y} q_{z}\\right)^{2} + \\left(q_{w}^{2} - q_{x}^{2} - q_{y}^{2} + q_{z}^{2}\\right)^{2}}} + \\frac{\\sin{\\left(dt w_{x} + \\operatorname{atan}_{2}{\\left(2 q_{w} q_{x} + 2 q_{y} q_{z},q_{w}^{2} - q_{x}^{2} - q_{y}^{2} + q_{z}^{2} \\right)} \\right)}}{w_{x}} & \\frac{dt v \\cos{\\left(dt w_{x} + \\operatorname{atan}_{2}{\\left(2 q_{w} q_{x} + 2 q_{y} q_{z},q_{w}^{2} - q_{x}^{2} - q_{y}^{2} + q_{z}^{2} \\right)} \\right)}}{w_{x}} + \\frac{v \\left(2 q_{w} q_{x} + 2 q_{y} q_{z}\\right)}{w_{x}^{2} \\sqrt{\\left(2 q_{w} q_{x} + 2 q_{y} q_{z}\\right)^{2} + \\left(q_{w}^{2} - q_{x}^{2} - q_{y}^{2} + q_{z}^{2}\\right)^{2}}} - \\frac{v \\sin{\\left(dt w_{x} + \\operatorname{atan}_{2}{\\left(2 q_{w} q_{x} + 2 q_{y} q_{z},q_{w}^{2} - q_{x}^{2} - q_{y}^{2} + q_{z}^{2} \\right)} \\right)}}{w_{x}^{2}} & 0 & 0\\\\0 & \\frac{q_{z} \\sin{\\left(\\frac{dt |w|}{2} \\right)}}{|w|} & - \\frac{q_{y} \\sin{\\left(\\frac{dt |w|}{2} \\right)}}{|w|} & \\frac{q_{x} \\sin{\\left(\\frac{dt |w|}{2} \\right)}}{|w|}\\\\0 & \\frac{q_{y} \\sin{\\left(\\frac{dt |w|}{2} \\right)}}{|w|} & \\frac{q_{z} \\sin{\\left(\\frac{dt |w|}{2} \\right)}}{|w|} & - \\frac{q_{w} \\sin{\\left(\\frac{dt |w|}{2} \\right)}}{|w|}\\\\0 & - \\frac{q_{x} \\sin{\\left(\\frac{dt |w|}{2} \\right)}}{|w|} & \\frac{q_{w} \\sin{\\left(\\frac{dt |w|}{2} \\right)}}{|w|} & \\frac{q_{z} \\sin{\\left(\\frac{dt |w|}{2} \\right)}}{|w|}\\\\0 & - \\frac{q_{w} \\sin{\\left(\\frac{dt |w|}{2} \\right)}}{|w|} & - \\frac{q_{x} \\sin{\\left(\\frac{dt |w|}{2} \\right)}}{|w|} & - \\frac{q_{y} \\sin{\\left(\\frac{dt |w|}{2} \\right)}}{|w|}\\end{matrix}\\right]$"
      ],
      "text/plain": [
       "Matrix([\n",
       "[            -(2*q_{w}*q_{z} + 2*q_{x}*q_{y})/(w_{z}*sqrt((2*q_{w}*q_{z} + 2*q_{x}*q_{y})**2 + (q_{w}**2 + q_{x}**2 - q_{y}**2 - q_{z}**2)**2)) + sin(dt*w_{z} + atan2(2*q_{w}*q_{z} + 2*q_{x}*q_{y}, q_{w}**2 + q_{x}**2 - q_{y}**2 - q_{z}**2))/w_{z},                                                                                                                                                                                                                                                                                                                                                                0,                        0,             dt*v*cos(dt*w_{z} + atan2(2*q_{w}*q_{z} + 2*q_{x}*q_{y}, q_{w}**2 + q_{x}**2 - q_{y}**2 - q_{z}**2))/w_{z} + v*(2*q_{w}*q_{z} + 2*q_{x}*q_{y})/(w_{z}**2*sqrt((2*q_{w}*q_{z} + 2*q_{x}*q_{y})**2 + (q_{w}**2 + q_{x}**2 - q_{y}**2 - q_{z}**2)**2)) - v*sin(dt*w_{z} + atan2(2*q_{w}*q_{z} + 2*q_{x}*q_{y}, q_{w}**2 + q_{x}**2 - q_{y}**2 - q_{z}**2))/w_{z}**2],\n",
       "[-cos(dt*w_{z} + atan2(2*q_{w}*q_{z} + 2*q_{x}*q_{y}, q_{w}**2 + q_{x}**2 - q_{y}**2 - q_{z}**2))/w_{z} + (q_{w}**2 + q_{x}**2 - q_{y}**2 - q_{z}**2)/(w_{z}*sqrt((2*q_{w}*q_{z} + 2*q_{x}*q_{y})**2 + (q_{w}**2 + q_{x}**2 - q_{y}**2 - q_{z}**2)**2)),                                                                                                                                                                                                                                                                                                                                                                0,                        0, dt*v*sin(dt*w_{z} + atan2(2*q_{w}*q_{z} + 2*q_{x}*q_{y}, q_{w}**2 + q_{x}**2 - q_{y}**2 - q_{z}**2))/w_{z} + v*cos(dt*w_{z} + atan2(2*q_{w}*q_{z} + 2*q_{x}*q_{y}, q_{w}**2 + q_{x}**2 - q_{y}**2 - q_{z}**2))/w_{z}**2 - v*(q_{w}**2 + q_{x}**2 - q_{y}**2 - q_{z}**2)/(w_{z}**2*sqrt((2*q_{w}*q_{z} + 2*q_{x}*q_{y})**2 + (q_{w}**2 + q_{x}**2 - q_{y}**2 - q_{z}**2)**2))],\n",
       "[            -(2*q_{w}*q_{x} + 2*q_{y}*q_{z})/(w_{x}*sqrt((2*q_{w}*q_{x} + 2*q_{y}*q_{z})**2 + (q_{w}**2 - q_{x}**2 - q_{y}**2 + q_{z}**2)**2)) + sin(dt*w_{x} + atan2(2*q_{w}*q_{x} + 2*q_{y}*q_{z}, q_{w}**2 - q_{x}**2 - q_{y}**2 + q_{z}**2))/w_{x}, dt*v*cos(dt*w_{x} + atan2(2*q_{w}*q_{x} + 2*q_{y}*q_{z}, q_{w}**2 - q_{x}**2 - q_{y}**2 + q_{z}**2))/w_{x} + v*(2*q_{w}*q_{x} + 2*q_{y}*q_{z})/(w_{x}**2*sqrt((2*q_{w}*q_{x} + 2*q_{y}*q_{z})**2 + (q_{w}**2 - q_{x}**2 - q_{y}**2 + q_{z}**2)**2)) - v*sin(dt*w_{x} + atan2(2*q_{w}*q_{x} + 2*q_{y}*q_{z}, q_{w}**2 - q_{x}**2 - q_{y}**2 + q_{z}**2))/w_{x}**2,                        0,                                                                                                                                                                                                                                                                                                                                                                            0],\n",
       "[                                                                                                                                                                                                                                                     0,                                                                                                                                                                                                                                                                                                                                          q_{z}*sin(dt*|w|/2)/|w|, -q_{y}*sin(dt*|w|/2)/|w|,                                                                                                                                                                                                                                                                                                                                                      q_{x}*sin(dt*|w|/2)/|w|],\n",
       "[                                                                                                                                                                                                                                                     0,                                                                                                                                                                                                                                                                                                                                          q_{y}*sin(dt*|w|/2)/|w|,  q_{z}*sin(dt*|w|/2)/|w|,                                                                                                                                                                                                                                                                                                                                                     -q_{w}*sin(dt*|w|/2)/|w|],\n",
       "[                                                                                                                                                                                                                                                     0,                                                                                                                                                                                                                                                                                                                                         -q_{x}*sin(dt*|w|/2)/|w|,  q_{w}*sin(dt*|w|/2)/|w|,                                                                                                                                                                                                                                                                                                                                                      q_{z}*sin(dt*|w|/2)/|w|],\n",
       "[                                                                                                                                                                                                                                                     0,                                                                                                                                                                                                                                                                                                                                         -q_{w}*sin(dt*|w|/2)/|w|, -q_{x}*sin(dt*|w|/2)/|w|,                                                                                                                                                                                                                                                                                                                                                     -q_{y}*sin(dt*|w|/2)/|w|]])"
      ]
     },
     "execution_count": 22,
     "metadata": {},
     "output_type": "execute_result"
    }
   ],
   "source": [
    "G = fxu.jacobian(control_input)\n",
    "G"
   ]
  },
  {
   "cell_type": "code",
   "execution_count": 24,
   "id": "df2f4146-d646-44e8-a015-d9506e490af5",
   "metadata": {},
   "outputs": [
    {
     "data": {
      "text/plain": [
       "array([[ 0.09983342],\n",
       "       [ 0.00499583],\n",
       "       [ 0.09983342],\n",
       "       [ 0.99625234],\n",
       "       [-0.04993752],\n",
       "       [ 0.04993752],\n",
       "       [-0.04993752]])"
      ]
     },
     "execution_count": 24,
     "metadata": {},
     "output_type": "execute_result"
    }
   ],
   "source": [
    "values = {\n",
    "    px: 0,\n",
    "    py: 0,\n",
    "    pz: 0,\n",
    "    qw: 1,\n",
    "    qx: 0,\n",
    "    qy: 0,\n",
    "    qz: 0,\n",
    "    v: 1,\n",
    "    wx: 1,\n",
    "    wy: 1,\n",
    "    wz: 1,\n",
    "    dt: 0.1,\n",
    "    norm_w: np.sqrt(1+1+1)\n",
    "}\n",
    "\n",
    "x_ = np.array(fxu.evalf(subs=values)).astype(float)\n",
    "x_"
   ]
  },
  {
   "cell_type": "markdown",
   "id": "5ca1b379-c5aa-40b3-b594-0460ec6708ce",
   "metadata": {},
   "source": [
    "## when pitch = + pi/2 radian"
   ]
  },
  {
   "cell_type": "markdown",
   "id": "84506f71-0c21-4d7b-8e9f-ee6f15935d7d",
   "metadata": {},
   "source": [
    "https://danceswithcode.net/engineeringnotes/quaternions/quaternions.html"
   ]
  },
  {
   "cell_type": "code",
   "execution_count": 26,
   "id": "374c4c8a-6c17-462b-af8d-c27631eb4a60",
   "metadata": {},
   "outputs": [],
   "source": [
    "phi = 0\n",
    "theta = sympy.asin(2*(qw*qy - qx*qz))\n",
    "psi = -2*sympy.atan2(qx, qw)\n",
    "\n",
    "A = sympy.cos(norm_w*dt/2) * sympy.eye(4)\n",
    "B = (1/norm_w)*sympy.sin(norm_w*dt/2)\n",
    "q_t = Matrix([\n",
    "    [qw],\n",
    "    [qx],\n",
    "    [qy],\n",
    "    [qz]\n",
    "])\n",
    "fxu = Matrix([\n",
    "    [px - v*sympy.sin(psi)/wz + v*sympy.sin(psi + wz*dt)/wz],\n",
    "    [py + v*sympy.cos(psi)/wz - v*sympy.cos(psi + wz*dt)/wz],\n",
    "    [pz - v*sympy.sin(phi)/wx + v*sympy.sin(phi + wx*dt)/wx],\n",
    "    [(A + B * Omega) * q_t]\n",
    "])\n",
    "F = fxu.jacobian(state_x)\n",
    "G = fxu.jacobian(control_input)"
   ]
  },
  {
   "cell_type": "code",
   "execution_count": 27,
   "id": "4002f38b-2482-4b63-b523-99086ccd4316",
   "metadata": {},
   "outputs": [
    {
     "data": {
      "text/latex": [
       "$\\displaystyle \\left[\\begin{matrix}p_{x} + \\frac{v \\sin{\\left(dt w_{z} - 2 \\operatorname{atan}_{2}{\\left(q_{x},q_{w} \\right)} \\right)}}{w_{z}} + \\frac{v \\sin{\\left(2 \\operatorname{atan}_{2}{\\left(q_{x},q_{w} \\right)} \\right)}}{w_{z}}\\\\p_{y} - \\frac{v \\cos{\\left(dt w_{z} - 2 \\operatorname{atan}_{2}{\\left(q_{x},q_{w} \\right)} \\right)}}{w_{z}} + \\frac{v \\cos{\\left(2 \\operatorname{atan}_{2}{\\left(q_{x},q_{w} \\right)} \\right)}}{w_{z}}\\\\p_{z} + \\frac{v \\sin{\\left(dt w_{x} \\right)}}{w_{x}}\\\\q_{w} \\cos{\\left(\\frac{dt |w|}{2} \\right)} + \\frac{q_{x} w_{z} \\sin{\\left(\\frac{dt |w|}{2} \\right)}}{|w|} - \\frac{q_{y} w_{y} \\sin{\\left(\\frac{dt |w|}{2} \\right)}}{|w|} + \\frac{q_{z} w_{x} \\sin{\\left(\\frac{dt |w|}{2} \\right)}}{|w|}\\\\- \\frac{q_{w} w_{z} \\sin{\\left(\\frac{dt |w|}{2} \\right)}}{|w|} + q_{x} \\cos{\\left(\\frac{dt |w|}{2} \\right)} + \\frac{q_{y} w_{x} \\sin{\\left(\\frac{dt |w|}{2} \\right)}}{|w|} + \\frac{q_{z} w_{y} \\sin{\\left(\\frac{dt |w|}{2} \\right)}}{|w|}\\\\\\frac{q_{w} w_{y} \\sin{\\left(\\frac{dt |w|}{2} \\right)}}{|w|} - \\frac{q_{x} w_{x} \\sin{\\left(\\frac{dt |w|}{2} \\right)}}{|w|} + q_{y} \\cos{\\left(\\frac{dt |w|}{2} \\right)} + \\frac{q_{z} w_{z} \\sin{\\left(\\frac{dt |w|}{2} \\right)}}{|w|}\\\\- \\frac{q_{w} w_{x} \\sin{\\left(\\frac{dt |w|}{2} \\right)}}{|w|} - \\frac{q_{x} w_{y} \\sin{\\left(\\frac{dt |w|}{2} \\right)}}{|w|} - \\frac{q_{y} w_{z} \\sin{\\left(\\frac{dt |w|}{2} \\right)}}{|w|} + q_{z} \\cos{\\left(\\frac{dt |w|}{2} \\right)}\\end{matrix}\\right]$"
      ],
      "text/plain": [
       "Matrix([\n",
       "[                          p_{x} + v*sin(dt*w_{z} - 2*atan2(q_{x}, q_{w}))/w_{z} + v*sin(2*atan2(q_{x}, q_{w}))/w_{z}],\n",
       "[                          p_{y} - v*cos(dt*w_{z} - 2*atan2(q_{x}, q_{w}))/w_{z} + v*cos(2*atan2(q_{x}, q_{w}))/w_{z}],\n",
       "[                                                                                       p_{z} + v*sin(dt*w_{x})/w_{x}],\n",
       "[ q_{w}*cos(dt*|w|/2) + q_{x}*w_{z}*sin(dt*|w|/2)/|w| - q_{y}*w_{y}*sin(dt*|w|/2)/|w| + q_{z}*w_{x}*sin(dt*|w|/2)/|w|],\n",
       "[-q_{w}*w_{z}*sin(dt*|w|/2)/|w| + q_{x}*cos(dt*|w|/2) + q_{y}*w_{x}*sin(dt*|w|/2)/|w| + q_{z}*w_{y}*sin(dt*|w|/2)/|w|],\n",
       "[ q_{w}*w_{y}*sin(dt*|w|/2)/|w| - q_{x}*w_{x}*sin(dt*|w|/2)/|w| + q_{y}*cos(dt*|w|/2) + q_{z}*w_{z}*sin(dt*|w|/2)/|w|],\n",
       "[-q_{w}*w_{x}*sin(dt*|w|/2)/|w| - q_{x}*w_{y}*sin(dt*|w|/2)/|w| - q_{y}*w_{z}*sin(dt*|w|/2)/|w| + q_{z}*cos(dt*|w|/2)]])"
      ]
     },
     "execution_count": 27,
     "metadata": {},
     "output_type": "execute_result"
    }
   ],
   "source": [
    "fxu"
   ]
  },
  {
   "cell_type": "code",
   "execution_count": 28,
   "id": "74fe3c64-4b71-4890-95ae-89ba59ee561c",
   "metadata": {},
   "outputs": [
    {
     "data": {
      "text/latex": [
       "$\\displaystyle \\left[\\begin{matrix}1 & 0 & 0 & \\frac{2 q_{x} v \\cos{\\left(dt w_{z} - 2 \\operatorname{atan}_{2}{\\left(q_{x},q_{w} \\right)} \\right)}}{w_{z} \\left(q_{w}^{2} + q_{x}^{2}\\right)} - \\frac{2 q_{x} v \\cos{\\left(2 \\operatorname{atan}_{2}{\\left(q_{x},q_{w} \\right)} \\right)}}{w_{z} \\left(q_{w}^{2} + q_{x}^{2}\\right)} & - \\frac{2 q_{w} v \\cos{\\left(dt w_{z} - 2 \\operatorname{atan}_{2}{\\left(q_{x},q_{w} \\right)} \\right)}}{w_{z} \\left(q_{w}^{2} + q_{x}^{2}\\right)} + \\frac{2 q_{w} v \\cos{\\left(2 \\operatorname{atan}_{2}{\\left(q_{x},q_{w} \\right)} \\right)}}{w_{z} \\left(q_{w}^{2} + q_{x}^{2}\\right)} & 0 & 0\\\\0 & 1 & 0 & \\frac{2 q_{x} v \\sin{\\left(dt w_{z} - 2 \\operatorname{atan}_{2}{\\left(q_{x},q_{w} \\right)} \\right)}}{w_{z} \\left(q_{w}^{2} + q_{x}^{2}\\right)} + \\frac{2 q_{x} v \\sin{\\left(2 \\operatorname{atan}_{2}{\\left(q_{x},q_{w} \\right)} \\right)}}{w_{z} \\left(q_{w}^{2} + q_{x}^{2}\\right)} & - \\frac{2 q_{w} v \\sin{\\left(dt w_{z} - 2 \\operatorname{atan}_{2}{\\left(q_{x},q_{w} \\right)} \\right)}}{w_{z} \\left(q_{w}^{2} + q_{x}^{2}\\right)} - \\frac{2 q_{w} v \\sin{\\left(2 \\operatorname{atan}_{2}{\\left(q_{x},q_{w} \\right)} \\right)}}{w_{z} \\left(q_{w}^{2} + q_{x}^{2}\\right)} & 0 & 0\\\\0 & 0 & 1 & 0 & 0 & 0 & 0\\\\0 & 0 & 0 & \\cos{\\left(\\frac{dt |w|}{2} \\right)} & \\frac{w_{z} \\sin{\\left(\\frac{dt |w|}{2} \\right)}}{|w|} & - \\frac{w_{y} \\sin{\\left(\\frac{dt |w|}{2} \\right)}}{|w|} & \\frac{w_{x} \\sin{\\left(\\frac{dt |w|}{2} \\right)}}{|w|}\\\\0 & 0 & 0 & - \\frac{w_{z} \\sin{\\left(\\frac{dt |w|}{2} \\right)}}{|w|} & \\cos{\\left(\\frac{dt |w|}{2} \\right)} & \\frac{w_{x} \\sin{\\left(\\frac{dt |w|}{2} \\right)}}{|w|} & \\frac{w_{y} \\sin{\\left(\\frac{dt |w|}{2} \\right)}}{|w|}\\\\0 & 0 & 0 & \\frac{w_{y} \\sin{\\left(\\frac{dt |w|}{2} \\right)}}{|w|} & - \\frac{w_{x} \\sin{\\left(\\frac{dt |w|}{2} \\right)}}{|w|} & \\cos{\\left(\\frac{dt |w|}{2} \\right)} & \\frac{w_{z} \\sin{\\left(\\frac{dt |w|}{2} \\right)}}{|w|}\\\\0 & 0 & 0 & - \\frac{w_{x} \\sin{\\left(\\frac{dt |w|}{2} \\right)}}{|w|} & - \\frac{w_{y} \\sin{\\left(\\frac{dt |w|}{2} \\right)}}{|w|} & - \\frac{w_{z} \\sin{\\left(\\frac{dt |w|}{2} \\right)}}{|w|} & \\cos{\\left(\\frac{dt |w|}{2} \\right)}\\end{matrix}\\right]$"
      ],
      "text/plain": [
       "Matrix([\n",
       "[1, 0, 0, 2*q_{x}*v*cos(dt*w_{z} - 2*atan2(q_{x}, q_{w}))/(w_{z}*(q_{w}**2 + q_{x}**2)) - 2*q_{x}*v*cos(2*atan2(q_{x}, q_{w}))/(w_{z}*(q_{w}**2 + q_{x}**2)), -2*q_{w}*v*cos(dt*w_{z} - 2*atan2(q_{x}, q_{w}))/(w_{z}*(q_{w}**2 + q_{x}**2)) + 2*q_{w}*v*cos(2*atan2(q_{x}, q_{w}))/(w_{z}*(q_{w}**2 + q_{x}**2)),                        0,                       0],\n",
       "[0, 1, 0, 2*q_{x}*v*sin(dt*w_{z} - 2*atan2(q_{x}, q_{w}))/(w_{z}*(q_{w}**2 + q_{x}**2)) + 2*q_{x}*v*sin(2*atan2(q_{x}, q_{w}))/(w_{z}*(q_{w}**2 + q_{x}**2)), -2*q_{w}*v*sin(dt*w_{z} - 2*atan2(q_{x}, q_{w}))/(w_{z}*(q_{w}**2 + q_{x}**2)) - 2*q_{w}*v*sin(2*atan2(q_{x}, q_{w}))/(w_{z}*(q_{w}**2 + q_{x}**2)),                        0,                       0],\n",
       "[0, 0, 1,                                                                                                                                                  0,                                                                                                                                                   0,                        0,                       0],\n",
       "[0, 0, 0,                                                                                                                                      cos(dt*|w|/2),                                                                                                                             w_{z}*sin(dt*|w|/2)/|w|, -w_{y}*sin(dt*|w|/2)/|w|, w_{x}*sin(dt*|w|/2)/|w|],\n",
       "[0, 0, 0,                                                                                                                           -w_{z}*sin(dt*|w|/2)/|w|,                                                                                                                                       cos(dt*|w|/2),  w_{x}*sin(dt*|w|/2)/|w|, w_{y}*sin(dt*|w|/2)/|w|],\n",
       "[0, 0, 0,                                                                                                                            w_{y}*sin(dt*|w|/2)/|w|,                                                                                                                            -w_{x}*sin(dt*|w|/2)/|w|,            cos(dt*|w|/2), w_{z}*sin(dt*|w|/2)/|w|],\n",
       "[0, 0, 0,                                                                                                                           -w_{x}*sin(dt*|w|/2)/|w|,                                                                                                                            -w_{y}*sin(dt*|w|/2)/|w|, -w_{z}*sin(dt*|w|/2)/|w|,           cos(dt*|w|/2)]])"
      ]
     },
     "execution_count": 28,
     "metadata": {},
     "output_type": "execute_result"
    }
   ],
   "source": [
    "F"
   ]
  },
  {
   "cell_type": "code",
   "execution_count": 29,
   "id": "fcf19cfa-5ae4-4292-ad25-ffd9c0fcd8f8",
   "metadata": {},
   "outputs": [
    {
     "data": {
      "text/latex": [
       "$\\displaystyle \\left[\\begin{matrix}\\frac{\\sin{\\left(dt w_{z} - 2 \\operatorname{atan}_{2}{\\left(q_{x},q_{w} \\right)} \\right)}}{w_{z}} + \\frac{\\sin{\\left(2 \\operatorname{atan}_{2}{\\left(q_{x},q_{w} \\right)} \\right)}}{w_{z}} & 0 & 0 & \\frac{dt v \\cos{\\left(dt w_{z} - 2 \\operatorname{atan}_{2}{\\left(q_{x},q_{w} \\right)} \\right)}}{w_{z}} - \\frac{v \\sin{\\left(dt w_{z} - 2 \\operatorname{atan}_{2}{\\left(q_{x},q_{w} \\right)} \\right)}}{w_{z}^{2}} - \\frac{v \\sin{\\left(2 \\operatorname{atan}_{2}{\\left(q_{x},q_{w} \\right)} \\right)}}{w_{z}^{2}}\\\\- \\frac{\\cos{\\left(dt w_{z} - 2 \\operatorname{atan}_{2}{\\left(q_{x},q_{w} \\right)} \\right)}}{w_{z}} + \\frac{\\cos{\\left(2 \\operatorname{atan}_{2}{\\left(q_{x},q_{w} \\right)} \\right)}}{w_{z}} & 0 & 0 & \\frac{dt v \\sin{\\left(dt w_{z} - 2 \\operatorname{atan}_{2}{\\left(q_{x},q_{w} \\right)} \\right)}}{w_{z}} + \\frac{v \\cos{\\left(dt w_{z} - 2 \\operatorname{atan}_{2}{\\left(q_{x},q_{w} \\right)} \\right)}}{w_{z}^{2}} - \\frac{v \\cos{\\left(2 \\operatorname{atan}_{2}{\\left(q_{x},q_{w} \\right)} \\right)}}{w_{z}^{2}}\\\\\\frac{\\sin{\\left(dt w_{x} \\right)}}{w_{x}} & \\frac{dt v \\cos{\\left(dt w_{x} \\right)}}{w_{x}} - \\frac{v \\sin{\\left(dt w_{x} \\right)}}{w_{x}^{2}} & 0 & 0\\\\0 & \\frac{q_{z} \\sin{\\left(\\frac{dt |w|}{2} \\right)}}{|w|} & - \\frac{q_{y} \\sin{\\left(\\frac{dt |w|}{2} \\right)}}{|w|} & \\frac{q_{x} \\sin{\\left(\\frac{dt |w|}{2} \\right)}}{|w|}\\\\0 & \\frac{q_{y} \\sin{\\left(\\frac{dt |w|}{2} \\right)}}{|w|} & \\frac{q_{z} \\sin{\\left(\\frac{dt |w|}{2} \\right)}}{|w|} & - \\frac{q_{w} \\sin{\\left(\\frac{dt |w|}{2} \\right)}}{|w|}\\\\0 & - \\frac{q_{x} \\sin{\\left(\\frac{dt |w|}{2} \\right)}}{|w|} & \\frac{q_{w} \\sin{\\left(\\frac{dt |w|}{2} \\right)}}{|w|} & \\frac{q_{z} \\sin{\\left(\\frac{dt |w|}{2} \\right)}}{|w|}\\\\0 & - \\frac{q_{w} \\sin{\\left(\\frac{dt |w|}{2} \\right)}}{|w|} & - \\frac{q_{x} \\sin{\\left(\\frac{dt |w|}{2} \\right)}}{|w|} & - \\frac{q_{y} \\sin{\\left(\\frac{dt |w|}{2} \\right)}}{|w|}\\end{matrix}\\right]$"
      ],
      "text/plain": [
       "Matrix([\n",
       "[ sin(dt*w_{z} - 2*atan2(q_{x}, q_{w}))/w_{z} + sin(2*atan2(q_{x}, q_{w}))/w_{z},                                                   0,                        0, dt*v*cos(dt*w_{z} - 2*atan2(q_{x}, q_{w}))/w_{z} - v*sin(dt*w_{z} - 2*atan2(q_{x}, q_{w}))/w_{z}**2 - v*sin(2*atan2(q_{x}, q_{w}))/w_{z}**2],\n",
       "[-cos(dt*w_{z} - 2*atan2(q_{x}, q_{w}))/w_{z} + cos(2*atan2(q_{x}, q_{w}))/w_{z},                                                   0,                        0, dt*v*sin(dt*w_{z} - 2*atan2(q_{x}, q_{w}))/w_{z} + v*cos(dt*w_{z} - 2*atan2(q_{x}, q_{w}))/w_{z}**2 - v*cos(2*atan2(q_{x}, q_{w}))/w_{z}**2],\n",
       "[                                                            sin(dt*w_{x})/w_{x}, dt*v*cos(dt*w_{x})/w_{x} - v*sin(dt*w_{x})/w_{x}**2,                        0,                                                                                                                                           0],\n",
       "[                                                                              0,                             q_{z}*sin(dt*|w|/2)/|w|, -q_{y}*sin(dt*|w|/2)/|w|,                                                                                                                     q_{x}*sin(dt*|w|/2)/|w|],\n",
       "[                                                                              0,                             q_{y}*sin(dt*|w|/2)/|w|,  q_{z}*sin(dt*|w|/2)/|w|,                                                                                                                    -q_{w}*sin(dt*|w|/2)/|w|],\n",
       "[                                                                              0,                            -q_{x}*sin(dt*|w|/2)/|w|,  q_{w}*sin(dt*|w|/2)/|w|,                                                                                                                     q_{z}*sin(dt*|w|/2)/|w|],\n",
       "[                                                                              0,                            -q_{w}*sin(dt*|w|/2)/|w|, -q_{x}*sin(dt*|w|/2)/|w|,                                                                                                                    -q_{y}*sin(dt*|w|/2)/|w|]])"
      ]
     },
     "execution_count": 29,
     "metadata": {},
     "output_type": "execute_result"
    }
   ],
   "source": [
    "G"
   ]
  },
  {
   "cell_type": "code",
   "execution_count": null,
   "id": "2605cf93-0758-43cb-8368-fb5d3dfed1b3",
   "metadata": {},
   "outputs": [],
   "source": []
  },
  {
   "cell_type": "markdown",
   "id": "2da3fa81-2aba-4887-ae7b-a5e0c89a98bd",
   "metadata": {},
   "source": [
    "## When pitch = - pi/2 radians"
   ]
  },
  {
   "cell_type": "markdown",
   "id": "b73fb9f1-7f4c-42b6-89ac-23adf4519af9",
   "metadata": {},
   "source": [
    "https://danceswithcode.net/engineeringnotes/quaternions/quaternions.html"
   ]
  },
  {
   "cell_type": "code",
   "execution_count": 30,
   "id": "b000fd7c-41e7-4c80-941e-9ded6a6c3f2b",
   "metadata": {},
   "outputs": [],
   "source": [
    "phi = 0\n",
    "theta = sympy.asin(2*(qw*qy - qx*qz))\n",
    "psi = 2*sympy.atan2(qx, qw)\n",
    "A = sympy.cos(norm_w*dt/2) * sympy.eye(4)\n",
    "B = (1/norm_w)*sympy.sin(norm_w*dt/2)\n",
    "q_t = Matrix([\n",
    "    [qw],\n",
    "    [qx],\n",
    "    [qy],\n",
    "    [qz]\n",
    "])\n",
    "fxu = Matrix([\n",
    "    [px - v*sympy.sin(psi)/wz + v*sympy.sin(psi + wz*dt)/wz],\n",
    "    [py + v*sympy.cos(psi)/wz - v*sympy.cos(psi + wz*dt)/wz],\n",
    "    [pz - v*sympy.sin(phi)/wx + v*sympy.sin(phi + wx*dt)/wx],\n",
    "    [(A + B * Omega) * q_t]\n",
    "])\n",
    "F = fxu.jacobian(state_x)\n",
    "G = fxu.jacobian(control_input)"
   ]
  },
  {
   "cell_type": "code",
   "execution_count": 31,
   "id": "8ed12f42-052b-49ed-88f6-66780a80f9b0",
   "metadata": {},
   "outputs": [
    {
     "data": {
      "text/latex": [
       "$\\displaystyle \\left[\\begin{matrix}p_{x} + \\frac{v \\sin{\\left(dt w_{z} + 2 \\operatorname{atan}_{2}{\\left(q_{x},q_{w} \\right)} \\right)}}{w_{z}} - \\frac{v \\sin{\\left(2 \\operatorname{atan}_{2}{\\left(q_{x},q_{w} \\right)} \\right)}}{w_{z}}\\\\p_{y} - \\frac{v \\cos{\\left(dt w_{z} + 2 \\operatorname{atan}_{2}{\\left(q_{x},q_{w} \\right)} \\right)}}{w_{z}} + \\frac{v \\cos{\\left(2 \\operatorname{atan}_{2}{\\left(q_{x},q_{w} \\right)} \\right)}}{w_{z}}\\\\p_{z} + \\frac{v \\sin{\\left(dt w_{x} \\right)}}{w_{x}}\\\\q_{w} \\cos{\\left(\\frac{dt |w|}{2} \\right)} + \\frac{q_{x} w_{z} \\sin{\\left(\\frac{dt |w|}{2} \\right)}}{|w|} - \\frac{q_{y} w_{y} \\sin{\\left(\\frac{dt |w|}{2} \\right)}}{|w|} + \\frac{q_{z} w_{x} \\sin{\\left(\\frac{dt |w|}{2} \\right)}}{|w|}\\\\- \\frac{q_{w} w_{z} \\sin{\\left(\\frac{dt |w|}{2} \\right)}}{|w|} + q_{x} \\cos{\\left(\\frac{dt |w|}{2} \\right)} + \\frac{q_{y} w_{x} \\sin{\\left(\\frac{dt |w|}{2} \\right)}}{|w|} + \\frac{q_{z} w_{y} \\sin{\\left(\\frac{dt |w|}{2} \\right)}}{|w|}\\\\\\frac{q_{w} w_{y} \\sin{\\left(\\frac{dt |w|}{2} \\right)}}{|w|} - \\frac{q_{x} w_{x} \\sin{\\left(\\frac{dt |w|}{2} \\right)}}{|w|} + q_{y} \\cos{\\left(\\frac{dt |w|}{2} \\right)} + \\frac{q_{z} w_{z} \\sin{\\left(\\frac{dt |w|}{2} \\right)}}{|w|}\\\\- \\frac{q_{w} w_{x} \\sin{\\left(\\frac{dt |w|}{2} \\right)}}{|w|} - \\frac{q_{x} w_{y} \\sin{\\left(\\frac{dt |w|}{2} \\right)}}{|w|} - \\frac{q_{y} w_{z} \\sin{\\left(\\frac{dt |w|}{2} \\right)}}{|w|} + q_{z} \\cos{\\left(\\frac{dt |w|}{2} \\right)}\\end{matrix}\\right]$"
      ],
      "text/plain": [
       "Matrix([\n",
       "[                          p_{x} + v*sin(dt*w_{z} + 2*atan2(q_{x}, q_{w}))/w_{z} - v*sin(2*atan2(q_{x}, q_{w}))/w_{z}],\n",
       "[                          p_{y} - v*cos(dt*w_{z} + 2*atan2(q_{x}, q_{w}))/w_{z} + v*cos(2*atan2(q_{x}, q_{w}))/w_{z}],\n",
       "[                                                                                       p_{z} + v*sin(dt*w_{x})/w_{x}],\n",
       "[ q_{w}*cos(dt*|w|/2) + q_{x}*w_{z}*sin(dt*|w|/2)/|w| - q_{y}*w_{y}*sin(dt*|w|/2)/|w| + q_{z}*w_{x}*sin(dt*|w|/2)/|w|],\n",
       "[-q_{w}*w_{z}*sin(dt*|w|/2)/|w| + q_{x}*cos(dt*|w|/2) + q_{y}*w_{x}*sin(dt*|w|/2)/|w| + q_{z}*w_{y}*sin(dt*|w|/2)/|w|],\n",
       "[ q_{w}*w_{y}*sin(dt*|w|/2)/|w| - q_{x}*w_{x}*sin(dt*|w|/2)/|w| + q_{y}*cos(dt*|w|/2) + q_{z}*w_{z}*sin(dt*|w|/2)/|w|],\n",
       "[-q_{w}*w_{x}*sin(dt*|w|/2)/|w| - q_{x}*w_{y}*sin(dt*|w|/2)/|w| - q_{y}*w_{z}*sin(dt*|w|/2)/|w| + q_{z}*cos(dt*|w|/2)]])"
      ]
     },
     "execution_count": 31,
     "metadata": {},
     "output_type": "execute_result"
    }
   ],
   "source": [
    "fxu"
   ]
  },
  {
   "cell_type": "code",
   "execution_count": 32,
   "id": "4a1faaf7-8e22-44b6-817d-c10ce61d2ad7",
   "metadata": {},
   "outputs": [
    {
     "data": {
      "text/latex": [
       "$\\displaystyle \\left[\\begin{matrix}1 & 0 & 0 & - \\frac{2 q_{x} v \\cos{\\left(dt w_{z} + 2 \\operatorname{atan}_{2}{\\left(q_{x},q_{w} \\right)} \\right)}}{w_{z} \\left(q_{w}^{2} + q_{x}^{2}\\right)} + \\frac{2 q_{x} v \\cos{\\left(2 \\operatorname{atan}_{2}{\\left(q_{x},q_{w} \\right)} \\right)}}{w_{z} \\left(q_{w}^{2} + q_{x}^{2}\\right)} & \\frac{2 q_{w} v \\cos{\\left(dt w_{z} + 2 \\operatorname{atan}_{2}{\\left(q_{x},q_{w} \\right)} \\right)}}{w_{z} \\left(q_{w}^{2} + q_{x}^{2}\\right)} - \\frac{2 q_{w} v \\cos{\\left(2 \\operatorname{atan}_{2}{\\left(q_{x},q_{w} \\right)} \\right)}}{w_{z} \\left(q_{w}^{2} + q_{x}^{2}\\right)} & 0 & 0\\\\0 & 1 & 0 & - \\frac{2 q_{x} v \\sin{\\left(dt w_{z} + 2 \\operatorname{atan}_{2}{\\left(q_{x},q_{w} \\right)} \\right)}}{w_{z} \\left(q_{w}^{2} + q_{x}^{2}\\right)} + \\frac{2 q_{x} v \\sin{\\left(2 \\operatorname{atan}_{2}{\\left(q_{x},q_{w} \\right)} \\right)}}{w_{z} \\left(q_{w}^{2} + q_{x}^{2}\\right)} & \\frac{2 q_{w} v \\sin{\\left(dt w_{z} + 2 \\operatorname{atan}_{2}{\\left(q_{x},q_{w} \\right)} \\right)}}{w_{z} \\left(q_{w}^{2} + q_{x}^{2}\\right)} - \\frac{2 q_{w} v \\sin{\\left(2 \\operatorname{atan}_{2}{\\left(q_{x},q_{w} \\right)} \\right)}}{w_{z} \\left(q_{w}^{2} + q_{x}^{2}\\right)} & 0 & 0\\\\0 & 0 & 1 & 0 & 0 & 0 & 0\\\\0 & 0 & 0 & \\cos{\\left(\\frac{dt |w|}{2} \\right)} & \\frac{w_{z} \\sin{\\left(\\frac{dt |w|}{2} \\right)}}{|w|} & - \\frac{w_{y} \\sin{\\left(\\frac{dt |w|}{2} \\right)}}{|w|} & \\frac{w_{x} \\sin{\\left(\\frac{dt |w|}{2} \\right)}}{|w|}\\\\0 & 0 & 0 & - \\frac{w_{z} \\sin{\\left(\\frac{dt |w|}{2} \\right)}}{|w|} & \\cos{\\left(\\frac{dt |w|}{2} \\right)} & \\frac{w_{x} \\sin{\\left(\\frac{dt |w|}{2} \\right)}}{|w|} & \\frac{w_{y} \\sin{\\left(\\frac{dt |w|}{2} \\right)}}{|w|}\\\\0 & 0 & 0 & \\frac{w_{y} \\sin{\\left(\\frac{dt |w|}{2} \\right)}}{|w|} & - \\frac{w_{x} \\sin{\\left(\\frac{dt |w|}{2} \\right)}}{|w|} & \\cos{\\left(\\frac{dt |w|}{2} \\right)} & \\frac{w_{z} \\sin{\\left(\\frac{dt |w|}{2} \\right)}}{|w|}\\\\0 & 0 & 0 & - \\frac{w_{x} \\sin{\\left(\\frac{dt |w|}{2} \\right)}}{|w|} & - \\frac{w_{y} \\sin{\\left(\\frac{dt |w|}{2} \\right)}}{|w|} & - \\frac{w_{z} \\sin{\\left(\\frac{dt |w|}{2} \\right)}}{|w|} & \\cos{\\left(\\frac{dt |w|}{2} \\right)}\\end{matrix}\\right]$"
      ],
      "text/plain": [
       "Matrix([\n",
       "[1, 0, 0, -2*q_{x}*v*cos(dt*w_{z} + 2*atan2(q_{x}, q_{w}))/(w_{z}*(q_{w}**2 + q_{x}**2)) + 2*q_{x}*v*cos(2*atan2(q_{x}, q_{w}))/(w_{z}*(q_{w}**2 + q_{x}**2)), 2*q_{w}*v*cos(dt*w_{z} + 2*atan2(q_{x}, q_{w}))/(w_{z}*(q_{w}**2 + q_{x}**2)) - 2*q_{w}*v*cos(2*atan2(q_{x}, q_{w}))/(w_{z}*(q_{w}**2 + q_{x}**2)),                        0,                       0],\n",
       "[0, 1, 0, -2*q_{x}*v*sin(dt*w_{z} + 2*atan2(q_{x}, q_{w}))/(w_{z}*(q_{w}**2 + q_{x}**2)) + 2*q_{x}*v*sin(2*atan2(q_{x}, q_{w}))/(w_{z}*(q_{w}**2 + q_{x}**2)), 2*q_{w}*v*sin(dt*w_{z} + 2*atan2(q_{x}, q_{w}))/(w_{z}*(q_{w}**2 + q_{x}**2)) - 2*q_{w}*v*sin(2*atan2(q_{x}, q_{w}))/(w_{z}*(q_{w}**2 + q_{x}**2)),                        0,                       0],\n",
       "[0, 0, 1,                                                                                                                                                   0,                                                                                                                                                  0,                        0,                       0],\n",
       "[0, 0, 0,                                                                                                                                       cos(dt*|w|/2),                                                                                                                            w_{z}*sin(dt*|w|/2)/|w|, -w_{y}*sin(dt*|w|/2)/|w|, w_{x}*sin(dt*|w|/2)/|w|],\n",
       "[0, 0, 0,                                                                                                                            -w_{z}*sin(dt*|w|/2)/|w|,                                                                                                                                      cos(dt*|w|/2),  w_{x}*sin(dt*|w|/2)/|w|, w_{y}*sin(dt*|w|/2)/|w|],\n",
       "[0, 0, 0,                                                                                                                             w_{y}*sin(dt*|w|/2)/|w|,                                                                                                                           -w_{x}*sin(dt*|w|/2)/|w|,            cos(dt*|w|/2), w_{z}*sin(dt*|w|/2)/|w|],\n",
       "[0, 0, 0,                                                                                                                            -w_{x}*sin(dt*|w|/2)/|w|,                                                                                                                           -w_{y}*sin(dt*|w|/2)/|w|, -w_{z}*sin(dt*|w|/2)/|w|,           cos(dt*|w|/2)]])"
      ]
     },
     "execution_count": 32,
     "metadata": {},
     "output_type": "execute_result"
    }
   ],
   "source": [
    "F"
   ]
  },
  {
   "cell_type": "code",
   "execution_count": 33,
   "id": "67592700-f5af-4194-85b4-c2c8fbb42096",
   "metadata": {},
   "outputs": [
    {
     "data": {
      "text/latex": [
       "$\\displaystyle \\left[\\begin{matrix}\\frac{\\sin{\\left(dt w_{z} + 2 \\operatorname{atan}_{2}{\\left(q_{x},q_{w} \\right)} \\right)}}{w_{z}} - \\frac{\\sin{\\left(2 \\operatorname{atan}_{2}{\\left(q_{x},q_{w} \\right)} \\right)}}{w_{z}} & 0 & 0 & \\frac{dt v \\cos{\\left(dt w_{z} + 2 \\operatorname{atan}_{2}{\\left(q_{x},q_{w} \\right)} \\right)}}{w_{z}} - \\frac{v \\sin{\\left(dt w_{z} + 2 \\operatorname{atan}_{2}{\\left(q_{x},q_{w} \\right)} \\right)}}{w_{z}^{2}} + \\frac{v \\sin{\\left(2 \\operatorname{atan}_{2}{\\left(q_{x},q_{w} \\right)} \\right)}}{w_{z}^{2}}\\\\- \\frac{\\cos{\\left(dt w_{z} + 2 \\operatorname{atan}_{2}{\\left(q_{x},q_{w} \\right)} \\right)}}{w_{z}} + \\frac{\\cos{\\left(2 \\operatorname{atan}_{2}{\\left(q_{x},q_{w} \\right)} \\right)}}{w_{z}} & 0 & 0 & \\frac{dt v \\sin{\\left(dt w_{z} + 2 \\operatorname{atan}_{2}{\\left(q_{x},q_{w} \\right)} \\right)}}{w_{z}} + \\frac{v \\cos{\\left(dt w_{z} + 2 \\operatorname{atan}_{2}{\\left(q_{x},q_{w} \\right)} \\right)}}{w_{z}^{2}} - \\frac{v \\cos{\\left(2 \\operatorname{atan}_{2}{\\left(q_{x},q_{w} \\right)} \\right)}}{w_{z}^{2}}\\\\\\frac{\\sin{\\left(dt w_{x} \\right)}}{w_{x}} & \\frac{dt v \\cos{\\left(dt w_{x} \\right)}}{w_{x}} - \\frac{v \\sin{\\left(dt w_{x} \\right)}}{w_{x}^{2}} & 0 & 0\\\\0 & \\frac{q_{z} \\sin{\\left(\\frac{dt |w|}{2} \\right)}}{|w|} & - \\frac{q_{y} \\sin{\\left(\\frac{dt |w|}{2} \\right)}}{|w|} & \\frac{q_{x} \\sin{\\left(\\frac{dt |w|}{2} \\right)}}{|w|}\\\\0 & \\frac{q_{y} \\sin{\\left(\\frac{dt |w|}{2} \\right)}}{|w|} & \\frac{q_{z} \\sin{\\left(\\frac{dt |w|}{2} \\right)}}{|w|} & - \\frac{q_{w} \\sin{\\left(\\frac{dt |w|}{2} \\right)}}{|w|}\\\\0 & - \\frac{q_{x} \\sin{\\left(\\frac{dt |w|}{2} \\right)}}{|w|} & \\frac{q_{w} \\sin{\\left(\\frac{dt |w|}{2} \\right)}}{|w|} & \\frac{q_{z} \\sin{\\left(\\frac{dt |w|}{2} \\right)}}{|w|}\\\\0 & - \\frac{q_{w} \\sin{\\left(\\frac{dt |w|}{2} \\right)}}{|w|} & - \\frac{q_{x} \\sin{\\left(\\frac{dt |w|}{2} \\right)}}{|w|} & - \\frac{q_{y} \\sin{\\left(\\frac{dt |w|}{2} \\right)}}{|w|}\\end{matrix}\\right]$"
      ],
      "text/plain": [
       "Matrix([\n",
       "[ sin(dt*w_{z} + 2*atan2(q_{x}, q_{w}))/w_{z} - sin(2*atan2(q_{x}, q_{w}))/w_{z},                                                   0,                        0, dt*v*cos(dt*w_{z} + 2*atan2(q_{x}, q_{w}))/w_{z} - v*sin(dt*w_{z} + 2*atan2(q_{x}, q_{w}))/w_{z}**2 + v*sin(2*atan2(q_{x}, q_{w}))/w_{z}**2],\n",
       "[-cos(dt*w_{z} + 2*atan2(q_{x}, q_{w}))/w_{z} + cos(2*atan2(q_{x}, q_{w}))/w_{z},                                                   0,                        0, dt*v*sin(dt*w_{z} + 2*atan2(q_{x}, q_{w}))/w_{z} + v*cos(dt*w_{z} + 2*atan2(q_{x}, q_{w}))/w_{z}**2 - v*cos(2*atan2(q_{x}, q_{w}))/w_{z}**2],\n",
       "[                                                            sin(dt*w_{x})/w_{x}, dt*v*cos(dt*w_{x})/w_{x} - v*sin(dt*w_{x})/w_{x}**2,                        0,                                                                                                                                           0],\n",
       "[                                                                              0,                             q_{z}*sin(dt*|w|/2)/|w|, -q_{y}*sin(dt*|w|/2)/|w|,                                                                                                                     q_{x}*sin(dt*|w|/2)/|w|],\n",
       "[                                                                              0,                             q_{y}*sin(dt*|w|/2)/|w|,  q_{z}*sin(dt*|w|/2)/|w|,                                                                                                                    -q_{w}*sin(dt*|w|/2)/|w|],\n",
       "[                                                                              0,                            -q_{x}*sin(dt*|w|/2)/|w|,  q_{w}*sin(dt*|w|/2)/|w|,                                                                                                                     q_{z}*sin(dt*|w|/2)/|w|],\n",
       "[                                                                              0,                            -q_{w}*sin(dt*|w|/2)/|w|, -q_{x}*sin(dt*|w|/2)/|w|,                                                                                                                    -q_{y}*sin(dt*|w|/2)/|w|]])"
      ]
     },
     "execution_count": 33,
     "metadata": {},
     "output_type": "execute_result"
    }
   ],
   "source": [
    "G"
   ]
  },
  {
   "cell_type": "code",
   "execution_count": 37,
   "id": "833fce59-d27a-409b-ae4f-fd5e439c9612",
   "metadata": {},
   "outputs": [
    {
     "data": {
      "text/plain": [
       "(6, 6)"
      ]
     },
     "execution_count": 37,
     "metadata": {},
     "output_type": "execute_result"
    }
   ],
   "source": [
    "np.eye(6).shape"
   ]
  },
  {
   "cell_type": "code",
   "execution_count": null,
   "id": "fc5eb552-465e-4ca2-a04e-ab80b738e986",
   "metadata": {},
   "outputs": [],
   "source": []
  }
 ],
 "metadata": {
  "kernelspec": {
   "display_name": "Python 3 (ipykernel)",
   "language": "python",
   "name": "python3"
  },
  "language_info": {
   "codemirror_mode": {
    "name": "ipython",
    "version": 3
   },
   "file_extension": ".py",
   "mimetype": "text/x-python",
   "name": "python",
   "nbconvert_exporter": "python",
   "pygments_lexer": "ipython3",
   "version": "3.12.7"
  }
 },
 "nbformat": 4,
 "nbformat_minor": 5
}
