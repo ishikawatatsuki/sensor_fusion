{
 "cells": [
  {
   "cell_type": "markdown",
   "id": "c9156564-601d-45b3-9637-3a4ab54464e0",
   "metadata": {},
   "source": [
    "To establish communication between Visual Odometry and Kalman filter, homogeneous transformation matrix is needed.\n",
    "Currently, filters that adopt velocity motion model contains position and angle in x and z-axis to estimate the motion of an agent in a system.\n",
    "\n",
    "To compute homogeneous transformation matrix, translation vector that contains position in x, y, and z coordinates, and rotation matrix, which can be derived from quaternion, are needed.\n",
    "In this notebook, mathematical equation that explains new kinematic equation, which conforms to the velocity motion model, is derived."
   ]
  },
  {
   "cell_type": "markdown",
   "id": "dbdb5d08-c52d-46f1-9037-d4da18b1a237",
   "metadata": {},
   "source": [
    "When converting euler angles from quaternion, gimbal lock, which occurs when pitch angle (angle in y-axis) is +90 or -90 degree, needs to be taken into account."
   ]
  },
  {
   "cell_type": "code",
   "execution_count": 5,
   "id": "ee35023e-5507-4fff-808a-507e84340ce2",
   "metadata": {},
   "outputs": [],
   "source": [
    "import numpy as np\n",
    "import sympy\n",
    "from sympy.abc import alpha, x, y, v, w, R, psi, theta, phi\n",
    "from sympy.stats import Normal\n",
    "from sympy import symbols, Matrix"
   ]
  },
  {
   "cell_type": "code",
   "execution_count": 8,
   "id": "4d118e56-656f-4e62-b6ec-3c68d3c5af3a",
   "metadata": {},
   "outputs": [],
   "source": [
    "# state vector\n",
    "\n",
    "# position\n",
    "px = symbols('p_{x}')\n",
    "py = symbols('p_{y}')\n",
    "pz = symbols('p_{z}')\n",
    "\n",
    "# velocity\n",
    "vx = symbols('v_{x}')\n",
    "vy = symbols('v_{y}')\n",
    "vz = symbols('v_{z}')\n",
    "\n",
    "# quaternion\n",
    "qw = symbols('q_{w}')\n",
    "qx = symbols('q_{x}')\n",
    "qy = symbols('q_{y}')\n",
    "qz = symbols('q_{z}')\n",
    "\n",
    "# bias for angular velocity\n",
    "bwx = symbols('b_{w_x}')\n",
    "bwy = symbols('b_{w_y}')\n",
    "bwz = symbols('b_{w_z}')\n",
    "\n",
    "# bias for linear acceleration\n",
    "bax = symbols('b_{a_x}')\n",
    "bay = symbols('b_{a_y}')\n",
    "baz = symbols('b_{a_z}')\n",
    "\n",
    "# control input\n",
    "vf = symbols('v_{f}')\n",
    "\n",
    "ax = symbols('a_{x}')\n",
    "ay = symbols('a_{y}')\n",
    "az = symbols('a_{z}')\n",
    "\n",
    "# Linear acceleration\n",
    "a = Matrix([[ax], [ay], [az]])\n",
    "\n",
    "wx = symbols('w_{x}')\n",
    "wy = symbols('w_{y}')\n",
    "wz = symbols('w_{z}')\n",
    "\n",
    "sigma_w = symbols('sigma_{w}')\n",
    "sigma_a = symbols('sigma_{a}')\n",
    "\n",
    "# angular velocity\n",
    "w = Matrix([[wx], [wy], [wz]])\n",
    "\n",
    "# delta time\n",
    "dt = symbols('dt')\n",
    "\n",
    "# gravitational acceleration\n",
    "g = Matrix([[0], [0], [-9.81]])"
   ]
  },
  {
   "cell_type": "code",
   "execution_count": 13,
   "id": "bdc81eb8-9862-4549-aa5b-d8a975475640",
   "metadata": {},
   "outputs": [],
   "source": [
    "norm_w = symbols('|w|')\n",
    "R = Matrix([\n",
    "    [(qw**2 + qx**2 - qy**2 - qz**2), 2*(qx*qy - qw*qz), 2*(qx*qz + qw*qy)],\n",
    "    [2*(qx*qy + qw*qz), qw**2 - qx**2 + qy**2 - qz**2, 2*(qy*qz - qw*qx)],\n",
    "    [2*(qx*qz - qw*qy), 2*(qy*qz + qw*qx), qw**2 - qx**2 - qy**2 + qz**2]\n",
    "])\n",
    "\n",
    "R_T = R.transpose()\n",
    "\n",
    "Omega = Matrix([\n",
    "    [0, -wx, -wy, -wz],\n",
    "    [wx, 0, wz, -wy],\n",
    "    [wy, -wz, 0, wx],\n",
    "    [wz, wy, -wx, 0]\n",
    "])"
   ]
  },
  {
   "cell_type": "code",
   "execution_count": 10,
   "id": "d9dec100",
   "metadata": {},
   "outputs": [],
   "source": [
    "p = Matrix([[px], [py], [pz]])\n",
    "v = Matrix([[vx], [vy], [vz]])\n",
    "q = Matrix([[qw], [qx], [qy], [qz]])\n",
    "bw = Matrix([[bwx], [bwy], [bwz]])\n",
    "ba = Matrix([[bax], [bay], [baz]])\n",
    "\n",
    "ww = Normal(\"w_{w}\", 0, sigma_w)\n",
    "wa = Normal(\"w_{a}\", 0, sigma_a)\n",
    "\n",
    "state_x = Matrix([px, py, pz, vx, vy, vz, qw, qx, qy, qz, bwx, bwy, bwz, bax, bay, baz])\n",
    "control_input = Matrix([ax, ay, az, wx, wy, wz])"
   ]
  },
  {
   "cell_type": "code",
   "execution_count": 11,
   "id": "1c592c84",
   "metadata": {},
   "outputs": [],
   "source": [
    "a_world = (R @ a + g)\n",
    "\n",
    "p_t = p + v * dt + 1/2 * a_world * dt**2\n",
    "v_t = v + a_world * dt\n",
    "\n",
    "A = sympy.cos(norm_w*dt/2) * sympy.eye(4)\n",
    "B = (1/norm_w)*sympy.sin(norm_w*dt/2)\n",
    "q_t = (A + B * Omega) * q\n",
    "\n",
    "b_w_t = Matrix([\n",
    "    [bwx + ww],\n",
    "    [bwy + ww],\n",
    "    [bwz + ww]\n",
    "])\n",
    "b_a_t = Matrix([\n",
    "    [bax + wa],\n",
    "    [bay + wa],\n",
    "    [baz + wa]\n",
    "])"
   ]
  },
  {
   "cell_type": "markdown",
   "id": "e79e1156",
   "metadata": {},
   "source": [
    "## Position update"
   ]
  },
  {
   "cell_type": "code",
   "execution_count": 20,
   "id": "cca11269",
   "metadata": {},
   "outputs": [],
   "source": [
    "z_position = Matrix([[0], [0], [0]])\n",
    "\n",
    "hx_position = Matrix([\n",
    "    [px],\n",
    "    [py],\n",
    "    [pz]\n",
    "])\n",
    "\n",
    "H_jacobian_position = hx_position.jacobian(state_x)"
   ]
  },
  {
   "cell_type": "code",
   "execution_count": 21,
   "id": "304325e7",
   "metadata": {},
   "outputs": [
    {
     "data": {
      "text/latex": [
       "$\\displaystyle \\left[\\begin{array}{cccccccccccccccc}1 & 0 & 0 & 0 & 0 & 0 & 0 & 0 & 0 & 0 & 0 & 0 & 0 & 0 & 0 & 0\\\\0 & 1 & 0 & 0 & 0 & 0 & 0 & 0 & 0 & 0 & 0 & 0 & 0 & 0 & 0 & 0\\\\0 & 0 & 1 & 0 & 0 & 0 & 0 & 0 & 0 & 0 & 0 & 0 & 0 & 0 & 0 & 0\\end{array}\\right]$"
      ],
      "text/plain": [
       "Matrix([\n",
       "[1, 0, 0, 0, 0, 0, 0, 0, 0, 0, 0, 0, 0, 0, 0, 0],\n",
       "[0, 1, 0, 0, 0, 0, 0, 0, 0, 0, 0, 0, 0, 0, 0, 0],\n",
       "[0, 0, 1, 0, 0, 0, 0, 0, 0, 0, 0, 0, 0, 0, 0, 0]])"
      ]
     },
     "execution_count": 21,
     "metadata": {},
     "output_type": "execute_result"
    }
   ],
   "source": [
    "H_jacobian_position"
   ]
  },
  {
   "cell_type": "code",
   "execution_count": null,
   "id": "fc575131",
   "metadata": {},
   "outputs": [],
   "source": []
  },
  {
   "cell_type": "markdown",
   "id": "bb778729",
   "metadata": {},
   "source": [
    "## Velocity update"
   ]
  },
  {
   "cell_type": "code",
   "execution_count": 23,
   "id": "e7c44ad8",
   "metadata": {},
   "outputs": [],
   "source": [
    "z_velocity = Matrix([[0], [0], [0]])\n",
    "\n",
    "v_z = R_T @ v\n",
    "\n",
    "hx_velocity = Matrix([\n",
    "    v_z\n",
    "])\n",
    "\n",
    "H_jacobian_velocity = hx_velocity.jacobian(state_x)"
   ]
  },
  {
   "cell_type": "code",
   "execution_count": 41,
   "id": "5602b3fa",
   "metadata": {},
   "outputs": [
    {
     "data": {
      "text/latex": [
       "$\\displaystyle \\left[\\begin{matrix}v_{x} \\left(q_{w}^{2} + q_{x}^{2} - q_{y}^{2} - q_{z}^{2}\\right) + v_{y} \\left(2 q_{w} q_{z} + 2 q_{x} q_{y}\\right) + v_{z} \\left(- 2 q_{w} q_{y} + 2 q_{x} q_{z}\\right)\\\\v_{x} \\left(- 2 q_{w} q_{z} + 2 q_{x} q_{y}\\right) + v_{y} \\left(q_{w}^{2} - q_{x}^{2} + q_{y}^{2} - q_{z}^{2}\\right) + v_{z} \\left(2 q_{w} q_{x} + 2 q_{y} q_{z}\\right)\\\\v_{x} \\left(2 q_{w} q_{y} + 2 q_{x} q_{z}\\right) + v_{y} \\left(- 2 q_{w} q_{x} + 2 q_{y} q_{z}\\right) + v_{z} \\left(q_{w}^{2} - q_{x}^{2} - q_{y}^{2} + q_{z}^{2}\\right)\\end{matrix}\\right]$"
      ],
      "text/plain": [
       "Matrix([\n",
       "[v_{x}*(q_{w}**2 + q_{x}**2 - q_{y}**2 - q_{z}**2) + v_{y}*(2*q_{w}*q_{z} + 2*q_{x}*q_{y}) + v_{z}*(-2*q_{w}*q_{y} + 2*q_{x}*q_{z})],\n",
       "[v_{x}*(-2*q_{w}*q_{z} + 2*q_{x}*q_{y}) + v_{y}*(q_{w}**2 - q_{x}**2 + q_{y}**2 - q_{z}**2) + v_{z}*(2*q_{w}*q_{x} + 2*q_{y}*q_{z})],\n",
       "[v_{x}*(2*q_{w}*q_{y} + 2*q_{x}*q_{z}) + v_{y}*(-2*q_{w}*q_{x} + 2*q_{y}*q_{z}) + v_{z}*(q_{w}**2 - q_{x}**2 - q_{y}**2 + q_{z}**2)]])"
      ]
     },
     "execution_count": 41,
     "metadata": {},
     "output_type": "execute_result"
    }
   ],
   "source": [
    "hx_velocity"
   ]
  },
  {
   "cell_type": "code",
   "execution_count": 24,
   "id": "bbfbb23e",
   "metadata": {},
   "outputs": [
    {
     "data": {
      "text/latex": [
       "$\\displaystyle \\left[\\begin{array}{cccccccccccccccc}0 & 0 & 0 & q_{w}^{2} + q_{x}^{2} - q_{y}^{2} - q_{z}^{2} & 2 q_{w} q_{z} + 2 q_{x} q_{y} & - 2 q_{w} q_{y} + 2 q_{x} q_{z} & 2 q_{w} v_{x} - 2 q_{y} v_{z} + 2 q_{z} v_{y} & 2 q_{x} v_{x} + 2 q_{y} v_{y} + 2 q_{z} v_{z} & - 2 q_{w} v_{z} + 2 q_{x} v_{y} - 2 q_{y} v_{x} & 2 q_{w} v_{y} + 2 q_{x} v_{z} - 2 q_{z} v_{x} & 0 & 0 & 0 & 0 & 0 & 0\\\\0 & 0 & 0 & - 2 q_{w} q_{z} + 2 q_{x} q_{y} & q_{w}^{2} - q_{x}^{2} + q_{y}^{2} - q_{z}^{2} & 2 q_{w} q_{x} + 2 q_{y} q_{z} & 2 q_{w} v_{y} + 2 q_{x} v_{z} - 2 q_{z} v_{x} & 2 q_{w} v_{z} - 2 q_{x} v_{y} + 2 q_{y} v_{x} & 2 q_{x} v_{x} + 2 q_{y} v_{y} + 2 q_{z} v_{z} & - 2 q_{w} v_{x} + 2 q_{y} v_{z} - 2 q_{z} v_{y} & 0 & 0 & 0 & 0 & 0 & 0\\\\0 & 0 & 0 & 2 q_{w} q_{y} + 2 q_{x} q_{z} & - 2 q_{w} q_{x} + 2 q_{y} q_{z} & q_{w}^{2} - q_{x}^{2} - q_{y}^{2} + q_{z}^{2} & 2 q_{w} v_{z} - 2 q_{x} v_{y} + 2 q_{y} v_{x} & - 2 q_{w} v_{y} - 2 q_{x} v_{z} + 2 q_{z} v_{x} & 2 q_{w} v_{x} - 2 q_{y} v_{z} + 2 q_{z} v_{y} & 2 q_{x} v_{x} + 2 q_{y} v_{y} + 2 q_{z} v_{z} & 0 & 0 & 0 & 0 & 0 & 0\\end{array}\\right]$"
      ],
      "text/plain": [
       "Matrix([\n",
       "[0, 0, 0, q_{w}**2 + q_{x}**2 - q_{y}**2 - q_{z}**2,             2*q_{w}*q_{z} + 2*q_{x}*q_{y},            -2*q_{w}*q_{y} + 2*q_{x}*q_{z}, 2*q_{w}*v_{x} - 2*q_{y}*v_{z} + 2*q_{z}*v_{y},  2*q_{x}*v_{x} + 2*q_{y}*v_{y} + 2*q_{z}*v_{z}, -2*q_{w}*v_{z} + 2*q_{x}*v_{y} - 2*q_{y}*v_{x},  2*q_{w}*v_{y} + 2*q_{x}*v_{z} - 2*q_{z}*v_{x}, 0, 0, 0, 0, 0, 0],\n",
       "[0, 0, 0,            -2*q_{w}*q_{z} + 2*q_{x}*q_{y}, q_{w}**2 - q_{x}**2 + q_{y}**2 - q_{z}**2,             2*q_{w}*q_{x} + 2*q_{y}*q_{z}, 2*q_{w}*v_{y} + 2*q_{x}*v_{z} - 2*q_{z}*v_{x},  2*q_{w}*v_{z} - 2*q_{x}*v_{y} + 2*q_{y}*v_{x},  2*q_{x}*v_{x} + 2*q_{y}*v_{y} + 2*q_{z}*v_{z}, -2*q_{w}*v_{x} + 2*q_{y}*v_{z} - 2*q_{z}*v_{y}, 0, 0, 0, 0, 0, 0],\n",
       "[0, 0, 0,             2*q_{w}*q_{y} + 2*q_{x}*q_{z},            -2*q_{w}*q_{x} + 2*q_{y}*q_{z}, q_{w}**2 - q_{x}**2 - q_{y}**2 + q_{z}**2, 2*q_{w}*v_{z} - 2*q_{x}*v_{y} + 2*q_{y}*v_{x}, -2*q_{w}*v_{y} - 2*q_{x}*v_{z} + 2*q_{z}*v_{x},  2*q_{w}*v_{x} - 2*q_{y}*v_{z} + 2*q_{z}*v_{y},  2*q_{x}*v_{x} + 2*q_{y}*v_{y} + 2*q_{z}*v_{z}, 0, 0, 0, 0, 0, 0]])"
      ]
     },
     "execution_count": 24,
     "metadata": {},
     "output_type": "execute_result"
    }
   ],
   "source": [
    "H_jacobian_velocity"
   ]
  },
  {
   "cell_type": "markdown",
   "id": "0f087f6e",
   "metadata": {},
   "source": [
    "## Lateral and Upward velocity update"
   ]
  },
  {
   "cell_type": "code",
   "execution_count": 62,
   "id": "b5429e81",
   "metadata": {},
   "outputs": [],
   "source": [
    "z_velocity = Matrix([[0], [0]])\n",
    "\n",
    "v_z = R_T @ v\n",
    "\n",
    "hx_velocity = Matrix([\n",
    "    v_z[:2]\n",
    "])\n",
    "\n",
    "H_jacobian_velocity = hx_velocity.jacobian(state_x)"
   ]
  },
  {
   "cell_type": "code",
   "execution_count": 63,
   "id": "f71c7463",
   "metadata": {},
   "outputs": [
    {
     "data": {
      "text/latex": [
       "$\\displaystyle \\left[\\begin{array}{cccccccccccccccc}0 & 0 & 0 & q_{w}^{2} + q_{x}^{2} - q_{y}^{2} - q_{z}^{2} & 2 q_{w} q_{z} + 2 q_{x} q_{y} & - 2 q_{w} q_{y} + 2 q_{x} q_{z} & 2 q_{w} v_{x} - 2 q_{y} v_{z} + 2 q_{z} v_{y} & 2 q_{x} v_{x} + 2 q_{y} v_{y} + 2 q_{z} v_{z} & - 2 q_{w} v_{z} + 2 q_{x} v_{y} - 2 q_{y} v_{x} & 2 q_{w} v_{y} + 2 q_{x} v_{z} - 2 q_{z} v_{x} & 0 & 0 & 0 & 0 & 0 & 0\\\\0 & 0 & 0 & - 2 q_{w} q_{z} + 2 q_{x} q_{y} & q_{w}^{2} - q_{x}^{2} + q_{y}^{2} - q_{z}^{2} & 2 q_{w} q_{x} + 2 q_{y} q_{z} & 2 q_{w} v_{y} + 2 q_{x} v_{z} - 2 q_{z} v_{x} & 2 q_{w} v_{z} - 2 q_{x} v_{y} + 2 q_{y} v_{x} & 2 q_{x} v_{x} + 2 q_{y} v_{y} + 2 q_{z} v_{z} & - 2 q_{w} v_{x} + 2 q_{y} v_{z} - 2 q_{z} v_{y} & 0 & 0 & 0 & 0 & 0 & 0\\end{array}\\right]$"
      ],
      "text/plain": [
       "Matrix([\n",
       "[0, 0, 0, q_{w}**2 + q_{x}**2 - q_{y}**2 - q_{z}**2,             2*q_{w}*q_{z} + 2*q_{x}*q_{y}, -2*q_{w}*q_{y} + 2*q_{x}*q_{z}, 2*q_{w}*v_{x} - 2*q_{y}*v_{z} + 2*q_{z}*v_{y}, 2*q_{x}*v_{x} + 2*q_{y}*v_{y} + 2*q_{z}*v_{z}, -2*q_{w}*v_{z} + 2*q_{x}*v_{y} - 2*q_{y}*v_{x},  2*q_{w}*v_{y} + 2*q_{x}*v_{z} - 2*q_{z}*v_{x}, 0, 0, 0, 0, 0, 0],\n",
       "[0, 0, 0,            -2*q_{w}*q_{z} + 2*q_{x}*q_{y}, q_{w}**2 - q_{x}**2 + q_{y}**2 - q_{z}**2,  2*q_{w}*q_{x} + 2*q_{y}*q_{z}, 2*q_{w}*v_{y} + 2*q_{x}*v_{z} - 2*q_{z}*v_{x}, 2*q_{w}*v_{z} - 2*q_{x}*v_{y} + 2*q_{y}*v_{x},  2*q_{x}*v_{x} + 2*q_{y}*v_{y} + 2*q_{z}*v_{z}, -2*q_{w}*v_{x} + 2*q_{y}*v_{z} - 2*q_{z}*v_{y}, 0, 0, 0, 0, 0, 0]])"
      ]
     },
     "execution_count": 63,
     "metadata": {},
     "output_type": "execute_result"
    }
   ],
   "source": [
    "H_jacobian_velocity"
   ]
  },
  {
   "cell_type": "markdown",
   "id": "dee2db8b",
   "metadata": {},
   "source": [
    "## Quaternion update"
   ]
  },
  {
   "cell_type": "code",
   "execution_count": 27,
   "id": "d2e40420",
   "metadata": {},
   "outputs": [],
   "source": [
    "z_quaternion = Matrix([[0], [0], [0], [0]])\n",
    "\n",
    "hx_quaternion = Matrix([\n",
    "    q\n",
    "])\n",
    "\n",
    "H_jacobian_quaternion = hx_quaternion.jacobian(state_x)"
   ]
  },
  {
   "cell_type": "code",
   "execution_count": 28,
   "id": "fc5eb552-465e-4ca2-a04e-ab80b738e986",
   "metadata": {},
   "outputs": [
    {
     "data": {
      "text/latex": [
       "$\\displaystyle \\left[\\begin{array}{cccccccccccccccc}0 & 0 & 0 & 0 & 0 & 0 & 1 & 0 & 0 & 0 & 0 & 0 & 0 & 0 & 0 & 0\\\\0 & 0 & 0 & 0 & 0 & 0 & 0 & 1 & 0 & 0 & 0 & 0 & 0 & 0 & 0 & 0\\\\0 & 0 & 0 & 0 & 0 & 0 & 0 & 0 & 1 & 0 & 0 & 0 & 0 & 0 & 0 & 0\\\\0 & 0 & 0 & 0 & 0 & 0 & 0 & 0 & 0 & 1 & 0 & 0 & 0 & 0 & 0 & 0\\end{array}\\right]$"
      ],
      "text/plain": [
       "Matrix([\n",
       "[0, 0, 0, 0, 0, 0, 1, 0, 0, 0, 0, 0, 0, 0, 0, 0],\n",
       "[0, 0, 0, 0, 0, 0, 0, 1, 0, 0, 0, 0, 0, 0, 0, 0],\n",
       "[0, 0, 0, 0, 0, 0, 0, 0, 1, 0, 0, 0, 0, 0, 0, 0],\n",
       "[0, 0, 0, 0, 0, 0, 0, 0, 0, 1, 0, 0, 0, 0, 0, 0]])"
      ]
     },
     "execution_count": 28,
     "metadata": {},
     "output_type": "execute_result"
    }
   ],
   "source": [
    "H_jacobian_quaternion"
   ]
  },
  {
   "cell_type": "code",
   "execution_count": null,
   "id": "9af394e7",
   "metadata": {},
   "outputs": [],
   "source": []
  },
  {
   "cell_type": "code",
   "execution_count": null,
   "id": "9588e1ca",
   "metadata": {},
   "outputs": [],
   "source": []
  },
  {
   "cell_type": "code",
   "execution_count": null,
   "id": "9927c231",
   "metadata": {},
   "outputs": [],
   "source": []
  },
  {
   "cell_type": "code",
   "execution_count": null,
   "id": "c30ea0c7",
   "metadata": {},
   "outputs": [],
   "source": []
  },
  {
   "cell_type": "code",
   "execution_count": null,
   "id": "c2595e0a",
   "metadata": {},
   "outputs": [],
   "source": []
  }
 ],
 "metadata": {
  "kernelspec": {
   "display_name": "Python 3 (ipykernel)",
   "language": "python",
   "name": "python3"
  },
  "language_info": {
   "codemirror_mode": {
    "name": "ipython",
    "version": 3
   },
   "file_extension": ".py",
   "mimetype": "text/x-python",
   "name": "python",
   "nbconvert_exporter": "python",
   "pygments_lexer": "ipython3",
   "version": "3.12.10"
  }
 },
 "nbformat": 4,
 "nbformat_minor": 5
}
