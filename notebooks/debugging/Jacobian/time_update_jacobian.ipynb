{
 "cells": [
  {
   "cell_type": "markdown",
   "id": "c9156564-601d-45b3-9637-3a4ab54464e0",
   "metadata": {},
   "source": [
    "To establish communication between Visual Odometry and Kalman filter, homogeneous transformation matrix is needed.\n",
    "Currently, filters that adopt velocity motion model contains position and angle in x and z-axis to estimate the motion of an agent in a system.\n",
    "\n",
    "To compute homogeneous transformation matrix, translation vector that contains position in x, y, and z coordinates, and rotation matrix, which can be derived from quaternion, are needed.\n",
    "In this notebook, mathematical equation that explains new kinematic equation, which conforms to the velocity motion model, is derived."
   ]
  },
  {
   "cell_type": "markdown",
   "id": "dbdb5d08-c52d-46f1-9037-d4da18b1a237",
   "metadata": {},
   "source": [
    "When converting euler angles from quaternion, gimbal lock, which occurs when pitch angle (angle in y-axis) is +90 or -90 degree, needs to be taken into account."
   ]
  },
  {
   "cell_type": "code",
   "execution_count": 1,
   "id": "ee35023e-5507-4fff-808a-507e84340ce2",
   "metadata": {},
   "outputs": [],
   "source": [
    "import numpy as np\n",
    "import sympy\n",
    "from sympy.abc import alpha, x, y, v, w, R, psi, theta, phi\n",
    "from sympy.stats import Normal\n",
    "from sympy import symbols, Matrix"
   ]
  },
  {
   "cell_type": "code",
   "execution_count": null,
   "id": "4d118e56-656f-4e62-b6ec-3c68d3c5af3a",
   "metadata": {},
   "outputs": [],
   "source": [
    "# state vector\n",
    "\n",
    "# position\n",
    "px = symbols('p_{x}')\n",
    "py = symbols('p_{y}')\n",
    "pz = symbols('p_{z}')\n",
    "\n",
    "# velocity\n",
    "vx = symbols('v_{x}')\n",
    "vy = symbols('v_{y}')\n",
    "vz = symbols('v_{z}')\n",
    "\n",
    "# quaternion\n",
    "qw = symbols('q_{w}')\n",
    "qx = symbols('q_{x}')\n",
    "qy = symbols('q_{y}')\n",
    "qz = symbols('q_{z}')\n",
    "\n",
    "# bias for angular velocity\n",
    "bwx = symbols('b_{w_x}')\n",
    "bwy = symbols('b_{w_y}')\n",
    "bwz = symbols('b_{w_z}')\n",
    "\n",
    "# bias for linear acceleration\n",
    "bax = symbols('b_{a_x}')\n",
    "bay = symbols('b_{a_y}')\n",
    "baz = symbols('b_{a_z}')\n",
    "\n",
    "# control input\n",
    "vf = symbols('v_{f}')\n",
    "\n",
    "ax = symbols('a_{x}')\n",
    "ay = symbols('a_{y}')\n",
    "az = symbols('a_{z}')\n",
    "\n",
    "# Linear acceleration\n",
    "a = Matrix([[ax], [ay], [az]])\n",
    "\n",
    "wx = symbols('w_{x}')\n",
    "wy = symbols('w_{y}')\n",
    "wz = symbols('w_{z}')\n",
    "\n",
    "sigma_w = symbols('sigma_{w}')\n",
    "sigma_a = symbols('sigma_{a}')\n",
    "\n",
    "# angular velocity\n",
    "w = Matrix([[wx], [wy], [wz]])\n",
    "\n",
    "# delta time\n",
    "dt = symbols('dt')\n",
    "\n",
    "# gravitational acceleration\n",
    "g = Matrix([[0], [0], [-9.81]])"
   ]
  },
  {
   "cell_type": "code",
   "execution_count": 3,
   "id": "bdc81eb8-9862-4549-aa5b-d8a975475640",
   "metadata": {},
   "outputs": [],
   "source": [
    "norm_w = symbols('|w|')\n",
    "R = Matrix([\n",
    "    [(qw**2 + qx**2 - qy**2 - qz**2), 2*(qx*qy - qw*qz), 2*(qx*qz + qw*qy)],\n",
    "    [2*(qx*qy + qw*qz), qw**2 - qx**2 + qy**2 - qz**2, 2*(qy*qz - qw*qx)],\n",
    "    [2*(qx*qz - qw*qy), 2*(qy*qz + qw*qx), qw**2 - qx**2 - qy**2 + qz**2]\n",
    "])\n",
    "Omega = Matrix([\n",
    "    [0, -wx, -wy, -wz],\n",
    "    [wx, 0, wz, -wy],\n",
    "    [wy, -wz, 0, wx],\n",
    "    [wz, wy, -wx, 0]\n",
    "])"
   ]
  },
  {
   "cell_type": "markdown",
   "id": "1b8398e1",
   "metadata": {},
   "source": [
    "### Basics of Kinematic equation"
   ]
  },
  {
   "cell_type": "code",
   "execution_count": 4,
   "id": "f4f51054",
   "metadata": {},
   "outputs": [],
   "source": [
    "p = Matrix([[px], [py], [pz]])\n",
    "v = Matrix([[vx], [vy], [vz]])\n",
    "q = Matrix([[qw], [qx], [qy], [qz]])\n",
    "bw = Matrix([[bwx], [bwy], [bwz]])\n",
    "ba = Matrix([[bax], [bay], [baz]])\n",
    "\n",
    "ww = Normal(\"w_{w}\", 0, sigma_w)\n",
    "wa = Normal(\"w_{a}\", 0, sigma_a)\n",
    "\n",
    "state_x = Matrix([px, py, pz, vx, vy, vz, qw, qx, qy, qz, bwx, bwy, bwz, bax, bay, baz])\n",
    "control_input = Matrix([ax, ay, az, wx, wy, wz])"
   ]
  },
  {
   "cell_type": "code",
   "execution_count": 5,
   "id": "2bcc72d1",
   "metadata": {},
   "outputs": [],
   "source": [
    "a_world = (R @ a + g)\n",
    "\n",
    "p_t = p + v * dt + 1/2 * a_world * dt**2\n",
    "v_t = v + a_world * dt\n",
    "\n",
    "A = sympy.cos(norm_w*dt/2) * sympy.eye(4)\n",
    "B = (1/norm_w)*sympy.sin(norm_w*dt/2)\n",
    "q_t = (A + B * Omega) * q\n",
    "\n",
    "b_w_t = Matrix([\n",
    "    [bwx + ww],\n",
    "    [bwy + ww],\n",
    "    [bwz + ww]\n",
    "])\n",
    "b_a_t = Matrix([\n",
    "    [bax + wa],\n",
    "    [bay + wa],\n",
    "    [baz + wa]\n",
    "])"
   ]
  },
  {
   "cell_type": "code",
   "execution_count": 6,
   "id": "4b1a3221",
   "metadata": {},
   "outputs": [
    {
     "data": {
      "text/latex": [
       "$\\displaystyle \\left[\\begin{matrix}dt^{2} \\cdot \\left(0.5 a_{x} \\left(q_{w}^{2} + q_{x}^{2} - q_{y}^{2} - q_{z}^{2}\\right) + 0.5 a_{y} \\left(- 2 q_{w} q_{z} + 2 q_{x} q_{y}\\right) + 0.5 a_{z} \\left(2 q_{w} q_{y} + 2 q_{x} q_{z}\\right)\\right) + dt v_{x} + p_{x}\\\\dt^{2} \\cdot \\left(0.5 a_{x} \\left(2 q_{w} q_{z} + 2 q_{x} q_{y}\\right) + 0.5 a_{y} \\left(q_{w}^{2} - q_{x}^{2} + q_{y}^{2} - q_{z}^{2}\\right) + 0.5 a_{z} \\left(- 2 q_{w} q_{x} + 2 q_{y} q_{z}\\right)\\right) + dt v_{y} + p_{y}\\\\dt^{2} \\cdot \\left(0.5 a_{x} \\left(- 2 q_{w} q_{y} + 2 q_{x} q_{z}\\right) + 0.5 a_{y} \\left(2 q_{w} q_{x} + 2 q_{y} q_{z}\\right) + 0.5 a_{z} \\left(q_{w}^{2} - q_{x}^{2} - q_{y}^{2} + q_{z}^{2}\\right) - 4.905\\right) + dt v_{z} + p_{z}\\\\dt \\left(a_{x} \\left(q_{w}^{2} + q_{x}^{2} - q_{y}^{2} - q_{z}^{2}\\right) + a_{y} \\left(- 2 q_{w} q_{z} + 2 q_{x} q_{y}\\right) + a_{z} \\left(2 q_{w} q_{y} + 2 q_{x} q_{z}\\right)\\right) + v_{x}\\\\dt \\left(a_{x} \\left(2 q_{w} q_{z} + 2 q_{x} q_{y}\\right) + a_{y} \\left(q_{w}^{2} - q_{x}^{2} + q_{y}^{2} - q_{z}^{2}\\right) + a_{z} \\left(- 2 q_{w} q_{x} + 2 q_{y} q_{z}\\right)\\right) + v_{y}\\\\dt \\left(a_{x} \\left(- 2 q_{w} q_{y} + 2 q_{x} q_{z}\\right) + a_{y} \\left(2 q_{w} q_{x} + 2 q_{y} q_{z}\\right) + a_{z} \\left(q_{w}^{2} - q_{x}^{2} - q_{y}^{2} + q_{z}^{2}\\right) - 9.81\\right) + v_{z}\\\\q_{w} \\cos{\\left(\\frac{dt |w|}{2} \\right)} - \\frac{q_{x} w_{x} \\sin{\\left(\\frac{dt |w|}{2} \\right)}}{|w|} - \\frac{q_{y} w_{y} \\sin{\\left(\\frac{dt |w|}{2} \\right)}}{|w|} - \\frac{q_{z} w_{z} \\sin{\\left(\\frac{dt |w|}{2} \\right)}}{|w|}\\\\\\frac{q_{w} w_{x} \\sin{\\left(\\frac{dt |w|}{2} \\right)}}{|w|} + q_{x} \\cos{\\left(\\frac{dt |w|}{2} \\right)} + \\frac{q_{y} w_{z} \\sin{\\left(\\frac{dt |w|}{2} \\right)}}{|w|} - \\frac{q_{z} w_{y} \\sin{\\left(\\frac{dt |w|}{2} \\right)}}{|w|}\\\\\\frac{q_{w} w_{y} \\sin{\\left(\\frac{dt |w|}{2} \\right)}}{|w|} - \\frac{q_{x} w_{z} \\sin{\\left(\\frac{dt |w|}{2} \\right)}}{|w|} + q_{y} \\cos{\\left(\\frac{dt |w|}{2} \\right)} + \\frac{q_{z} w_{x} \\sin{\\left(\\frac{dt |w|}{2} \\right)}}{|w|}\\\\\\frac{q_{w} w_{z} \\sin{\\left(\\frac{dt |w|}{2} \\right)}}{|w|} + \\frac{q_{x} w_{y} \\sin{\\left(\\frac{dt |w|}{2} \\right)}}{|w|} - \\frac{q_{y} w_{x} \\sin{\\left(\\frac{dt |w|}{2} \\right)}}{|w|} + q_{z} \\cos{\\left(\\frac{dt |w|}{2} \\right)}\\\\b_{w_x} + w_{w}\\\\b_{w_y} + w_{w}\\\\b_{w_z} + w_{w}\\\\b_{a_x} + w_{a}\\\\b_{a_y} + w_{a}\\\\b_{a_z} + w_{a}\\end{matrix}\\right]$"
      ],
      "text/plain": [
       "Matrix([\n",
       "[        dt**2*(0.5*a_{x}*(q_{w}**2 + q_{x}**2 - q_{y}**2 - q_{z}**2) + 0.5*a_{y}*(-2*q_{w}*q_{z} + 2*q_{x}*q_{y}) + 0.5*a_{z}*(2*q_{w}*q_{y} + 2*q_{x}*q_{z})) + dt*v_{x} + p_{x}],\n",
       "[        dt**2*(0.5*a_{x}*(2*q_{w}*q_{z} + 2*q_{x}*q_{y}) + 0.5*a_{y}*(q_{w}**2 - q_{x}**2 + q_{y}**2 - q_{z}**2) + 0.5*a_{z}*(-2*q_{w}*q_{x} + 2*q_{y}*q_{z})) + dt*v_{y} + p_{y}],\n",
       "[dt**2*(0.5*a_{x}*(-2*q_{w}*q_{y} + 2*q_{x}*q_{z}) + 0.5*a_{y}*(2*q_{w}*q_{x} + 2*q_{y}*q_{z}) + 0.5*a_{z}*(q_{w}**2 - q_{x}**2 - q_{y}**2 + q_{z}**2) - 4.905) + dt*v_{z} + p_{z}],\n",
       "[                                  dt*(a_{x}*(q_{w}**2 + q_{x}**2 - q_{y}**2 - q_{z}**2) + a_{y}*(-2*q_{w}*q_{z} + 2*q_{x}*q_{y}) + a_{z}*(2*q_{w}*q_{y} + 2*q_{x}*q_{z})) + v_{x}],\n",
       "[                                  dt*(a_{x}*(2*q_{w}*q_{z} + 2*q_{x}*q_{y}) + a_{y}*(q_{w}**2 - q_{x}**2 + q_{y}**2 - q_{z}**2) + a_{z}*(-2*q_{w}*q_{x} + 2*q_{y}*q_{z})) + v_{y}],\n",
       "[                           dt*(a_{x}*(-2*q_{w}*q_{y} + 2*q_{x}*q_{z}) + a_{y}*(2*q_{w}*q_{x} + 2*q_{y}*q_{z}) + a_{z}*(q_{w}**2 - q_{x}**2 - q_{y}**2 + q_{z}**2) - 9.81) + v_{z}],\n",
       "[                                                              q_{w}*cos(dt*|w|/2) - q_{x}*w_{x}*sin(dt*|w|/2)/|w| - q_{y}*w_{y}*sin(dt*|w|/2)/|w| - q_{z}*w_{z}*sin(dt*|w|/2)/|w|],\n",
       "[                                                              q_{w}*w_{x}*sin(dt*|w|/2)/|w| + q_{x}*cos(dt*|w|/2) + q_{y}*w_{z}*sin(dt*|w|/2)/|w| - q_{z}*w_{y}*sin(dt*|w|/2)/|w|],\n",
       "[                                                              q_{w}*w_{y}*sin(dt*|w|/2)/|w| - q_{x}*w_{z}*sin(dt*|w|/2)/|w| + q_{y}*cos(dt*|w|/2) + q_{z}*w_{x}*sin(dt*|w|/2)/|w|],\n",
       "[                                                              q_{w}*w_{z}*sin(dt*|w|/2)/|w| + q_{x}*w_{y}*sin(dt*|w|/2)/|w| - q_{y}*w_{x}*sin(dt*|w|/2)/|w| + q_{z}*cos(dt*|w|/2)],\n",
       "[                                                                                                                                                                  b_{w_x} + w_{w}],\n",
       "[                                                                                                                                                                  b_{w_y} + w_{w}],\n",
       "[                                                                                                                                                                  b_{w_z} + w_{w}],\n",
       "[                                                                                                                                                                  b_{a_x} + w_{a}],\n",
       "[                                                                                                                                                                  b_{a_y} + w_{a}],\n",
       "[                                                                                                                                                                  b_{a_z} + w_{a}]])"
      ]
     },
     "execution_count": 6,
     "metadata": {},
     "output_type": "execute_result"
    }
   ],
   "source": [
    "fxu = Matrix([\n",
    "    p_t,\n",
    "    v_t,\n",
    "    q_t,\n",
    "    b_w_t,\n",
    "    b_a_t\n",
    "])\n",
    "\n",
    "fxu"
   ]
  },
  {
   "cell_type": "code",
   "execution_count": 7,
   "id": "b5cac785",
   "metadata": {},
   "outputs": [
    {
     "data": {
      "text/latex": [
       "$\\displaystyle \\left[\\begin{array}{cccccccccccccccc}1 & 0 & 0 & dt & 0 & 0 & dt^{2} \\cdot \\left(1.0 a_{x} q_{w} - 1.0 a_{y} q_{z} + 1.0 a_{z} q_{y}\\right) & dt^{2} \\cdot \\left(1.0 a_{x} q_{x} + 1.0 a_{y} q_{y} + 1.0 a_{z} q_{z}\\right) & dt^{2} \\left(- 1.0 a_{x} q_{y} + 1.0 a_{y} q_{x} + 1.0 a_{z} q_{w}\\right) & dt^{2} \\left(- 1.0 a_{x} q_{z} - 1.0 a_{y} q_{w} + 1.0 a_{z} q_{x}\\right) & 0 & 0 & 0 & 0 & 0 & 0\\\\0 & 1 & 0 & 0 & dt & 0 & dt^{2} \\cdot \\left(1.0 a_{x} q_{z} + 1.0 a_{y} q_{w} - 1.0 a_{z} q_{x}\\right) & dt^{2} \\cdot \\left(1.0 a_{x} q_{y} - 1.0 a_{y} q_{x} - 1.0 a_{z} q_{w}\\right) & dt^{2} \\cdot \\left(1.0 a_{x} q_{x} + 1.0 a_{y} q_{y} + 1.0 a_{z} q_{z}\\right) & dt^{2} \\cdot \\left(1.0 a_{x} q_{w} - 1.0 a_{y} q_{z} + 1.0 a_{z} q_{y}\\right) & 0 & 0 & 0 & 0 & 0 & 0\\\\0 & 0 & 1 & 0 & 0 & dt & dt^{2} \\left(- 1.0 a_{x} q_{y} + 1.0 a_{y} q_{x} + 1.0 a_{z} q_{w}\\right) & dt^{2} \\cdot \\left(1.0 a_{x} q_{z} + 1.0 a_{y} q_{w} - 1.0 a_{z} q_{x}\\right) & dt^{2} \\left(- 1.0 a_{x} q_{w} + 1.0 a_{y} q_{z} - 1.0 a_{z} q_{y}\\right) & dt^{2} \\cdot \\left(1.0 a_{x} q_{x} + 1.0 a_{y} q_{y} + 1.0 a_{z} q_{z}\\right) & 0 & 0 & 0 & 0 & 0 & 0\\\\0 & 0 & 0 & 1 & 0 & 0 & dt \\left(2 a_{x} q_{w} - 2 a_{y} q_{z} + 2 a_{z} q_{y}\\right) & dt \\left(2 a_{x} q_{x} + 2 a_{y} q_{y} + 2 a_{z} q_{z}\\right) & dt \\left(- 2 a_{x} q_{y} + 2 a_{y} q_{x} + 2 a_{z} q_{w}\\right) & dt \\left(- 2 a_{x} q_{z} - 2 a_{y} q_{w} + 2 a_{z} q_{x}\\right) & 0 & 0 & 0 & 0 & 0 & 0\\\\0 & 0 & 0 & 0 & 1 & 0 & dt \\left(2 a_{x} q_{z} + 2 a_{y} q_{w} - 2 a_{z} q_{x}\\right) & dt \\left(2 a_{x} q_{y} - 2 a_{y} q_{x} - 2 a_{z} q_{w}\\right) & dt \\left(2 a_{x} q_{x} + 2 a_{y} q_{y} + 2 a_{z} q_{z}\\right) & dt \\left(2 a_{x} q_{w} - 2 a_{y} q_{z} + 2 a_{z} q_{y}\\right) & 0 & 0 & 0 & 0 & 0 & 0\\\\0 & 0 & 0 & 0 & 0 & 1 & dt \\left(- 2 a_{x} q_{y} + 2 a_{y} q_{x} + 2 a_{z} q_{w}\\right) & dt \\left(2 a_{x} q_{z} + 2 a_{y} q_{w} - 2 a_{z} q_{x}\\right) & dt \\left(- 2 a_{x} q_{w} + 2 a_{y} q_{z} - 2 a_{z} q_{y}\\right) & dt \\left(2 a_{x} q_{x} + 2 a_{y} q_{y} + 2 a_{z} q_{z}\\right) & 0 & 0 & 0 & 0 & 0 & 0\\\\0 & 0 & 0 & 0 & 0 & 0 & \\cos{\\left(\\frac{dt |w|}{2} \\right)} & - \\frac{w_{x} \\sin{\\left(\\frac{dt |w|}{2} \\right)}}{|w|} & - \\frac{w_{y} \\sin{\\left(\\frac{dt |w|}{2} \\right)}}{|w|} & - \\frac{w_{z} \\sin{\\left(\\frac{dt |w|}{2} \\right)}}{|w|} & 0 & 0 & 0 & 0 & 0 & 0\\\\0 & 0 & 0 & 0 & 0 & 0 & \\frac{w_{x} \\sin{\\left(\\frac{dt |w|}{2} \\right)}}{|w|} & \\cos{\\left(\\frac{dt |w|}{2} \\right)} & \\frac{w_{z} \\sin{\\left(\\frac{dt |w|}{2} \\right)}}{|w|} & - \\frac{w_{y} \\sin{\\left(\\frac{dt |w|}{2} \\right)}}{|w|} & 0 & 0 & 0 & 0 & 0 & 0\\\\0 & 0 & 0 & 0 & 0 & 0 & \\frac{w_{y} \\sin{\\left(\\frac{dt |w|}{2} \\right)}}{|w|} & - \\frac{w_{z} \\sin{\\left(\\frac{dt |w|}{2} \\right)}}{|w|} & \\cos{\\left(\\frac{dt |w|}{2} \\right)} & \\frac{w_{x} \\sin{\\left(\\frac{dt |w|}{2} \\right)}}{|w|} & 0 & 0 & 0 & 0 & 0 & 0\\\\0 & 0 & 0 & 0 & 0 & 0 & \\frac{w_{z} \\sin{\\left(\\frac{dt |w|}{2} \\right)}}{|w|} & \\frac{w_{y} \\sin{\\left(\\frac{dt |w|}{2} \\right)}}{|w|} & - \\frac{w_{x} \\sin{\\left(\\frac{dt |w|}{2} \\right)}}{|w|} & \\cos{\\left(\\frac{dt |w|}{2} \\right)} & 0 & 0 & 0 & 0 & 0 & 0\\\\0 & 0 & 0 & 0 & 0 & 0 & 0 & 0 & 0 & 0 & 1 & 0 & 0 & 0 & 0 & 0\\\\0 & 0 & 0 & 0 & 0 & 0 & 0 & 0 & 0 & 0 & 0 & 1 & 0 & 0 & 0 & 0\\\\0 & 0 & 0 & 0 & 0 & 0 & 0 & 0 & 0 & 0 & 0 & 0 & 1 & 0 & 0 & 0\\\\0 & 0 & 0 & 0 & 0 & 0 & 0 & 0 & 0 & 0 & 0 & 0 & 0 & 1 & 0 & 0\\\\0 & 0 & 0 & 0 & 0 & 0 & 0 & 0 & 0 & 0 & 0 & 0 & 0 & 0 & 1 & 0\\\\0 & 0 & 0 & 0 & 0 & 0 & 0 & 0 & 0 & 0 & 0 & 0 & 0 & 0 & 0 & 1\\end{array}\\right]$"
      ],
      "text/plain": [
       "Matrix([\n",
       "[1, 0, 0, dt,  0,  0,  dt**2*(1.0*a_{x}*q_{w} - 1.0*a_{y}*q_{z} + 1.0*a_{z}*q_{y}), dt**2*(1.0*a_{x}*q_{x} + 1.0*a_{y}*q_{y} + 1.0*a_{z}*q_{z}), dt**2*(-1.0*a_{x}*q_{y} + 1.0*a_{y}*q_{x} + 1.0*a_{z}*q_{w}), dt**2*(-1.0*a_{x}*q_{z} - 1.0*a_{y}*q_{w} + 1.0*a_{z}*q_{x}), 0, 0, 0, 0, 0, 0],\n",
       "[0, 1, 0,  0, dt,  0,  dt**2*(1.0*a_{x}*q_{z} + 1.0*a_{y}*q_{w} - 1.0*a_{z}*q_{x}), dt**2*(1.0*a_{x}*q_{y} - 1.0*a_{y}*q_{x} - 1.0*a_{z}*q_{w}),  dt**2*(1.0*a_{x}*q_{x} + 1.0*a_{y}*q_{y} + 1.0*a_{z}*q_{z}),  dt**2*(1.0*a_{x}*q_{w} - 1.0*a_{y}*q_{z} + 1.0*a_{z}*q_{y}), 0, 0, 0, 0, 0, 0],\n",
       "[0, 0, 1,  0,  0, dt, dt**2*(-1.0*a_{x}*q_{y} + 1.0*a_{y}*q_{x} + 1.0*a_{z}*q_{w}), dt**2*(1.0*a_{x}*q_{z} + 1.0*a_{y}*q_{w} - 1.0*a_{z}*q_{x}), dt**2*(-1.0*a_{x}*q_{w} + 1.0*a_{y}*q_{z} - 1.0*a_{z}*q_{y}),  dt**2*(1.0*a_{x}*q_{x} + 1.0*a_{y}*q_{y} + 1.0*a_{z}*q_{z}), 0, 0, 0, 0, 0, 0],\n",
       "[0, 0, 0,  1,  0,  0,           dt*(2*a_{x}*q_{w} - 2*a_{y}*q_{z} + 2*a_{z}*q_{y}),          dt*(2*a_{x}*q_{x} + 2*a_{y}*q_{y} + 2*a_{z}*q_{z}),          dt*(-2*a_{x}*q_{y} + 2*a_{y}*q_{x} + 2*a_{z}*q_{w}),          dt*(-2*a_{x}*q_{z} - 2*a_{y}*q_{w} + 2*a_{z}*q_{x}), 0, 0, 0, 0, 0, 0],\n",
       "[0, 0, 0,  0,  1,  0,           dt*(2*a_{x}*q_{z} + 2*a_{y}*q_{w} - 2*a_{z}*q_{x}),          dt*(2*a_{x}*q_{y} - 2*a_{y}*q_{x} - 2*a_{z}*q_{w}),           dt*(2*a_{x}*q_{x} + 2*a_{y}*q_{y} + 2*a_{z}*q_{z}),           dt*(2*a_{x}*q_{w} - 2*a_{y}*q_{z} + 2*a_{z}*q_{y}), 0, 0, 0, 0, 0, 0],\n",
       "[0, 0, 0,  0,  0,  1,          dt*(-2*a_{x}*q_{y} + 2*a_{y}*q_{x} + 2*a_{z}*q_{w}),          dt*(2*a_{x}*q_{z} + 2*a_{y}*q_{w} - 2*a_{z}*q_{x}),          dt*(-2*a_{x}*q_{w} + 2*a_{y}*q_{z} - 2*a_{z}*q_{y}),           dt*(2*a_{x}*q_{x} + 2*a_{y}*q_{y} + 2*a_{z}*q_{z}), 0, 0, 0, 0, 0, 0],\n",
       "[0, 0, 0,  0,  0,  0,                                                cos(dt*|w|/2),                                    -w_{x}*sin(dt*|w|/2)/|w|,                                     -w_{y}*sin(dt*|w|/2)/|w|,                                     -w_{z}*sin(dt*|w|/2)/|w|, 0, 0, 0, 0, 0, 0],\n",
       "[0, 0, 0,  0,  0,  0,                                      w_{x}*sin(dt*|w|/2)/|w|,                                               cos(dt*|w|/2),                                      w_{z}*sin(dt*|w|/2)/|w|,                                     -w_{y}*sin(dt*|w|/2)/|w|, 0, 0, 0, 0, 0, 0],\n",
       "[0, 0, 0,  0,  0,  0,                                      w_{y}*sin(dt*|w|/2)/|w|,                                    -w_{z}*sin(dt*|w|/2)/|w|,                                                cos(dt*|w|/2),                                      w_{x}*sin(dt*|w|/2)/|w|, 0, 0, 0, 0, 0, 0],\n",
       "[0, 0, 0,  0,  0,  0,                                      w_{z}*sin(dt*|w|/2)/|w|,                                     w_{y}*sin(dt*|w|/2)/|w|,                                     -w_{x}*sin(dt*|w|/2)/|w|,                                                cos(dt*|w|/2), 0, 0, 0, 0, 0, 0],\n",
       "[0, 0, 0,  0,  0,  0,                                                            0,                                                           0,                                                            0,                                                            0, 1, 0, 0, 0, 0, 0],\n",
       "[0, 0, 0,  0,  0,  0,                                                            0,                                                           0,                                                            0,                                                            0, 0, 1, 0, 0, 0, 0],\n",
       "[0, 0, 0,  0,  0,  0,                                                            0,                                                           0,                                                            0,                                                            0, 0, 0, 1, 0, 0, 0],\n",
       "[0, 0, 0,  0,  0,  0,                                                            0,                                                           0,                                                            0,                                                            0, 0, 0, 0, 1, 0, 0],\n",
       "[0, 0, 0,  0,  0,  0,                                                            0,                                                           0,                                                            0,                                                            0, 0, 0, 0, 0, 1, 0],\n",
       "[0, 0, 0,  0,  0,  0,                                                            0,                                                           0,                                                            0,                                                            0, 0, 0, 0, 0, 0, 1]])"
      ]
     },
     "execution_count": 7,
     "metadata": {},
     "output_type": "execute_result"
    }
   ],
   "source": [
    "F_kinematics = fxu.jacobian(state_x)\n",
    "F_kinematics"
   ]
  },
  {
   "cell_type": "code",
   "execution_count": 33,
   "id": "3e9616b2",
   "metadata": {},
   "outputs": [
    {
     "data": {
      "text/latex": [
       "$\\displaystyle \\left[\\begin{array}{cccccccccccccccc}1 & 0 & 0 & dt & 0 & 0 & dt^{2} \\cdot \\left(1.0 a_{x} q_{w} - 1.0 a_{y} q_{z} + 1.0 a_{z} q_{y}\\right) & dt^{2} \\cdot \\left(1.0 a_{x} q_{x} + 1.0 a_{y} q_{y} + 1.0 a_{z} q_{z}\\right) & dt^{2} \\left(- 1.0 a_{x} q_{y} + 1.0 a_{y} q_{x} + 1.0 a_{z} q_{w}\\right) & dt^{2} \\left(- 1.0 a_{x} q_{z} - 1.0 a_{y} q_{w} + 1.0 a_{z} q_{x}\\right) & 0 & 0 & 0 & 0 & 0 & 0\\end{array}\\right]$"
      ],
      "text/plain": [
       "Matrix([[1, 0, 0, dt, 0, 0, dt**2*(1.0*a_{x}*q_{w} - 1.0*a_{y}*q_{z} + 1.0*a_{z}*q_{y}), dt**2*(1.0*a_{x}*q_{x} + 1.0*a_{y}*q_{y} + 1.0*a_{z}*q_{z}), dt**2*(-1.0*a_{x}*q_{y} + 1.0*a_{y}*q_{x} + 1.0*a_{z}*q_{w}), dt**2*(-1.0*a_{x}*q_{z} - 1.0*a_{y}*q_{w} + 1.0*a_{z}*q_{x}), 0, 0, 0, 0, 0, 0]])"
      ]
     },
     "execution_count": 33,
     "metadata": {},
     "output_type": "execute_result"
    }
   ],
   "source": [
    "F_kinematics[0, :]"
   ]
  },
  {
   "cell_type": "code",
   "execution_count": 9,
   "id": "00b144dc",
   "metadata": {},
   "outputs": [
    {
     "data": {
      "text/latex": [
       "$\\displaystyle \\left[\\begin{matrix}dt^{2} \\cdot \\left(0.5 q_{w}^{2} + 0.5 q_{x}^{2} - 0.5 q_{y}^{2} - 0.5 q_{z}^{2}\\right) & dt^{2} \\left(- 1.0 q_{w} q_{z} + 1.0 q_{x} q_{y}\\right) & dt^{2} \\cdot \\left(1.0 q_{w} q_{y} + 1.0 q_{x} q_{z}\\right) & 0 & 0 & 0\\\\dt^{2} \\cdot \\left(1.0 q_{w} q_{z} + 1.0 q_{x} q_{y}\\right) & dt^{2} \\cdot \\left(0.5 q_{w}^{2} - 0.5 q_{x}^{2} + 0.5 q_{y}^{2} - 0.5 q_{z}^{2}\\right) & dt^{2} \\left(- 1.0 q_{w} q_{x} + 1.0 q_{y} q_{z}\\right) & 0 & 0 & 0\\\\dt^{2} \\left(- 1.0 q_{w} q_{y} + 1.0 q_{x} q_{z}\\right) & dt^{2} \\cdot \\left(1.0 q_{w} q_{x} + 1.0 q_{y} q_{z}\\right) & dt^{2} \\cdot \\left(0.5 q_{w}^{2} - 0.5 q_{x}^{2} - 0.5 q_{y}^{2} + 0.5 q_{z}^{2}\\right) & 0 & 0 & 0\\\\dt \\left(q_{w}^{2} + q_{x}^{2} - q_{y}^{2} - q_{z}^{2}\\right) & dt \\left(- 2 q_{w} q_{z} + 2 q_{x} q_{y}\\right) & dt \\left(2 q_{w} q_{y} + 2 q_{x} q_{z}\\right) & 0 & 0 & 0\\\\dt \\left(2 q_{w} q_{z} + 2 q_{x} q_{y}\\right) & dt \\left(q_{w}^{2} - q_{x}^{2} + q_{y}^{2} - q_{z}^{2}\\right) & dt \\left(- 2 q_{w} q_{x} + 2 q_{y} q_{z}\\right) & 0 & 0 & 0\\\\dt \\left(- 2 q_{w} q_{y} + 2 q_{x} q_{z}\\right) & dt \\left(2 q_{w} q_{x} + 2 q_{y} q_{z}\\right) & dt \\left(q_{w}^{2} - q_{x}^{2} - q_{y}^{2} + q_{z}^{2}\\right) & 0 & 0 & 0\\\\0 & 0 & 0 & - \\frac{q_{x} \\sin{\\left(\\frac{dt |w|}{2} \\right)}}{|w|} & - \\frac{q_{y} \\sin{\\left(\\frac{dt |w|}{2} \\right)}}{|w|} & - \\frac{q_{z} \\sin{\\left(\\frac{dt |w|}{2} \\right)}}{|w|}\\\\0 & 0 & 0 & \\frac{q_{w} \\sin{\\left(\\frac{dt |w|}{2} \\right)}}{|w|} & - \\frac{q_{z} \\sin{\\left(\\frac{dt |w|}{2} \\right)}}{|w|} & \\frac{q_{y} \\sin{\\left(\\frac{dt |w|}{2} \\right)}}{|w|}\\\\0 & 0 & 0 & \\frac{q_{z} \\sin{\\left(\\frac{dt |w|}{2} \\right)}}{|w|} & \\frac{q_{w} \\sin{\\left(\\frac{dt |w|}{2} \\right)}}{|w|} & - \\frac{q_{x} \\sin{\\left(\\frac{dt |w|}{2} \\right)}}{|w|}\\\\0 & 0 & 0 & - \\frac{q_{y} \\sin{\\left(\\frac{dt |w|}{2} \\right)}}{|w|} & \\frac{q_{x} \\sin{\\left(\\frac{dt |w|}{2} \\right)}}{|w|} & \\frac{q_{w} \\sin{\\left(\\frac{dt |w|}{2} \\right)}}{|w|}\\\\0 & 0 & 0 & 0 & 0 & 0\\\\0 & 0 & 0 & 0 & 0 & 0\\\\0 & 0 & 0 & 0 & 0 & 0\\\\0 & 0 & 0 & 0 & 0 & 0\\\\0 & 0 & 0 & 0 & 0 & 0\\\\0 & 0 & 0 & 0 & 0 & 0\\end{matrix}\\right]$"
      ],
      "text/plain": [
       "Matrix([\n",
       "[dt**2*(0.5*q_{w}**2 + 0.5*q_{x}**2 - 0.5*q_{y}**2 - 0.5*q_{z}**2),                        dt**2*(-1.0*q_{w}*q_{z} + 1.0*q_{x}*q_{y}),                         dt**2*(1.0*q_{w}*q_{y} + 1.0*q_{x}*q_{z}),                        0,                        0,                        0],\n",
       "[                        dt**2*(1.0*q_{w}*q_{z} + 1.0*q_{x}*q_{y}), dt**2*(0.5*q_{w}**2 - 0.5*q_{x}**2 + 0.5*q_{y}**2 - 0.5*q_{z}**2),                        dt**2*(-1.0*q_{w}*q_{x} + 1.0*q_{y}*q_{z}),                        0,                        0,                        0],\n",
       "[                       dt**2*(-1.0*q_{w}*q_{y} + 1.0*q_{x}*q_{z}),                         dt**2*(1.0*q_{w}*q_{x} + 1.0*q_{y}*q_{z}), dt**2*(0.5*q_{w}**2 - 0.5*q_{x}**2 - 0.5*q_{y}**2 + 0.5*q_{z}**2),                        0,                        0,                        0],\n",
       "[                   dt*(q_{w}**2 + q_{x}**2 - q_{y}**2 - q_{z}**2),                               dt*(-2*q_{w}*q_{z} + 2*q_{x}*q_{y}),                                dt*(2*q_{w}*q_{y} + 2*q_{x}*q_{z}),                        0,                        0,                        0],\n",
       "[                               dt*(2*q_{w}*q_{z} + 2*q_{x}*q_{y}),                    dt*(q_{w}**2 - q_{x}**2 + q_{y}**2 - q_{z}**2),                               dt*(-2*q_{w}*q_{x} + 2*q_{y}*q_{z}),                        0,                        0,                        0],\n",
       "[                              dt*(-2*q_{w}*q_{y} + 2*q_{x}*q_{z}),                                dt*(2*q_{w}*q_{x} + 2*q_{y}*q_{z}),                    dt*(q_{w}**2 - q_{x}**2 - q_{y}**2 + q_{z}**2),                        0,                        0,                        0],\n",
       "[                                                                0,                                                                 0,                                                                 0, -q_{x}*sin(dt*|w|/2)/|w|, -q_{y}*sin(dt*|w|/2)/|w|, -q_{z}*sin(dt*|w|/2)/|w|],\n",
       "[                                                                0,                                                                 0,                                                                 0,  q_{w}*sin(dt*|w|/2)/|w|, -q_{z}*sin(dt*|w|/2)/|w|,  q_{y}*sin(dt*|w|/2)/|w|],\n",
       "[                                                                0,                                                                 0,                                                                 0,  q_{z}*sin(dt*|w|/2)/|w|,  q_{w}*sin(dt*|w|/2)/|w|, -q_{x}*sin(dt*|w|/2)/|w|],\n",
       "[                                                                0,                                                                 0,                                                                 0, -q_{y}*sin(dt*|w|/2)/|w|,  q_{x}*sin(dt*|w|/2)/|w|,  q_{w}*sin(dt*|w|/2)/|w|],\n",
       "[                                                                0,                                                                 0,                                                                 0,                        0,                        0,                        0],\n",
       "[                                                                0,                                                                 0,                                                                 0,                        0,                        0,                        0],\n",
       "[                                                                0,                                                                 0,                                                                 0,                        0,                        0,                        0],\n",
       "[                                                                0,                                                                 0,                                                                 0,                        0,                        0,                        0],\n",
       "[                                                                0,                                                                 0,                                                                 0,                        0,                        0,                        0],\n",
       "[                                                                0,                                                                 0,                                                                 0,                        0,                        0,                        0]])"
      ]
     },
     "execution_count": 9,
     "metadata": {},
     "output_type": "execute_result"
    }
   ],
   "source": [
    "G_kinematics = fxu.jacobian(control_input)\n",
    "G_kinematics"
   ]
  },
  {
   "cell_type": "code",
   "execution_count": 10,
   "id": "aaeb505c",
   "metadata": {},
   "outputs": [
    {
     "data": {
      "text/latex": [
       "$\\displaystyle \\left[\\begin{matrix}0 & 0 & 0 & 0 & 0 & 0\\end{matrix}\\right]$"
      ],
      "text/plain": [
       "Matrix([[0, 0, 0, 0, 0, 0]])"
      ]
     },
     "execution_count": 10,
     "metadata": {},
     "output_type": "execute_result"
    }
   ],
   "source": [
    "G_kinematics[10, :]"
   ]
  },
  {
   "cell_type": "code",
   "execution_count": 11,
   "id": "d151a48f",
   "metadata": {},
   "outputs": [
    {
     "data": {
      "text/latex": [
       "$\\displaystyle \\left[\\begin{matrix}dt^{2} \\cdot \\left(0.5 a_{x} \\left(q_{w}^{2} + q_{x}^{2} - q_{y}^{2} - q_{z}^{2}\\right) + 0.5 a_{y} \\left(- 2 q_{w} q_{z} + 2 q_{x} q_{y}\\right) + 0.5 a_{z} \\left(2 q_{w} q_{y} + 2 q_{x} q_{z}\\right)\\right) + dt v_{x} + p_{x}\\\\dt^{2} \\cdot \\left(0.5 a_{x} \\left(2 q_{w} q_{z} + 2 q_{x} q_{y}\\right) + 0.5 a_{y} \\left(q_{w}^{2} - q_{x}^{2} + q_{y}^{2} - q_{z}^{2}\\right) + 0.5 a_{z} \\left(- 2 q_{w} q_{x} + 2 q_{y} q_{z}\\right)\\right) + dt v_{y} + p_{y}\\\\dt^{2} \\cdot \\left(0.5 a_{x} \\left(- 2 q_{w} q_{y} + 2 q_{x} q_{z}\\right) + 0.5 a_{y} \\left(2 q_{w} q_{x} + 2 q_{y} q_{z}\\right) + 0.5 a_{z} \\left(q_{w}^{2} - q_{x}^{2} - q_{y}^{2} + q_{z}^{2}\\right) - 4.905\\right) + dt v_{z} + p_{z}\\\\dt \\left(a_{x} \\left(q_{w}^{2} + q_{x}^{2} - q_{y}^{2} - q_{z}^{2}\\right) + a_{y} \\left(- 2 q_{w} q_{z} + 2 q_{x} q_{y}\\right) + a_{z} \\left(2 q_{w} q_{y} + 2 q_{x} q_{z}\\right)\\right) + v_{x}\\\\dt \\left(a_{x} \\left(2 q_{w} q_{z} + 2 q_{x} q_{y}\\right) + a_{y} \\left(q_{w}^{2} - q_{x}^{2} + q_{y}^{2} - q_{z}^{2}\\right) + a_{z} \\left(- 2 q_{w} q_{x} + 2 q_{y} q_{z}\\right)\\right) + v_{y}\\\\dt \\left(a_{x} \\left(- 2 q_{w} q_{y} + 2 q_{x} q_{z}\\right) + a_{y} \\left(2 q_{w} q_{x} + 2 q_{y} q_{z}\\right) + a_{z} \\left(q_{w}^{2} - q_{x}^{2} - q_{y}^{2} + q_{z}^{2}\\right) - 9.81\\right) + v_{z}\\\\q_{w} \\cos{\\left(\\frac{dt |w|}{2} \\right)} - \\frac{q_{x} w_{x} \\sin{\\left(\\frac{dt |w|}{2} \\right)}}{|w|} - \\frac{q_{y} w_{y} \\sin{\\left(\\frac{dt |w|}{2} \\right)}}{|w|} - \\frac{q_{z} w_{z} \\sin{\\left(\\frac{dt |w|}{2} \\right)}}{|w|}\\\\\\frac{q_{w} w_{x} \\sin{\\left(\\frac{dt |w|}{2} \\right)}}{|w|} + q_{x} \\cos{\\left(\\frac{dt |w|}{2} \\right)} + \\frac{q_{y} w_{z} \\sin{\\left(\\frac{dt |w|}{2} \\right)}}{|w|} - \\frac{q_{z} w_{y} \\sin{\\left(\\frac{dt |w|}{2} \\right)}}{|w|}\\\\\\frac{q_{w} w_{y} \\sin{\\left(\\frac{dt |w|}{2} \\right)}}{|w|} - \\frac{q_{x} w_{z} \\sin{\\left(\\frac{dt |w|}{2} \\right)}}{|w|} + q_{y} \\cos{\\left(\\frac{dt |w|}{2} \\right)} + \\frac{q_{z} w_{x} \\sin{\\left(\\frac{dt |w|}{2} \\right)}}{|w|}\\\\\\frac{q_{w} w_{z} \\sin{\\left(\\frac{dt |w|}{2} \\right)}}{|w|} + \\frac{q_{x} w_{y} \\sin{\\left(\\frac{dt |w|}{2} \\right)}}{|w|} - \\frac{q_{y} w_{x} \\sin{\\left(\\frac{dt |w|}{2} \\right)}}{|w|} + q_{z} \\cos{\\left(\\frac{dt |w|}{2} \\right)}\\\\b_{w_x} + w_{w}\\\\b_{w_y} + w_{w}\\\\b_{w_z} + w_{w}\\\\b_{a_x} + w_{a}\\\\b_{a_y} + w_{a}\\\\b_{a_z} + w_{a}\\end{matrix}\\right]$"
      ],
      "text/plain": [
       "Matrix([\n",
       "[        dt**2*(0.5*a_{x}*(q_{w}**2 + q_{x}**2 - q_{y}**2 - q_{z}**2) + 0.5*a_{y}*(-2*q_{w}*q_{z} + 2*q_{x}*q_{y}) + 0.5*a_{z}*(2*q_{w}*q_{y} + 2*q_{x}*q_{z})) + dt*v_{x} + p_{x}],\n",
       "[        dt**2*(0.5*a_{x}*(2*q_{w}*q_{z} + 2*q_{x}*q_{y}) + 0.5*a_{y}*(q_{w}**2 - q_{x}**2 + q_{y}**2 - q_{z}**2) + 0.5*a_{z}*(-2*q_{w}*q_{x} + 2*q_{y}*q_{z})) + dt*v_{y} + p_{y}],\n",
       "[dt**2*(0.5*a_{x}*(-2*q_{w}*q_{y} + 2*q_{x}*q_{z}) + 0.5*a_{y}*(2*q_{w}*q_{x} + 2*q_{y}*q_{z}) + 0.5*a_{z}*(q_{w}**2 - q_{x}**2 - q_{y}**2 + q_{z}**2) - 4.905) + dt*v_{z} + p_{z}],\n",
       "[                                  dt*(a_{x}*(q_{w}**2 + q_{x}**2 - q_{y}**2 - q_{z}**2) + a_{y}*(-2*q_{w}*q_{z} + 2*q_{x}*q_{y}) + a_{z}*(2*q_{w}*q_{y} + 2*q_{x}*q_{z})) + v_{x}],\n",
       "[                                  dt*(a_{x}*(2*q_{w}*q_{z} + 2*q_{x}*q_{y}) + a_{y}*(q_{w}**2 - q_{x}**2 + q_{y}**2 - q_{z}**2) + a_{z}*(-2*q_{w}*q_{x} + 2*q_{y}*q_{z})) + v_{y}],\n",
       "[                           dt*(a_{x}*(-2*q_{w}*q_{y} + 2*q_{x}*q_{z}) + a_{y}*(2*q_{w}*q_{x} + 2*q_{y}*q_{z}) + a_{z}*(q_{w}**2 - q_{x}**2 - q_{y}**2 + q_{z}**2) - 9.81) + v_{z}],\n",
       "[                                                              q_{w}*cos(dt*|w|/2) - q_{x}*w_{x}*sin(dt*|w|/2)/|w| - q_{y}*w_{y}*sin(dt*|w|/2)/|w| - q_{z}*w_{z}*sin(dt*|w|/2)/|w|],\n",
       "[                                                              q_{w}*w_{x}*sin(dt*|w|/2)/|w| + q_{x}*cos(dt*|w|/2) + q_{y}*w_{z}*sin(dt*|w|/2)/|w| - q_{z}*w_{y}*sin(dt*|w|/2)/|w|],\n",
       "[                                                              q_{w}*w_{y}*sin(dt*|w|/2)/|w| - q_{x}*w_{z}*sin(dt*|w|/2)/|w| + q_{y}*cos(dt*|w|/2) + q_{z}*w_{x}*sin(dt*|w|/2)/|w|],\n",
       "[                                                              q_{w}*w_{z}*sin(dt*|w|/2)/|w| + q_{x}*w_{y}*sin(dt*|w|/2)/|w| - q_{y}*w_{x}*sin(dt*|w|/2)/|w| + q_{z}*cos(dt*|w|/2)],\n",
       "[                                                                                                                                                                  b_{w_x} + w_{w}],\n",
       "[                                                                                                                                                                  b_{w_y} + w_{w}],\n",
       "[                                                                                                                                                                  b_{w_z} + w_{w}],\n",
       "[                                                                                                                                                                  b_{a_x} + w_{a}],\n",
       "[                                                                                                                                                                  b_{a_y} + w_{a}],\n",
       "[                                                                                                                                                                  b_{a_z} + w_{a}]])"
      ]
     },
     "execution_count": 11,
     "metadata": {},
     "output_type": "execute_result"
    }
   ],
   "source": [
    "fxu"
   ]
  },
  {
   "cell_type": "code",
   "execution_count": 12,
   "id": "148d07b3",
   "metadata": {},
   "outputs": [
    {
     "data": {
      "text/plain": [
       "array([[ 0.005     ],\n",
       "       [ 0.005     ],\n",
       "       [-0.04405   ],\n",
       "       [ 0.1       ],\n",
       "       [ 0.1       ],\n",
       "       [-0.881     ],\n",
       "       [ 0.99625234],\n",
       "       [ 0.04993752],\n",
       "       [ 0.04993752],\n",
       "       [ 0.04993752],\n",
       "       [ 0.0011    ],\n",
       "       [ 0.0011    ],\n",
       "       [ 0.0011    ],\n",
       "       [ 0.0011    ],\n",
       "       [ 0.0011    ],\n",
       "       [ 0.0011    ]])"
      ]
     },
     "execution_count": 12,
     "metadata": {},
     "output_type": "execute_result"
    }
   ],
   "source": [
    "values = {\n",
    "    px: 0,\n",
    "    py: 0,\n",
    "    pz: 0,\n",
    "    vx: 0,\n",
    "    vy: 0,\n",
    "    vz: 0,\n",
    "    qw: 1,\n",
    "    qx: 0,\n",
    "    qy: 0,\n",
    "    qz: 0,\n",
    "    bwx: 0.001,\n",
    "    bwy: 0.001,\n",
    "    bwz: 0.001,\n",
    "    bax: 0.001,\n",
    "    bay: 0.001,\n",
    "    baz: 0.001,\n",
    "    ax: 1,\n",
    "    ay: 1,\n",
    "    az: 1,\n",
    "    wx: 1,\n",
    "    wy: 1,\n",
    "    wz: 1,\n",
    "    dt: 0.1,\n",
    "    norm_w: np.sqrt(1+1+1),\n",
    "    sigma_w: 0.0001,\n",
    "    sigma_a: 0.0001,\n",
    "    ww: 0.0001,\n",
    "    wa: 0.0001,\n",
    "}\n",
    "\n",
    "x_ = np.array(fxu.evalf(subs=values)).astype(float)  # Convert to numpy array and float type\n",
    "x_"
   ]
  },
  {
   "cell_type": "markdown",
   "id": "c2061430",
   "metadata": {},
   "source": [
    "# Velocity model"
   ]
  },
  {
   "cell_type": "markdown",
   "id": "06d79cae-7a0a-41a9-9087-db2d6c4a7e8e",
   "metadata": {},
   "source": [
    "## Normal condition"
   ]
  },
  {
   "cell_type": "code",
   "execution_count": 58,
   "id": "da5ac948-695a-45d3-8ca3-d5cbfab86b2e",
   "metadata": {},
   "outputs": [],
   "source": [
    "A = sympy.cos(norm_w*dt/2) * sympy.eye(4)\n",
    "B = (1/norm_w)*sympy.sin(norm_w*dt/2)\n",
    "q_t = (A + B * Omega) * q\n",
    "\n",
    "_phi = sympy.atan2(2*(qw*qx + qy*qz), qw**2 - qx**2 - qy**2 + qz**2)\n",
    "_theta = sympy.asin(2*(qw*qy - qx*qz))\n",
    "_psi = sympy.atan2(2*(qw*qz + qx*qy), qw**2 + qx**2 - qy**2 - qz**2)\n",
    "\n",
    "rx = vf / wx\n",
    "rz = vf / wz\n",
    "dphi = wx * dt\n",
    "dpsi = wz * dt"
   ]
  },
  {
   "cell_type": "code",
   "execution_count": 59,
   "id": "e1cebc8e-3158-488d-8a1e-1b62fa15c4bd",
   "metadata": {},
   "outputs": [
    {
     "data": {
      "text/latex": [
       "$\\displaystyle \\left[\\begin{matrix}p_{x} - \\frac{v_{f} \\left(2 q_{w} q_{z} + 2 q_{x} q_{y}\\right)}{w_{z} \\sqrt{\\left(2 q_{w} q_{z} + 2 q_{x} q_{y}\\right)^{2} + \\left(q_{w}^{2} + q_{x}^{2} - q_{y}^{2} - q_{z}^{2}\\right)^{2}}} + \\frac{v_{f} \\sin{\\left(dt w_{z} + \\operatorname{atan}_{2}{\\left(2 q_{w} q_{z} + 2 q_{x} q_{y},q_{w}^{2} + q_{x}^{2} - q_{y}^{2} - q_{z}^{2} \\right)} \\right)}}{w_{z}}\\\\p_{y} - \\frac{v_{f} \\cos{\\left(dt w_{z} + \\operatorname{atan}_{2}{\\left(2 q_{w} q_{z} + 2 q_{x} q_{y},q_{w}^{2} + q_{x}^{2} - q_{y}^{2} - q_{z}^{2} \\right)} \\right)}}{w_{z}} + \\frac{v_{f} \\left(q_{w}^{2} + q_{x}^{2} - q_{y}^{2} - q_{z}^{2}\\right)}{w_{z} \\sqrt{\\left(2 q_{w} q_{z} + 2 q_{x} q_{y}\\right)^{2} + \\left(q_{w}^{2} + q_{x}^{2} - q_{y}^{2} - q_{z}^{2}\\right)^{2}}}\\\\p_{z} - \\frac{v_{f} \\cos{\\left(dt w_{x} + \\operatorname{atan}_{2}{\\left(2 q_{w} q_{x} + 2 q_{y} q_{z},q_{w}^{2} - q_{x}^{2} - q_{y}^{2} + q_{z}^{2} \\right)} \\right)}}{w_{x}} + \\frac{v_{f} \\left(q_{w}^{2} - q_{x}^{2} - q_{y}^{2} + q_{z}^{2}\\right)}{w_{x} \\sqrt{\\left(2 q_{w} q_{x} + 2 q_{y} q_{z}\\right)^{2} + \\left(q_{w}^{2} - q_{x}^{2} - q_{y}^{2} + q_{z}^{2}\\right)^{2}}}\\\\dt \\left(a_{x} \\left(q_{w}^{2} + q_{x}^{2} - q_{y}^{2} - q_{z}^{2}\\right) + a_{y} \\left(- 2 q_{w} q_{z} + 2 q_{x} q_{y}\\right) + a_{z} \\left(2 q_{w} q_{y} + 2 q_{x} q_{z}\\right)\\right) + v_{x}\\\\dt \\left(a_{x} \\left(2 q_{w} q_{z} + 2 q_{x} q_{y}\\right) + a_{y} \\left(q_{w}^{2} - q_{x}^{2} + q_{y}^{2} - q_{z}^{2}\\right) + a_{z} \\left(- 2 q_{w} q_{x} + 2 q_{y} q_{z}\\right)\\right) + v_{y}\\\\dt \\left(a_{x} \\left(- 2 q_{w} q_{y} + 2 q_{x} q_{z}\\right) + a_{y} \\left(2 q_{w} q_{x} + 2 q_{y} q_{z}\\right) + a_{z} \\left(q_{w}^{2} - q_{x}^{2} - q_{y}^{2} + q_{z}^{2}\\right) - 9.81\\right) + v_{z}\\\\q_{w} \\cos{\\left(\\frac{dt |w|}{2} \\right)} - \\frac{q_{x} w_{x} \\sin{\\left(\\frac{dt |w|}{2} \\right)}}{|w|} - \\frac{q_{y} w_{y} \\sin{\\left(\\frac{dt |w|}{2} \\right)}}{|w|} - \\frac{q_{z} w_{z} \\sin{\\left(\\frac{dt |w|}{2} \\right)}}{|w|}\\\\\\frac{q_{w} w_{x} \\sin{\\left(\\frac{dt |w|}{2} \\right)}}{|w|} + q_{x} \\cos{\\left(\\frac{dt |w|}{2} \\right)} + \\frac{q_{y} w_{z} \\sin{\\left(\\frac{dt |w|}{2} \\right)}}{|w|} - \\frac{q_{z} w_{y} \\sin{\\left(\\frac{dt |w|}{2} \\right)}}{|w|}\\\\\\frac{q_{w} w_{y} \\sin{\\left(\\frac{dt |w|}{2} \\right)}}{|w|} - \\frac{q_{x} w_{z} \\sin{\\left(\\frac{dt |w|}{2} \\right)}}{|w|} + q_{y} \\cos{\\left(\\frac{dt |w|}{2} \\right)} + \\frac{q_{z} w_{x} \\sin{\\left(\\frac{dt |w|}{2} \\right)}}{|w|}\\\\\\frac{q_{w} w_{z} \\sin{\\left(\\frac{dt |w|}{2} \\right)}}{|w|} + \\frac{q_{x} w_{y} \\sin{\\left(\\frac{dt |w|}{2} \\right)}}{|w|} - \\frac{q_{y} w_{x} \\sin{\\left(\\frac{dt |w|}{2} \\right)}}{|w|} + q_{z} \\cos{\\left(\\frac{dt |w|}{2} \\right)}\\\\b_{w_x} + w_{w}\\\\b_{w_y} + w_{w}\\\\b_{w_z} + w_{w}\\\\b_{a_x} + w_{a}\\\\b_{a_y} + w_{a}\\\\b_{a_z} + w_{a}\\end{matrix}\\right]$"
      ],
      "text/plain": [
       "Matrix([\n",
       "[            p_{x} - v_{f}*(2*q_{w}*q_{z} + 2*q_{x}*q_{y})/(w_{z}*sqrt((2*q_{w}*q_{z} + 2*q_{x}*q_{y})**2 + (q_{w}**2 + q_{x}**2 - q_{y}**2 - q_{z}**2)**2)) + v_{f}*sin(dt*w_{z} + atan2(2*q_{w}*q_{z} + 2*q_{x}*q_{y}, q_{w}**2 + q_{x}**2 - q_{y}**2 - q_{z}**2))/w_{z}],\n",
       "[p_{y} - v_{f}*cos(dt*w_{z} + atan2(2*q_{w}*q_{z} + 2*q_{x}*q_{y}, q_{w}**2 + q_{x}**2 - q_{y}**2 - q_{z}**2))/w_{z} + v_{f}*(q_{w}**2 + q_{x}**2 - q_{y}**2 - q_{z}**2)/(w_{z}*sqrt((2*q_{w}*q_{z} + 2*q_{x}*q_{y})**2 + (q_{w}**2 + q_{x}**2 - q_{y}**2 - q_{z}**2)**2))],\n",
       "[p_{z} - v_{f}*cos(dt*w_{x} + atan2(2*q_{w}*q_{x} + 2*q_{y}*q_{z}, q_{w}**2 - q_{x}**2 - q_{y}**2 + q_{z}**2))/w_{x} + v_{f}*(q_{w}**2 - q_{x}**2 - q_{y}**2 + q_{z}**2)/(w_{x}*sqrt((2*q_{w}*q_{x} + 2*q_{y}*q_{z})**2 + (q_{w}**2 - q_{x}**2 - q_{y}**2 + q_{z}**2)**2))],\n",
       "[                                                                                                                          dt*(a_{x}*(q_{w}**2 + q_{x}**2 - q_{y}**2 - q_{z}**2) + a_{y}*(-2*q_{w}*q_{z} + 2*q_{x}*q_{y}) + a_{z}*(2*q_{w}*q_{y} + 2*q_{x}*q_{z})) + v_{x}],\n",
       "[                                                                                                                          dt*(a_{x}*(2*q_{w}*q_{z} + 2*q_{x}*q_{y}) + a_{y}*(q_{w}**2 - q_{x}**2 + q_{y}**2 - q_{z}**2) + a_{z}*(-2*q_{w}*q_{x} + 2*q_{y}*q_{z})) + v_{y}],\n",
       "[                                                                                                                   dt*(a_{x}*(-2*q_{w}*q_{y} + 2*q_{x}*q_{z}) + a_{y}*(2*q_{w}*q_{x} + 2*q_{y}*q_{z}) + a_{z}*(q_{w}**2 - q_{x}**2 - q_{y}**2 + q_{z}**2) - 9.81) + v_{z}],\n",
       "[                                                                                                                                                      q_{w}*cos(dt*|w|/2) - q_{x}*w_{x}*sin(dt*|w|/2)/|w| - q_{y}*w_{y}*sin(dt*|w|/2)/|w| - q_{z}*w_{z}*sin(dt*|w|/2)/|w|],\n",
       "[                                                                                                                                                      q_{w}*w_{x}*sin(dt*|w|/2)/|w| + q_{x}*cos(dt*|w|/2) + q_{y}*w_{z}*sin(dt*|w|/2)/|w| - q_{z}*w_{y}*sin(dt*|w|/2)/|w|],\n",
       "[                                                                                                                                                      q_{w}*w_{y}*sin(dt*|w|/2)/|w| - q_{x}*w_{z}*sin(dt*|w|/2)/|w| + q_{y}*cos(dt*|w|/2) + q_{z}*w_{x}*sin(dt*|w|/2)/|w|],\n",
       "[                                                                                                                                                      q_{w}*w_{z}*sin(dt*|w|/2)/|w| + q_{x}*w_{y}*sin(dt*|w|/2)/|w| - q_{y}*w_{x}*sin(dt*|w|/2)/|w| + q_{z}*cos(dt*|w|/2)],\n",
       "[                                                                                                                                                                                                                                                          b_{w_x} + w_{w}],\n",
       "[                                                                                                                                                                                                                                                          b_{w_y} + w_{w}],\n",
       "[                                                                                                                                                                                                                                                          b_{w_z} + w_{w}],\n",
       "[                                                                                                                                                                                                                                                          b_{a_x} + w_{a}],\n",
       "[                                                                                                                                                                                                                                                          b_{a_y} + w_{a}],\n",
       "[                                                                                                                                                                                                                                                          b_{a_z} + w_{a}]])"
      ]
     },
     "execution_count": 59,
     "metadata": {},
     "output_type": "execute_result"
    }
   ],
   "source": [
    "fxu_velocity = Matrix([\n",
    "    [px - rz*sympy.sin(_psi) + rz*sympy.sin(_psi + dpsi)],\n",
    "    [py + rz*sympy.cos(_psi) - rz*sympy.cos(_psi + dpsi)],\n",
    "    [pz + rx*sympy.cos(_phi) - rx*sympy.cos(_phi + dphi)],\n",
    "    v_t,\n",
    "    q_t,\n",
    "    b_w_t,\n",
    "    b_a_t\n",
    "])\n",
    "fxu_velocity"
   ]
  },
  {
   "cell_type": "code",
   "execution_count": 60,
   "id": "049321da-f234-412a-a8ca-5b953effae99",
   "metadata": {},
   "outputs": [
    {
     "data": {
      "text/latex": [
       "$\\displaystyle \\left[\\begin{array}{cccccccccccccccc}1 & 0 & 0 & 0 & 0 & 0 & - \\frac{2 q_{z} v_{f}}{w_{z} \\sqrt{\\left(2 q_{w} q_{z} + 2 q_{x} q_{y}\\right)^{2} + \\left(q_{w}^{2} + q_{x}^{2} - q_{y}^{2} - q_{z}^{2}\\right)^{2}}} - \\frac{v_{f} \\left(2 q_{w} q_{z} + 2 q_{x} q_{y}\\right) \\left(- 2 q_{w} \\left(q_{w}^{2} + q_{x}^{2} - q_{y}^{2} - q_{z}^{2}\\right) - 2 q_{z} \\left(2 q_{w} q_{z} + 2 q_{x} q_{y}\\right)\\right)}{w_{z} \\left(\\left(2 q_{w} q_{z} + 2 q_{x} q_{y}\\right)^{2} + \\left(q_{w}^{2} + q_{x}^{2} - q_{y}^{2} - q_{z}^{2}\\right)^{2}\\right)^{\\frac{3}{2}}} + \\frac{v_{f} \\left(\\frac{2 q_{w} \\left(- 2 q_{w} q_{z} - 2 q_{x} q_{y}\\right)}{\\left(2 q_{w} q_{z} + 2 q_{x} q_{y}\\right)^{2} + \\left(q_{w}^{2} + q_{x}^{2} - q_{y}^{2} - q_{z}^{2}\\right)^{2}} + \\frac{2 q_{z} \\left(q_{w}^{2} + q_{x}^{2} - q_{y}^{2} - q_{z}^{2}\\right)}{\\left(2 q_{w} q_{z} + 2 q_{x} q_{y}\\right)^{2} + \\left(q_{w}^{2} + q_{x}^{2} - q_{y}^{2} - q_{z}^{2}\\right)^{2}}\\right) \\cos{\\left(dt w_{z} + \\operatorname{atan}_{2}{\\left(2 q_{w} q_{z} + 2 q_{x} q_{y},q_{w}^{2} + q_{x}^{2} - q_{y}^{2} - q_{z}^{2} \\right)} \\right)}}{w_{z}} & - \\frac{2 q_{y} v_{f}}{w_{z} \\sqrt{\\left(2 q_{w} q_{z} + 2 q_{x} q_{y}\\right)^{2} + \\left(q_{w}^{2} + q_{x}^{2} - q_{y}^{2} - q_{z}^{2}\\right)^{2}}} - \\frac{v_{f} \\left(2 q_{w} q_{z} + 2 q_{x} q_{y}\\right) \\left(- 2 q_{x} \\left(q_{w}^{2} + q_{x}^{2} - q_{y}^{2} - q_{z}^{2}\\right) - 2 q_{y} \\left(2 q_{w} q_{z} + 2 q_{x} q_{y}\\right)\\right)}{w_{z} \\left(\\left(2 q_{w} q_{z} + 2 q_{x} q_{y}\\right)^{2} + \\left(q_{w}^{2} + q_{x}^{2} - q_{y}^{2} - q_{z}^{2}\\right)^{2}\\right)^{\\frac{3}{2}}} + \\frac{v_{f} \\left(\\frac{2 q_{x} \\left(- 2 q_{w} q_{z} - 2 q_{x} q_{y}\\right)}{\\left(2 q_{w} q_{z} + 2 q_{x} q_{y}\\right)^{2} + \\left(q_{w}^{2} + q_{x}^{2} - q_{y}^{2} - q_{z}^{2}\\right)^{2}} + \\frac{2 q_{y} \\left(q_{w}^{2} + q_{x}^{2} - q_{y}^{2} - q_{z}^{2}\\right)}{\\left(2 q_{w} q_{z} + 2 q_{x} q_{y}\\right)^{2} + \\left(q_{w}^{2} + q_{x}^{2} - q_{y}^{2} - q_{z}^{2}\\right)^{2}}\\right) \\cos{\\left(dt w_{z} + \\operatorname{atan}_{2}{\\left(2 q_{w} q_{z} + 2 q_{x} q_{y},q_{w}^{2} + q_{x}^{2} - q_{y}^{2} - q_{z}^{2} \\right)} \\right)}}{w_{z}} & - \\frac{2 q_{x} v_{f}}{w_{z} \\sqrt{\\left(2 q_{w} q_{z} + 2 q_{x} q_{y}\\right)^{2} + \\left(q_{w}^{2} + q_{x}^{2} - q_{y}^{2} - q_{z}^{2}\\right)^{2}}} - \\frac{v_{f} \\left(2 q_{w} q_{z} + 2 q_{x} q_{y}\\right) \\left(- 2 q_{x} \\left(2 q_{w} q_{z} + 2 q_{x} q_{y}\\right) + 2 q_{y} \\left(q_{w}^{2} + q_{x}^{2} - q_{y}^{2} - q_{z}^{2}\\right)\\right)}{w_{z} \\left(\\left(2 q_{w} q_{z} + 2 q_{x} q_{y}\\right)^{2} + \\left(q_{w}^{2} + q_{x}^{2} - q_{y}^{2} - q_{z}^{2}\\right)^{2}\\right)^{\\frac{3}{2}}} + \\frac{v_{f} \\left(\\frac{2 q_{x} \\left(q_{w}^{2} + q_{x}^{2} - q_{y}^{2} - q_{z}^{2}\\right)}{\\left(2 q_{w} q_{z} + 2 q_{x} q_{y}\\right)^{2} + \\left(q_{w}^{2} + q_{x}^{2} - q_{y}^{2} - q_{z}^{2}\\right)^{2}} - \\frac{2 q_{y} \\left(- 2 q_{w} q_{z} - 2 q_{x} q_{y}\\right)}{\\left(2 q_{w} q_{z} + 2 q_{x} q_{y}\\right)^{2} + \\left(q_{w}^{2} + q_{x}^{2} - q_{y}^{2} - q_{z}^{2}\\right)^{2}}\\right) \\cos{\\left(dt w_{z} + \\operatorname{atan}_{2}{\\left(2 q_{w} q_{z} + 2 q_{x} q_{y},q_{w}^{2} + q_{x}^{2} - q_{y}^{2} - q_{z}^{2} \\right)} \\right)}}{w_{z}} & - \\frac{2 q_{w} v_{f}}{w_{z} \\sqrt{\\left(2 q_{w} q_{z} + 2 q_{x} q_{y}\\right)^{2} + \\left(q_{w}^{2} + q_{x}^{2} - q_{y}^{2} - q_{z}^{2}\\right)^{2}}} - \\frac{v_{f} \\left(2 q_{w} q_{z} + 2 q_{x} q_{y}\\right) \\left(- 2 q_{w} \\left(2 q_{w} q_{z} + 2 q_{x} q_{y}\\right) + 2 q_{z} \\left(q_{w}^{2} + q_{x}^{2} - q_{y}^{2} - q_{z}^{2}\\right)\\right)}{w_{z} \\left(\\left(2 q_{w} q_{z} + 2 q_{x} q_{y}\\right)^{2} + \\left(q_{w}^{2} + q_{x}^{2} - q_{y}^{2} - q_{z}^{2}\\right)^{2}\\right)^{\\frac{3}{2}}} + \\frac{v_{f} \\left(\\frac{2 q_{w} \\left(q_{w}^{2} + q_{x}^{2} - q_{y}^{2} - q_{z}^{2}\\right)}{\\left(2 q_{w} q_{z} + 2 q_{x} q_{y}\\right)^{2} + \\left(q_{w}^{2} + q_{x}^{2} - q_{y}^{2} - q_{z}^{2}\\right)^{2}} - \\frac{2 q_{z} \\left(- 2 q_{w} q_{z} - 2 q_{x} q_{y}\\right)}{\\left(2 q_{w} q_{z} + 2 q_{x} q_{y}\\right)^{2} + \\left(q_{w}^{2} + q_{x}^{2} - q_{y}^{2} - q_{z}^{2}\\right)^{2}}\\right) \\cos{\\left(dt w_{z} + \\operatorname{atan}_{2}{\\left(2 q_{w} q_{z} + 2 q_{x} q_{y},q_{w}^{2} + q_{x}^{2} - q_{y}^{2} - q_{z}^{2} \\right)} \\right)}}{w_{z}} & 0 & 0 & 0 & 0 & 0 & 0\\\\0 & 1 & 0 & 0 & 0 & 0 & \\frac{2 q_{w} v_{f}}{w_{z} \\sqrt{\\left(2 q_{w} q_{z} + 2 q_{x} q_{y}\\right)^{2} + \\left(q_{w}^{2} + q_{x}^{2} - q_{y}^{2} - q_{z}^{2}\\right)^{2}}} + \\frac{v_{f} \\left(- 2 q_{w} \\left(q_{w}^{2} + q_{x}^{2} - q_{y}^{2} - q_{z}^{2}\\right) - 2 q_{z} \\left(2 q_{w} q_{z} + 2 q_{x} q_{y}\\right)\\right) \\left(q_{w}^{2} + q_{x}^{2} - q_{y}^{2} - q_{z}^{2}\\right)}{w_{z} \\left(\\left(2 q_{w} q_{z} + 2 q_{x} q_{y}\\right)^{2} + \\left(q_{w}^{2} + q_{x}^{2} - q_{y}^{2} - q_{z}^{2}\\right)^{2}\\right)^{\\frac{3}{2}}} + \\frac{v_{f} \\left(\\frac{2 q_{w} \\left(- 2 q_{w} q_{z} - 2 q_{x} q_{y}\\right)}{\\left(2 q_{w} q_{z} + 2 q_{x} q_{y}\\right)^{2} + \\left(q_{w}^{2} + q_{x}^{2} - q_{y}^{2} - q_{z}^{2}\\right)^{2}} + \\frac{2 q_{z} \\left(q_{w}^{2} + q_{x}^{2} - q_{y}^{2} - q_{z}^{2}\\right)}{\\left(2 q_{w} q_{z} + 2 q_{x} q_{y}\\right)^{2} + \\left(q_{w}^{2} + q_{x}^{2} - q_{y}^{2} - q_{z}^{2}\\right)^{2}}\\right) \\sin{\\left(dt w_{z} + \\operatorname{atan}_{2}{\\left(2 q_{w} q_{z} + 2 q_{x} q_{y},q_{w}^{2} + q_{x}^{2} - q_{y}^{2} - q_{z}^{2} \\right)} \\right)}}{w_{z}} & \\frac{2 q_{x} v_{f}}{w_{z} \\sqrt{\\left(2 q_{w} q_{z} + 2 q_{x} q_{y}\\right)^{2} + \\left(q_{w}^{2} + q_{x}^{2} - q_{y}^{2} - q_{z}^{2}\\right)^{2}}} + \\frac{v_{f} \\left(- 2 q_{x} \\left(q_{w}^{2} + q_{x}^{2} - q_{y}^{2} - q_{z}^{2}\\right) - 2 q_{y} \\left(2 q_{w} q_{z} + 2 q_{x} q_{y}\\right)\\right) \\left(q_{w}^{2} + q_{x}^{2} - q_{y}^{2} - q_{z}^{2}\\right)}{w_{z} \\left(\\left(2 q_{w} q_{z} + 2 q_{x} q_{y}\\right)^{2} + \\left(q_{w}^{2} + q_{x}^{2} - q_{y}^{2} - q_{z}^{2}\\right)^{2}\\right)^{\\frac{3}{2}}} + \\frac{v_{f} \\left(\\frac{2 q_{x} \\left(- 2 q_{w} q_{z} - 2 q_{x} q_{y}\\right)}{\\left(2 q_{w} q_{z} + 2 q_{x} q_{y}\\right)^{2} + \\left(q_{w}^{2} + q_{x}^{2} - q_{y}^{2} - q_{z}^{2}\\right)^{2}} + \\frac{2 q_{y} \\left(q_{w}^{2} + q_{x}^{2} - q_{y}^{2} - q_{z}^{2}\\right)}{\\left(2 q_{w} q_{z} + 2 q_{x} q_{y}\\right)^{2} + \\left(q_{w}^{2} + q_{x}^{2} - q_{y}^{2} - q_{z}^{2}\\right)^{2}}\\right) \\sin{\\left(dt w_{z} + \\operatorname{atan}_{2}{\\left(2 q_{w} q_{z} + 2 q_{x} q_{y},q_{w}^{2} + q_{x}^{2} - q_{y}^{2} - q_{z}^{2} \\right)} \\right)}}{w_{z}} & - \\frac{2 q_{y} v_{f}}{w_{z} \\sqrt{\\left(2 q_{w} q_{z} + 2 q_{x} q_{y}\\right)^{2} + \\left(q_{w}^{2} + q_{x}^{2} - q_{y}^{2} - q_{z}^{2}\\right)^{2}}} + \\frac{v_{f} \\left(- 2 q_{x} \\left(2 q_{w} q_{z} + 2 q_{x} q_{y}\\right) + 2 q_{y} \\left(q_{w}^{2} + q_{x}^{2} - q_{y}^{2} - q_{z}^{2}\\right)\\right) \\left(q_{w}^{2} + q_{x}^{2} - q_{y}^{2} - q_{z}^{2}\\right)}{w_{z} \\left(\\left(2 q_{w} q_{z} + 2 q_{x} q_{y}\\right)^{2} + \\left(q_{w}^{2} + q_{x}^{2} - q_{y}^{2} - q_{z}^{2}\\right)^{2}\\right)^{\\frac{3}{2}}} + \\frac{v_{f} \\left(\\frac{2 q_{x} \\left(q_{w}^{2} + q_{x}^{2} - q_{y}^{2} - q_{z}^{2}\\right)}{\\left(2 q_{w} q_{z} + 2 q_{x} q_{y}\\right)^{2} + \\left(q_{w}^{2} + q_{x}^{2} - q_{y}^{2} - q_{z}^{2}\\right)^{2}} - \\frac{2 q_{y} \\left(- 2 q_{w} q_{z} - 2 q_{x} q_{y}\\right)}{\\left(2 q_{w} q_{z} + 2 q_{x} q_{y}\\right)^{2} + \\left(q_{w}^{2} + q_{x}^{2} - q_{y}^{2} - q_{z}^{2}\\right)^{2}}\\right) \\sin{\\left(dt w_{z} + \\operatorname{atan}_{2}{\\left(2 q_{w} q_{z} + 2 q_{x} q_{y},q_{w}^{2} + q_{x}^{2} - q_{y}^{2} - q_{z}^{2} \\right)} \\right)}}{w_{z}} & - \\frac{2 q_{z} v_{f}}{w_{z} \\sqrt{\\left(2 q_{w} q_{z} + 2 q_{x} q_{y}\\right)^{2} + \\left(q_{w}^{2} + q_{x}^{2} - q_{y}^{2} - q_{z}^{2}\\right)^{2}}} + \\frac{v_{f} \\left(- 2 q_{w} \\left(2 q_{w} q_{z} + 2 q_{x} q_{y}\\right) + 2 q_{z} \\left(q_{w}^{2} + q_{x}^{2} - q_{y}^{2} - q_{z}^{2}\\right)\\right) \\left(q_{w}^{2} + q_{x}^{2} - q_{y}^{2} - q_{z}^{2}\\right)}{w_{z} \\left(\\left(2 q_{w} q_{z} + 2 q_{x} q_{y}\\right)^{2} + \\left(q_{w}^{2} + q_{x}^{2} - q_{y}^{2} - q_{z}^{2}\\right)^{2}\\right)^{\\frac{3}{2}}} + \\frac{v_{f} \\left(\\frac{2 q_{w} \\left(q_{w}^{2} + q_{x}^{2} - q_{y}^{2} - q_{z}^{2}\\right)}{\\left(2 q_{w} q_{z} + 2 q_{x} q_{y}\\right)^{2} + \\left(q_{w}^{2} + q_{x}^{2} - q_{y}^{2} - q_{z}^{2}\\right)^{2}} - \\frac{2 q_{z} \\left(- 2 q_{w} q_{z} - 2 q_{x} q_{y}\\right)}{\\left(2 q_{w} q_{z} + 2 q_{x} q_{y}\\right)^{2} + \\left(q_{w}^{2} + q_{x}^{2} - q_{y}^{2} - q_{z}^{2}\\right)^{2}}\\right) \\sin{\\left(dt w_{z} + \\operatorname{atan}_{2}{\\left(2 q_{w} q_{z} + 2 q_{x} q_{y},q_{w}^{2} + q_{x}^{2} - q_{y}^{2} - q_{z}^{2} \\right)} \\right)}}{w_{z}} & 0 & 0 & 0 & 0 & 0 & 0\\\\0 & 0 & 1 & 0 & 0 & 0 & \\frac{2 q_{w} v_{f}}{w_{x} \\sqrt{\\left(2 q_{w} q_{x} + 2 q_{y} q_{z}\\right)^{2} + \\left(q_{w}^{2} - q_{x}^{2} - q_{y}^{2} + q_{z}^{2}\\right)^{2}}} + \\frac{v_{f} \\left(- 2 q_{w} \\left(q_{w}^{2} - q_{x}^{2} - q_{y}^{2} + q_{z}^{2}\\right) - 2 q_{x} \\left(2 q_{w} q_{x} + 2 q_{y} q_{z}\\right)\\right) \\left(q_{w}^{2} - q_{x}^{2} - q_{y}^{2} + q_{z}^{2}\\right)}{w_{x} \\left(\\left(2 q_{w} q_{x} + 2 q_{y} q_{z}\\right)^{2} + \\left(q_{w}^{2} - q_{x}^{2} - q_{y}^{2} + q_{z}^{2}\\right)^{2}\\right)^{\\frac{3}{2}}} + \\frac{v_{f} \\left(\\frac{2 q_{w} \\left(- 2 q_{w} q_{x} - 2 q_{y} q_{z}\\right)}{\\left(2 q_{w} q_{x} + 2 q_{y} q_{z}\\right)^{2} + \\left(q_{w}^{2} - q_{x}^{2} - q_{y}^{2} + q_{z}^{2}\\right)^{2}} + \\frac{2 q_{x} \\left(q_{w}^{2} - q_{x}^{2} - q_{y}^{2} + q_{z}^{2}\\right)}{\\left(2 q_{w} q_{x} + 2 q_{y} q_{z}\\right)^{2} + \\left(q_{w}^{2} - q_{x}^{2} - q_{y}^{2} + q_{z}^{2}\\right)^{2}}\\right) \\sin{\\left(dt w_{x} + \\operatorname{atan}_{2}{\\left(2 q_{w} q_{x} + 2 q_{y} q_{z},q_{w}^{2} - q_{x}^{2} - q_{y}^{2} + q_{z}^{2} \\right)} \\right)}}{w_{x}} & - \\frac{2 q_{x} v_{f}}{w_{x} \\sqrt{\\left(2 q_{w} q_{x} + 2 q_{y} q_{z}\\right)^{2} + \\left(q_{w}^{2} - q_{x}^{2} - q_{y}^{2} + q_{z}^{2}\\right)^{2}}} + \\frac{v_{f} \\left(- 2 q_{w} \\left(2 q_{w} q_{x} + 2 q_{y} q_{z}\\right) + 2 q_{x} \\left(q_{w}^{2} - q_{x}^{2} - q_{y}^{2} + q_{z}^{2}\\right)\\right) \\left(q_{w}^{2} - q_{x}^{2} - q_{y}^{2} + q_{z}^{2}\\right)}{w_{x} \\left(\\left(2 q_{w} q_{x} + 2 q_{y} q_{z}\\right)^{2} + \\left(q_{w}^{2} - q_{x}^{2} - q_{y}^{2} + q_{z}^{2}\\right)^{2}\\right)^{\\frac{3}{2}}} + \\frac{v_{f} \\left(\\frac{2 q_{w} \\left(q_{w}^{2} - q_{x}^{2} - q_{y}^{2} + q_{z}^{2}\\right)}{\\left(2 q_{w} q_{x} + 2 q_{y} q_{z}\\right)^{2} + \\left(q_{w}^{2} - q_{x}^{2} - q_{y}^{2} + q_{z}^{2}\\right)^{2}} - \\frac{2 q_{x} \\left(- 2 q_{w} q_{x} - 2 q_{y} q_{z}\\right)}{\\left(2 q_{w} q_{x} + 2 q_{y} q_{z}\\right)^{2} + \\left(q_{w}^{2} - q_{x}^{2} - q_{y}^{2} + q_{z}^{2}\\right)^{2}}\\right) \\sin{\\left(dt w_{x} + \\operatorname{atan}_{2}{\\left(2 q_{w} q_{x} + 2 q_{y} q_{z},q_{w}^{2} - q_{x}^{2} - q_{y}^{2} + q_{z}^{2} \\right)} \\right)}}{w_{x}} & - \\frac{2 q_{y} v_{f}}{w_{x} \\sqrt{\\left(2 q_{w} q_{x} + 2 q_{y} q_{z}\\right)^{2} + \\left(q_{w}^{2} - q_{x}^{2} - q_{y}^{2} + q_{z}^{2}\\right)^{2}}} + \\frac{v_{f} \\left(2 q_{y} \\left(q_{w}^{2} - q_{x}^{2} - q_{y}^{2} + q_{z}^{2}\\right) - 2 q_{z} \\left(2 q_{w} q_{x} + 2 q_{y} q_{z}\\right)\\right) \\left(q_{w}^{2} - q_{x}^{2} - q_{y}^{2} + q_{z}^{2}\\right)}{w_{x} \\left(\\left(2 q_{w} q_{x} + 2 q_{y} q_{z}\\right)^{2} + \\left(q_{w}^{2} - q_{x}^{2} - q_{y}^{2} + q_{z}^{2}\\right)^{2}\\right)^{\\frac{3}{2}}} + \\frac{v_{f} \\left(- \\frac{2 q_{y} \\left(- 2 q_{w} q_{x} - 2 q_{y} q_{z}\\right)}{\\left(2 q_{w} q_{x} + 2 q_{y} q_{z}\\right)^{2} + \\left(q_{w}^{2} - q_{x}^{2} - q_{y}^{2} + q_{z}^{2}\\right)^{2}} + \\frac{2 q_{z} \\left(q_{w}^{2} - q_{x}^{2} - q_{y}^{2} + q_{z}^{2}\\right)}{\\left(2 q_{w} q_{x} + 2 q_{y} q_{z}\\right)^{2} + \\left(q_{w}^{2} - q_{x}^{2} - q_{y}^{2} + q_{z}^{2}\\right)^{2}}\\right) \\sin{\\left(dt w_{x} + \\operatorname{atan}_{2}{\\left(2 q_{w} q_{x} + 2 q_{y} q_{z},q_{w}^{2} - q_{x}^{2} - q_{y}^{2} + q_{z}^{2} \\right)} \\right)}}{w_{x}} & \\frac{2 q_{z} v_{f}}{w_{x} \\sqrt{\\left(2 q_{w} q_{x} + 2 q_{y} q_{z}\\right)^{2} + \\left(q_{w}^{2} - q_{x}^{2} - q_{y}^{2} + q_{z}^{2}\\right)^{2}}} + \\frac{v_{f} \\left(- 2 q_{y} \\left(2 q_{w} q_{x} + 2 q_{y} q_{z}\\right) - 2 q_{z} \\left(q_{w}^{2} - q_{x}^{2} - q_{y}^{2} + q_{z}^{2}\\right)\\right) \\left(q_{w}^{2} - q_{x}^{2} - q_{y}^{2} + q_{z}^{2}\\right)}{w_{x} \\left(\\left(2 q_{w} q_{x} + 2 q_{y} q_{z}\\right)^{2} + \\left(q_{w}^{2} - q_{x}^{2} - q_{y}^{2} + q_{z}^{2}\\right)^{2}\\right)^{\\frac{3}{2}}} + \\frac{v_{f} \\left(\\frac{2 q_{y} \\left(q_{w}^{2} - q_{x}^{2} - q_{y}^{2} + q_{z}^{2}\\right)}{\\left(2 q_{w} q_{x} + 2 q_{y} q_{z}\\right)^{2} + \\left(q_{w}^{2} - q_{x}^{2} - q_{y}^{2} + q_{z}^{2}\\right)^{2}} + \\frac{2 q_{z} \\left(- 2 q_{w} q_{x} - 2 q_{y} q_{z}\\right)}{\\left(2 q_{w} q_{x} + 2 q_{y} q_{z}\\right)^{2} + \\left(q_{w}^{2} - q_{x}^{2} - q_{y}^{2} + q_{z}^{2}\\right)^{2}}\\right) \\sin{\\left(dt w_{x} + \\operatorname{atan}_{2}{\\left(2 q_{w} q_{x} + 2 q_{y} q_{z},q_{w}^{2} - q_{x}^{2} - q_{y}^{2} + q_{z}^{2} \\right)} \\right)}}{w_{x}} & 0 & 0 & 0 & 0 & 0 & 0\\\\0 & 0 & 0 & 1 & 0 & 0 & dt \\left(2 a_{x} q_{w} - 2 a_{y} q_{z} + 2 a_{z} q_{y}\\right) & dt \\left(2 a_{x} q_{x} + 2 a_{y} q_{y} + 2 a_{z} q_{z}\\right) & dt \\left(- 2 a_{x} q_{y} + 2 a_{y} q_{x} + 2 a_{z} q_{w}\\right) & dt \\left(- 2 a_{x} q_{z} - 2 a_{y} q_{w} + 2 a_{z} q_{x}\\right) & 0 & 0 & 0 & 0 & 0 & 0\\\\0 & 0 & 0 & 0 & 1 & 0 & dt \\left(2 a_{x} q_{z} + 2 a_{y} q_{w} - 2 a_{z} q_{x}\\right) & dt \\left(2 a_{x} q_{y} - 2 a_{y} q_{x} - 2 a_{z} q_{w}\\right) & dt \\left(2 a_{x} q_{x} + 2 a_{y} q_{y} + 2 a_{z} q_{z}\\right) & dt \\left(2 a_{x} q_{w} - 2 a_{y} q_{z} + 2 a_{z} q_{y}\\right) & 0 & 0 & 0 & 0 & 0 & 0\\\\0 & 0 & 0 & 0 & 0 & 1 & dt \\left(- 2 a_{x} q_{y} + 2 a_{y} q_{x} + 2 a_{z} q_{w}\\right) & dt \\left(2 a_{x} q_{z} + 2 a_{y} q_{w} - 2 a_{z} q_{x}\\right) & dt \\left(- 2 a_{x} q_{w} + 2 a_{y} q_{z} - 2 a_{z} q_{y}\\right) & dt \\left(2 a_{x} q_{x} + 2 a_{y} q_{y} + 2 a_{z} q_{z}\\right) & 0 & 0 & 0 & 0 & 0 & 0\\\\0 & 0 & 0 & 0 & 0 & 0 & \\cos{\\left(\\frac{dt |w|}{2} \\right)} & - \\frac{w_{x} \\sin{\\left(\\frac{dt |w|}{2} \\right)}}{|w|} & - \\frac{w_{y} \\sin{\\left(\\frac{dt |w|}{2} \\right)}}{|w|} & - \\frac{w_{z} \\sin{\\left(\\frac{dt |w|}{2} \\right)}}{|w|} & 0 & 0 & 0 & 0 & 0 & 0\\\\0 & 0 & 0 & 0 & 0 & 0 & \\frac{w_{x} \\sin{\\left(\\frac{dt |w|}{2} \\right)}}{|w|} & \\cos{\\left(\\frac{dt |w|}{2} \\right)} & \\frac{w_{z} \\sin{\\left(\\frac{dt |w|}{2} \\right)}}{|w|} & - \\frac{w_{y} \\sin{\\left(\\frac{dt |w|}{2} \\right)}}{|w|} & 0 & 0 & 0 & 0 & 0 & 0\\\\0 & 0 & 0 & 0 & 0 & 0 & \\frac{w_{y} \\sin{\\left(\\frac{dt |w|}{2} \\right)}}{|w|} & - \\frac{w_{z} \\sin{\\left(\\frac{dt |w|}{2} \\right)}}{|w|} & \\cos{\\left(\\frac{dt |w|}{2} \\right)} & \\frac{w_{x} \\sin{\\left(\\frac{dt |w|}{2} \\right)}}{|w|} & 0 & 0 & 0 & 0 & 0 & 0\\\\0 & 0 & 0 & 0 & 0 & 0 & \\frac{w_{z} \\sin{\\left(\\frac{dt |w|}{2} \\right)}}{|w|} & \\frac{w_{y} \\sin{\\left(\\frac{dt |w|}{2} \\right)}}{|w|} & - \\frac{w_{x} \\sin{\\left(\\frac{dt |w|}{2} \\right)}}{|w|} & \\cos{\\left(\\frac{dt |w|}{2} \\right)} & 0 & 0 & 0 & 0 & 0 & 0\\\\0 & 0 & 0 & 0 & 0 & 0 & 0 & 0 & 0 & 0 & 1 & 0 & 0 & 0 & 0 & 0\\\\0 & 0 & 0 & 0 & 0 & 0 & 0 & 0 & 0 & 0 & 0 & 1 & 0 & 0 & 0 & 0\\\\0 & 0 & 0 & 0 & 0 & 0 & 0 & 0 & 0 & 0 & 0 & 0 & 1 & 0 & 0 & 0\\\\0 & 0 & 0 & 0 & 0 & 0 & 0 & 0 & 0 & 0 & 0 & 0 & 0 & 1 & 0 & 0\\\\0 & 0 & 0 & 0 & 0 & 0 & 0 & 0 & 0 & 0 & 0 & 0 & 0 & 0 & 1 & 0\\\\0 & 0 & 0 & 0 & 0 & 0 & 0 & 0 & 0 & 0 & 0 & 0 & 0 & 0 & 0 & 1\\end{array}\\right]$"
      ],
      "text/plain": [
       "Matrix([\n",
       "[1, 0, 0, 0, 0, 0,            -2*q_{z}*v_{f}/(w_{z}*sqrt((2*q_{w}*q_{z} + 2*q_{x}*q_{y})**2 + (q_{w}**2 + q_{x}**2 - q_{y}**2 - q_{z}**2)**2)) - v_{f}*(2*q_{w}*q_{z} + 2*q_{x}*q_{y})*(-2*q_{w}*(q_{w}**2 + q_{x}**2 - q_{y}**2 - q_{z}**2) - 2*q_{z}*(2*q_{w}*q_{z} + 2*q_{x}*q_{y}))/(w_{z}*((2*q_{w}*q_{z} + 2*q_{x}*q_{y})**2 + (q_{w}**2 + q_{x}**2 - q_{y}**2 - q_{z}**2)**2)**(3/2)) + v_{f}*(2*q_{w}*(-2*q_{w}*q_{z} - 2*q_{x}*q_{y})/((2*q_{w}*q_{z} + 2*q_{x}*q_{y})**2 + (q_{w}**2 + q_{x}**2 - q_{y}**2 - q_{z}**2)**2) + 2*q_{z}*(q_{w}**2 + q_{x}**2 - q_{y}**2 - q_{z}**2)/((2*q_{w}*q_{z} + 2*q_{x}*q_{y})**2 + (q_{w}**2 + q_{x}**2 - q_{y}**2 - q_{z}**2)**2))*cos(dt*w_{z} + atan2(2*q_{w}*q_{z} + 2*q_{x}*q_{y}, q_{w}**2 + q_{x}**2 - q_{y}**2 - q_{z}**2))/w_{z},             -2*q_{y}*v_{f}/(w_{z}*sqrt((2*q_{w}*q_{z} + 2*q_{x}*q_{y})**2 + (q_{w}**2 + q_{x}**2 - q_{y}**2 - q_{z}**2)**2)) - v_{f}*(2*q_{w}*q_{z} + 2*q_{x}*q_{y})*(-2*q_{x}*(q_{w}**2 + q_{x}**2 - q_{y}**2 - q_{z}**2) - 2*q_{y}*(2*q_{w}*q_{z} + 2*q_{x}*q_{y}))/(w_{z}*((2*q_{w}*q_{z} + 2*q_{x}*q_{y})**2 + (q_{w}**2 + q_{x}**2 - q_{y}**2 - q_{z}**2)**2)**(3/2)) + v_{f}*(2*q_{x}*(-2*q_{w}*q_{z} - 2*q_{x}*q_{y})/((2*q_{w}*q_{z} + 2*q_{x}*q_{y})**2 + (q_{w}**2 + q_{x}**2 - q_{y}**2 - q_{z}**2)**2) + 2*q_{y}*(q_{w}**2 + q_{x}**2 - q_{y}**2 - q_{z}**2)/((2*q_{w}*q_{z} + 2*q_{x}*q_{y})**2 + (q_{w}**2 + q_{x}**2 - q_{y}**2 - q_{z}**2)**2))*cos(dt*w_{z} + atan2(2*q_{w}*q_{z} + 2*q_{x}*q_{y}, q_{w}**2 + q_{x}**2 - q_{y}**2 - q_{z}**2))/w_{z},             -2*q_{x}*v_{f}/(w_{z}*sqrt((2*q_{w}*q_{z} + 2*q_{x}*q_{y})**2 + (q_{w}**2 + q_{x}**2 - q_{y}**2 - q_{z}**2)**2)) - v_{f}*(2*q_{w}*q_{z} + 2*q_{x}*q_{y})*(-2*q_{x}*(2*q_{w}*q_{z} + 2*q_{x}*q_{y}) + 2*q_{y}*(q_{w}**2 + q_{x}**2 - q_{y}**2 - q_{z}**2))/(w_{z}*((2*q_{w}*q_{z} + 2*q_{x}*q_{y})**2 + (q_{w}**2 + q_{x}**2 - q_{y}**2 - q_{z}**2)**2)**(3/2)) + v_{f}*(2*q_{x}*(q_{w}**2 + q_{x}**2 - q_{y}**2 - q_{z}**2)/((2*q_{w}*q_{z} + 2*q_{x}*q_{y})**2 + (q_{w}**2 + q_{x}**2 - q_{y}**2 - q_{z}**2)**2) - 2*q_{y}*(-2*q_{w}*q_{z} - 2*q_{x}*q_{y})/((2*q_{w}*q_{z} + 2*q_{x}*q_{y})**2 + (q_{w}**2 + q_{x}**2 - q_{y}**2 - q_{z}**2)**2))*cos(dt*w_{z} + atan2(2*q_{w}*q_{z} + 2*q_{x}*q_{y}, q_{w}**2 + q_{x}**2 - q_{y}**2 - q_{z}**2))/w_{z},             -2*q_{w}*v_{f}/(w_{z}*sqrt((2*q_{w}*q_{z} + 2*q_{x}*q_{y})**2 + (q_{w}**2 + q_{x}**2 - q_{y}**2 - q_{z}**2)**2)) - v_{f}*(2*q_{w}*q_{z} + 2*q_{x}*q_{y})*(-2*q_{w}*(2*q_{w}*q_{z} + 2*q_{x}*q_{y}) + 2*q_{z}*(q_{w}**2 + q_{x}**2 - q_{y}**2 - q_{z}**2))/(w_{z}*((2*q_{w}*q_{z} + 2*q_{x}*q_{y})**2 + (q_{w}**2 + q_{x}**2 - q_{y}**2 - q_{z}**2)**2)**(3/2)) + v_{f}*(2*q_{w}*(q_{w}**2 + q_{x}**2 - q_{y}**2 - q_{z}**2)/((2*q_{w}*q_{z} + 2*q_{x}*q_{y})**2 + (q_{w}**2 + q_{x}**2 - q_{y}**2 - q_{z}**2)**2) - 2*q_{z}*(-2*q_{w}*q_{z} - 2*q_{x}*q_{y})/((2*q_{w}*q_{z} + 2*q_{x}*q_{y})**2 + (q_{w}**2 + q_{x}**2 - q_{y}**2 - q_{z}**2)**2))*cos(dt*w_{z} + atan2(2*q_{w}*q_{z} + 2*q_{x}*q_{y}, q_{w}**2 + q_{x}**2 - q_{y}**2 - q_{z}**2))/w_{z}, 0, 0, 0, 0, 0, 0],\n",
       "[0, 1, 0, 0, 0, 0, 2*q_{w}*v_{f}/(w_{z}*sqrt((2*q_{w}*q_{z} + 2*q_{x}*q_{y})**2 + (q_{w}**2 + q_{x}**2 - q_{y}**2 - q_{z}**2)**2)) + v_{f}*(-2*q_{w}*(q_{w}**2 + q_{x}**2 - q_{y}**2 - q_{z}**2) - 2*q_{z}*(2*q_{w}*q_{z} + 2*q_{x}*q_{y}))*(q_{w}**2 + q_{x}**2 - q_{y}**2 - q_{z}**2)/(w_{z}*((2*q_{w}*q_{z} + 2*q_{x}*q_{y})**2 + (q_{w}**2 + q_{x}**2 - q_{y}**2 - q_{z}**2)**2)**(3/2)) + v_{f}*(2*q_{w}*(-2*q_{w}*q_{z} - 2*q_{x}*q_{y})/((2*q_{w}*q_{z} + 2*q_{x}*q_{y})**2 + (q_{w}**2 + q_{x}**2 - q_{y}**2 - q_{z}**2)**2) + 2*q_{z}*(q_{w}**2 + q_{x}**2 - q_{y}**2 - q_{z}**2)/((2*q_{w}*q_{z} + 2*q_{x}*q_{y})**2 + (q_{w}**2 + q_{x}**2 - q_{y}**2 - q_{z}**2)**2))*sin(dt*w_{z} + atan2(2*q_{w}*q_{z} + 2*q_{x}*q_{y}, q_{w}**2 + q_{x}**2 - q_{y}**2 - q_{z}**2))/w_{z},  2*q_{x}*v_{f}/(w_{z}*sqrt((2*q_{w}*q_{z} + 2*q_{x}*q_{y})**2 + (q_{w}**2 + q_{x}**2 - q_{y}**2 - q_{z}**2)**2)) + v_{f}*(-2*q_{x}*(q_{w}**2 + q_{x}**2 - q_{y}**2 - q_{z}**2) - 2*q_{y}*(2*q_{w}*q_{z} + 2*q_{x}*q_{y}))*(q_{w}**2 + q_{x}**2 - q_{y}**2 - q_{z}**2)/(w_{z}*((2*q_{w}*q_{z} + 2*q_{x}*q_{y})**2 + (q_{w}**2 + q_{x}**2 - q_{y}**2 - q_{z}**2)**2)**(3/2)) + v_{f}*(2*q_{x}*(-2*q_{w}*q_{z} - 2*q_{x}*q_{y})/((2*q_{w}*q_{z} + 2*q_{x}*q_{y})**2 + (q_{w}**2 + q_{x}**2 - q_{y}**2 - q_{z}**2)**2) + 2*q_{y}*(q_{w}**2 + q_{x}**2 - q_{y}**2 - q_{z}**2)/((2*q_{w}*q_{z} + 2*q_{x}*q_{y})**2 + (q_{w}**2 + q_{x}**2 - q_{y}**2 - q_{z}**2)**2))*sin(dt*w_{z} + atan2(2*q_{w}*q_{z} + 2*q_{x}*q_{y}, q_{w}**2 + q_{x}**2 - q_{y}**2 - q_{z}**2))/w_{z}, -2*q_{y}*v_{f}/(w_{z}*sqrt((2*q_{w}*q_{z} + 2*q_{x}*q_{y})**2 + (q_{w}**2 + q_{x}**2 - q_{y}**2 - q_{z}**2)**2)) + v_{f}*(-2*q_{x}*(2*q_{w}*q_{z} + 2*q_{x}*q_{y}) + 2*q_{y}*(q_{w}**2 + q_{x}**2 - q_{y}**2 - q_{z}**2))*(q_{w}**2 + q_{x}**2 - q_{y}**2 - q_{z}**2)/(w_{z}*((2*q_{w}*q_{z} + 2*q_{x}*q_{y})**2 + (q_{w}**2 + q_{x}**2 - q_{y}**2 - q_{z}**2)**2)**(3/2)) + v_{f}*(2*q_{x}*(q_{w}**2 + q_{x}**2 - q_{y}**2 - q_{z}**2)/((2*q_{w}*q_{z} + 2*q_{x}*q_{y})**2 + (q_{w}**2 + q_{x}**2 - q_{y}**2 - q_{z}**2)**2) - 2*q_{y}*(-2*q_{w}*q_{z} - 2*q_{x}*q_{y})/((2*q_{w}*q_{z} + 2*q_{x}*q_{y})**2 + (q_{w}**2 + q_{x}**2 - q_{y}**2 - q_{z}**2)**2))*sin(dt*w_{z} + atan2(2*q_{w}*q_{z} + 2*q_{x}*q_{y}, q_{w}**2 + q_{x}**2 - q_{y}**2 - q_{z}**2))/w_{z}, -2*q_{z}*v_{f}/(w_{z}*sqrt((2*q_{w}*q_{z} + 2*q_{x}*q_{y})**2 + (q_{w}**2 + q_{x}**2 - q_{y}**2 - q_{z}**2)**2)) + v_{f}*(-2*q_{w}*(2*q_{w}*q_{z} + 2*q_{x}*q_{y}) + 2*q_{z}*(q_{w}**2 + q_{x}**2 - q_{y}**2 - q_{z}**2))*(q_{w}**2 + q_{x}**2 - q_{y}**2 - q_{z}**2)/(w_{z}*((2*q_{w}*q_{z} + 2*q_{x}*q_{y})**2 + (q_{w}**2 + q_{x}**2 - q_{y}**2 - q_{z}**2)**2)**(3/2)) + v_{f}*(2*q_{w}*(q_{w}**2 + q_{x}**2 - q_{y}**2 - q_{z}**2)/((2*q_{w}*q_{z} + 2*q_{x}*q_{y})**2 + (q_{w}**2 + q_{x}**2 - q_{y}**2 - q_{z}**2)**2) - 2*q_{z}*(-2*q_{w}*q_{z} - 2*q_{x}*q_{y})/((2*q_{w}*q_{z} + 2*q_{x}*q_{y})**2 + (q_{w}**2 + q_{x}**2 - q_{y}**2 - q_{z}**2)**2))*sin(dt*w_{z} + atan2(2*q_{w}*q_{z} + 2*q_{x}*q_{y}, q_{w}**2 + q_{x}**2 - q_{y}**2 - q_{z}**2))/w_{z}, 0, 0, 0, 0, 0, 0],\n",
       "[0, 0, 1, 0, 0, 0, 2*q_{w}*v_{f}/(w_{x}*sqrt((2*q_{w}*q_{x} + 2*q_{y}*q_{z})**2 + (q_{w}**2 - q_{x}**2 - q_{y}**2 + q_{z}**2)**2)) + v_{f}*(-2*q_{w}*(q_{w}**2 - q_{x}**2 - q_{y}**2 + q_{z}**2) - 2*q_{x}*(2*q_{w}*q_{x} + 2*q_{y}*q_{z}))*(q_{w}**2 - q_{x}**2 - q_{y}**2 + q_{z}**2)/(w_{x}*((2*q_{w}*q_{x} + 2*q_{y}*q_{z})**2 + (q_{w}**2 - q_{x}**2 - q_{y}**2 + q_{z}**2)**2)**(3/2)) + v_{f}*(2*q_{w}*(-2*q_{w}*q_{x} - 2*q_{y}*q_{z})/((2*q_{w}*q_{x} + 2*q_{y}*q_{z})**2 + (q_{w}**2 - q_{x}**2 - q_{y}**2 + q_{z}**2)**2) + 2*q_{x}*(q_{w}**2 - q_{x}**2 - q_{y}**2 + q_{z}**2)/((2*q_{w}*q_{x} + 2*q_{y}*q_{z})**2 + (q_{w}**2 - q_{x}**2 - q_{y}**2 + q_{z}**2)**2))*sin(dt*w_{x} + atan2(2*q_{w}*q_{x} + 2*q_{y}*q_{z}, q_{w}**2 - q_{x}**2 - q_{y}**2 + q_{z}**2))/w_{x}, -2*q_{x}*v_{f}/(w_{x}*sqrt((2*q_{w}*q_{x} + 2*q_{y}*q_{z})**2 + (q_{w}**2 - q_{x}**2 - q_{y}**2 + q_{z}**2)**2)) + v_{f}*(-2*q_{w}*(2*q_{w}*q_{x} + 2*q_{y}*q_{z}) + 2*q_{x}*(q_{w}**2 - q_{x}**2 - q_{y}**2 + q_{z}**2))*(q_{w}**2 - q_{x}**2 - q_{y}**2 + q_{z}**2)/(w_{x}*((2*q_{w}*q_{x} + 2*q_{y}*q_{z})**2 + (q_{w}**2 - q_{x}**2 - q_{y}**2 + q_{z}**2)**2)**(3/2)) + v_{f}*(2*q_{w}*(q_{w}**2 - q_{x}**2 - q_{y}**2 + q_{z}**2)/((2*q_{w}*q_{x} + 2*q_{y}*q_{z})**2 + (q_{w}**2 - q_{x}**2 - q_{y}**2 + q_{z}**2)**2) - 2*q_{x}*(-2*q_{w}*q_{x} - 2*q_{y}*q_{z})/((2*q_{w}*q_{x} + 2*q_{y}*q_{z})**2 + (q_{w}**2 - q_{x}**2 - q_{y}**2 + q_{z}**2)**2))*sin(dt*w_{x} + atan2(2*q_{w}*q_{x} + 2*q_{y}*q_{z}, q_{w}**2 - q_{x}**2 - q_{y}**2 + q_{z}**2))/w_{x}, -2*q_{y}*v_{f}/(w_{x}*sqrt((2*q_{w}*q_{x} + 2*q_{y}*q_{z})**2 + (q_{w}**2 - q_{x}**2 - q_{y}**2 + q_{z}**2)**2)) + v_{f}*(2*q_{y}*(q_{w}**2 - q_{x}**2 - q_{y}**2 + q_{z}**2) - 2*q_{z}*(2*q_{w}*q_{x} + 2*q_{y}*q_{z}))*(q_{w}**2 - q_{x}**2 - q_{y}**2 + q_{z}**2)/(w_{x}*((2*q_{w}*q_{x} + 2*q_{y}*q_{z})**2 + (q_{w}**2 - q_{x}**2 - q_{y}**2 + q_{z}**2)**2)**(3/2)) + v_{f}*(-2*q_{y}*(-2*q_{w}*q_{x} - 2*q_{y}*q_{z})/((2*q_{w}*q_{x} + 2*q_{y}*q_{z})**2 + (q_{w}**2 - q_{x}**2 - q_{y}**2 + q_{z}**2)**2) + 2*q_{z}*(q_{w}**2 - q_{x}**2 - q_{y}**2 + q_{z}**2)/((2*q_{w}*q_{x} + 2*q_{y}*q_{z})**2 + (q_{w}**2 - q_{x}**2 - q_{y}**2 + q_{z}**2)**2))*sin(dt*w_{x} + atan2(2*q_{w}*q_{x} + 2*q_{y}*q_{z}, q_{w}**2 - q_{x}**2 - q_{y}**2 + q_{z}**2))/w_{x},  2*q_{z}*v_{f}/(w_{x}*sqrt((2*q_{w}*q_{x} + 2*q_{y}*q_{z})**2 + (q_{w}**2 - q_{x}**2 - q_{y}**2 + q_{z}**2)**2)) + v_{f}*(-2*q_{y}*(2*q_{w}*q_{x} + 2*q_{y}*q_{z}) - 2*q_{z}*(q_{w}**2 - q_{x}**2 - q_{y}**2 + q_{z}**2))*(q_{w}**2 - q_{x}**2 - q_{y}**2 + q_{z}**2)/(w_{x}*((2*q_{w}*q_{x} + 2*q_{y}*q_{z})**2 + (q_{w}**2 - q_{x}**2 - q_{y}**2 + q_{z}**2)**2)**(3/2)) + v_{f}*(2*q_{y}*(q_{w}**2 - q_{x}**2 - q_{y}**2 + q_{z}**2)/((2*q_{w}*q_{x} + 2*q_{y}*q_{z})**2 + (q_{w}**2 - q_{x}**2 - q_{y}**2 + q_{z}**2)**2) + 2*q_{z}*(-2*q_{w}*q_{x} - 2*q_{y}*q_{z})/((2*q_{w}*q_{x} + 2*q_{y}*q_{z})**2 + (q_{w}**2 - q_{x}**2 - q_{y}**2 + q_{z}**2)**2))*sin(dt*w_{x} + atan2(2*q_{w}*q_{x} + 2*q_{y}*q_{z}, q_{w}**2 - q_{x}**2 - q_{y}**2 + q_{z}**2))/w_{x}, 0, 0, 0, 0, 0, 0],\n",
       "[0, 0, 0, 1, 0, 0,                                                                                                                                                                                                                                                                                                                                                                                                                                                                                                                                                                                                                                                                                                                   dt*(2*a_{x}*q_{w} - 2*a_{y}*q_{z} + 2*a_{z}*q_{y}),                                                                                                                                                                                                                                                                                                                                                                                                                                                                                                                                                                                                                                                                                                                    dt*(2*a_{x}*q_{x} + 2*a_{y}*q_{y} + 2*a_{z}*q_{z}),                                                                                                                                                                                                                                                                                                                                                                                                                                                                                                                                                                                                                                                                                                                   dt*(-2*a_{x}*q_{y} + 2*a_{y}*q_{x} + 2*a_{z}*q_{w}),                                                                                                                                                                                                                                                                                                                                                                                                                                                                                                                                                                                                                                                                                                                   dt*(-2*a_{x}*q_{z} - 2*a_{y}*q_{w} + 2*a_{z}*q_{x}), 0, 0, 0, 0, 0, 0],\n",
       "[0, 0, 0, 0, 1, 0,                                                                                                                                                                                                                                                                                                                                                                                                                                                                                                                                                                                                                                                                                                                   dt*(2*a_{x}*q_{z} + 2*a_{y}*q_{w} - 2*a_{z}*q_{x}),                                                                                                                                                                                                                                                                                                                                                                                                                                                                                                                                                                                                                                                                                                                    dt*(2*a_{x}*q_{y} - 2*a_{y}*q_{x} - 2*a_{z}*q_{w}),                                                                                                                                                                                                                                                                                                                                                                                                                                                                                                                                                                                                                                                                                                                    dt*(2*a_{x}*q_{x} + 2*a_{y}*q_{y} + 2*a_{z}*q_{z}),                                                                                                                                                                                                                                                                                                                                                                                                                                                                                                                                                                                                                                                                                                                    dt*(2*a_{x}*q_{w} - 2*a_{y}*q_{z} + 2*a_{z}*q_{y}), 0, 0, 0, 0, 0, 0],\n",
       "[0, 0, 0, 0, 0, 1,                                                                                                                                                                                                                                                                                                                                                                                                                                                                                                                                                                                                                                                                                                                  dt*(-2*a_{x}*q_{y} + 2*a_{y}*q_{x} + 2*a_{z}*q_{w}),                                                                                                                                                                                                                                                                                                                                                                                                                                                                                                                                                                                                                                                                                                                    dt*(2*a_{x}*q_{z} + 2*a_{y}*q_{w} - 2*a_{z}*q_{x}),                                                                                                                                                                                                                                                                                                                                                                                                                                                                                                                                                                                                                                                                                                                   dt*(-2*a_{x}*q_{w} + 2*a_{y}*q_{z} - 2*a_{z}*q_{y}),                                                                                                                                                                                                                                                                                                                                                                                                                                                                                                                                                                                                                                                                                                                    dt*(2*a_{x}*q_{x} + 2*a_{y}*q_{y} + 2*a_{z}*q_{z}), 0, 0, 0, 0, 0, 0],\n",
       "[0, 0, 0, 0, 0, 0,                                                                                                                                                                                                                                                                                                                                                                                                                                                                                                                                                                                                                                                                                                                                                        cos(dt*|w|/2),                                                                                                                                                                                                                                                                                                                                                                                                                                                                                                                                                                                                                                                                                                                                              -w_{x}*sin(dt*|w|/2)/|w|,                                                                                                                                                                                                                                                                                                                                                                                                                                                                                                                                                                                                                                                                                                                                              -w_{y}*sin(dt*|w|/2)/|w|,                                                                                                                                                                                                                                                                                                                                                                                                                                                                                                                                                                                                                                                                                                                                              -w_{z}*sin(dt*|w|/2)/|w|, 0, 0, 0, 0, 0, 0],\n",
       "[0, 0, 0, 0, 0, 0,                                                                                                                                                                                                                                                                                                                                                                                                                                                                                                                                                                                                                                                                                                                                              w_{x}*sin(dt*|w|/2)/|w|,                                                                                                                                                                                                                                                                                                                                                                                                                                                                                                                                                                                                                                                                                                                                                         cos(dt*|w|/2),                                                                                                                                                                                                                                                                                                                                                                                                                                                                                                                                                                                                                                                                                                                                               w_{z}*sin(dt*|w|/2)/|w|,                                                                                                                                                                                                                                                                                                                                                                                                                                                                                                                                                                                                                                                                                                                                              -w_{y}*sin(dt*|w|/2)/|w|, 0, 0, 0, 0, 0, 0],\n",
       "[0, 0, 0, 0, 0, 0,                                                                                                                                                                                                                                                                                                                                                                                                                                                                                                                                                                                                                                                                                                                                              w_{y}*sin(dt*|w|/2)/|w|,                                                                                                                                                                                                                                                                                                                                                                                                                                                                                                                                                                                                                                                                                                                                              -w_{z}*sin(dt*|w|/2)/|w|,                                                                                                                                                                                                                                                                                                                                                                                                                                                                                                                                                                                                                                                                                                                                                         cos(dt*|w|/2),                                                                                                                                                                                                                                                                                                                                                                                                                                                                                                                                                                                                                                                                                                                                               w_{x}*sin(dt*|w|/2)/|w|, 0, 0, 0, 0, 0, 0],\n",
       "[0, 0, 0, 0, 0, 0,                                                                                                                                                                                                                                                                                                                                                                                                                                                                                                                                                                                                                                                                                                                                              w_{z}*sin(dt*|w|/2)/|w|,                                                                                                                                                                                                                                                                                                                                                                                                                                                                                                                                                                                                                                                                                                                                               w_{y}*sin(dt*|w|/2)/|w|,                                                                                                                                                                                                                                                                                                                                                                                                                                                                                                                                                                                                                                                                                                                                              -w_{x}*sin(dt*|w|/2)/|w|,                                                                                                                                                                                                                                                                                                                                                                                                                                                                                                                                                                                                                                                                                                                                                         cos(dt*|w|/2), 0, 0, 0, 0, 0, 0],\n",
       "[0, 0, 0, 0, 0, 0,                                                                                                                                                                                                                                                                                                                                                                                                                                                                                                                                                                                                                                                                                                                                                                    0,                                                                                                                                                                                                                                                                                                                                                                                                                                                                                                                                                                                                                                                                                                                                                                     0,                                                                                                                                                                                                                                                                                                                                                                                                                                                                                                                                                                                                                                                                                                                                                                     0,                                                                                                                                                                                                                                                                                                                                                                                                                                                                                                                                                                                                                                                                                                                                                                     0, 1, 0, 0, 0, 0, 0],\n",
       "[0, 0, 0, 0, 0, 0,                                                                                                                                                                                                                                                                                                                                                                                                                                                                                                                                                                                                                                                                                                                                                                    0,                                                                                                                                                                                                                                                                                                                                                                                                                                                                                                                                                                                                                                                                                                                                                                     0,                                                                                                                                                                                                                                                                                                                                                                                                                                                                                                                                                                                                                                                                                                                                                                     0,                                                                                                                                                                                                                                                                                                                                                                                                                                                                                                                                                                                                                                                                                                                                                                     0, 0, 1, 0, 0, 0, 0],\n",
       "[0, 0, 0, 0, 0, 0,                                                                                                                                                                                                                                                                                                                                                                                                                                                                                                                                                                                                                                                                                                                                                                    0,                                                                                                                                                                                                                                                                                                                                                                                                                                                                                                                                                                                                                                                                                                                                                                     0,                                                                                                                                                                                                                                                                                                                                                                                                                                                                                                                                                                                                                                                                                                                                                                     0,                                                                                                                                                                                                                                                                                                                                                                                                                                                                                                                                                                                                                                                                                                                                                                     0, 0, 0, 1, 0, 0, 0],\n",
       "[0, 0, 0, 0, 0, 0,                                                                                                                                                                                                                                                                                                                                                                                                                                                                                                                                                                                                                                                                                                                                                                    0,                                                                                                                                                                                                                                                                                                                                                                                                                                                                                                                                                                                                                                                                                                                                                                     0,                                                                                                                                                                                                                                                                                                                                                                                                                                                                                                                                                                                                                                                                                                                                                                     0,                                                                                                                                                                                                                                                                                                                                                                                                                                                                                                                                                                                                                                                                                                                                                                     0, 0, 0, 0, 1, 0, 0],\n",
       "[0, 0, 0, 0, 0, 0,                                                                                                                                                                                                                                                                                                                                                                                                                                                                                                                                                                                                                                                                                                                                                                    0,                                                                                                                                                                                                                                                                                                                                                                                                                                                                                                                                                                                                                                                                                                                                                                     0,                                                                                                                                                                                                                                                                                                                                                                                                                                                                                                                                                                                                                                                                                                                                                                     0,                                                                                                                                                                                                                                                                                                                                                                                                                                                                                                                                                                                                                                                                                                                                                                     0, 0, 0, 0, 0, 1, 0],\n",
       "[0, 0, 0, 0, 0, 0,                                                                                                                                                                                                                                                                                                                                                                                                                                                                                                                                                                                                                                                                                                                                                                    0,                                                                                                                                                                                                                                                                                                                                                                                                                                                                                                                                                                                                                                                                                                                                                                     0,                                                                                                                                                                                                                                                                                                                                                                                                                                                                                                                                                                                                                                                                                                                                                                     0,                                                                                                                                                                                                                                                                                                                                                                                                                                                                                                                                                                                                                                                                                                                                                                     0, 0, 0, 0, 0, 0, 1]])"
      ]
     },
     "execution_count": 60,
     "metadata": {},
     "output_type": "execute_result"
    }
   ],
   "source": [
    "F_velocity = fxu_velocity.jacobian(state_x)\n",
    "F_velocity"
   ]
  },
  {
   "cell_type": "code",
   "execution_count": 61,
   "id": "4212e10e",
   "metadata": {},
   "outputs": [
    {
     "data": {
      "text/latex": [
       "$\\displaystyle \\left[\\begin{array}{cccccccccccccccc}0 & 0 & 0 & 0 & 0 & 0 & 0 & 0 & 0 & 0 & 1 & 0 & 0 & 0 & 0 & 0\\end{array}\\right]$"
      ],
      "text/plain": [
       "Matrix([[0, 0, 0, 0, 0, 0, 0, 0, 0, 0, 1, 0, 0, 0, 0, 0]])"
      ]
     },
     "execution_count": 61,
     "metadata": {},
     "output_type": "execute_result"
    }
   ],
   "source": [
    "F_velocity[10, :]"
   ]
  },
  {
   "cell_type": "code",
   "execution_count": 62,
   "id": "22d8d7b5-a6e1-4d92-b0c8-19531e72076d",
   "metadata": {},
   "outputs": [
    {
     "data": {
      "text/latex": [
       "$\\displaystyle \\left[\\begin{matrix}0 & 0 & 0 & 0 & 0 & \\frac{dt v_{f} \\cos{\\left(dt w_{z} + \\operatorname{atan}_{2}{\\left(2 q_{w} q_{z} + 2 q_{x} q_{y},q_{w}^{2} + q_{x}^{2} - q_{y}^{2} - q_{z}^{2} \\right)} \\right)}}{w_{z}} + \\frac{v_{f} \\left(2 q_{w} q_{z} + 2 q_{x} q_{y}\\right)}{w_{z}^{2} \\sqrt{\\left(2 q_{w} q_{z} + 2 q_{x} q_{y}\\right)^{2} + \\left(q_{w}^{2} + q_{x}^{2} - q_{y}^{2} - q_{z}^{2}\\right)^{2}}} - \\frac{v_{f} \\sin{\\left(dt w_{z} + \\operatorname{atan}_{2}{\\left(2 q_{w} q_{z} + 2 q_{x} q_{y},q_{w}^{2} + q_{x}^{2} - q_{y}^{2} - q_{z}^{2} \\right)} \\right)}}{w_{z}^{2}}\\\\0 & 0 & 0 & 0 & 0 & \\frac{dt v_{f} \\sin{\\left(dt w_{z} + \\operatorname{atan}_{2}{\\left(2 q_{w} q_{z} + 2 q_{x} q_{y},q_{w}^{2} + q_{x}^{2} - q_{y}^{2} - q_{z}^{2} \\right)} \\right)}}{w_{z}} + \\frac{v_{f} \\cos{\\left(dt w_{z} + \\operatorname{atan}_{2}{\\left(2 q_{w} q_{z} + 2 q_{x} q_{y},q_{w}^{2} + q_{x}^{2} - q_{y}^{2} - q_{z}^{2} \\right)} \\right)}}{w_{z}^{2}} - \\frac{v_{f} \\left(q_{w}^{2} + q_{x}^{2} - q_{y}^{2} - q_{z}^{2}\\right)}{w_{z}^{2} \\sqrt{\\left(2 q_{w} q_{z} + 2 q_{x} q_{y}\\right)^{2} + \\left(q_{w}^{2} + q_{x}^{2} - q_{y}^{2} - q_{z}^{2}\\right)^{2}}}\\\\0 & 0 & 0 & \\frac{dt v_{f} \\sin{\\left(dt w_{x} + \\operatorname{atan}_{2}{\\left(2 q_{w} q_{x} + 2 q_{y} q_{z},q_{w}^{2} - q_{x}^{2} - q_{y}^{2} + q_{z}^{2} \\right)} \\right)}}{w_{x}} + \\frac{v_{f} \\cos{\\left(dt w_{x} + \\operatorname{atan}_{2}{\\left(2 q_{w} q_{x} + 2 q_{y} q_{z},q_{w}^{2} - q_{x}^{2} - q_{y}^{2} + q_{z}^{2} \\right)} \\right)}}{w_{x}^{2}} - \\frac{v_{f} \\left(q_{w}^{2} - q_{x}^{2} - q_{y}^{2} + q_{z}^{2}\\right)}{w_{x}^{2} \\sqrt{\\left(2 q_{w} q_{x} + 2 q_{y} q_{z}\\right)^{2} + \\left(q_{w}^{2} - q_{x}^{2} - q_{y}^{2} + q_{z}^{2}\\right)^{2}}} & 0 & 0\\\\dt \\left(q_{w}^{2} + q_{x}^{2} - q_{y}^{2} - q_{z}^{2}\\right) & dt \\left(- 2 q_{w} q_{z} + 2 q_{x} q_{y}\\right) & dt \\left(2 q_{w} q_{y} + 2 q_{x} q_{z}\\right) & 0 & 0 & 0\\\\dt \\left(2 q_{w} q_{z} + 2 q_{x} q_{y}\\right) & dt \\left(q_{w}^{2} - q_{x}^{2} + q_{y}^{2} - q_{z}^{2}\\right) & dt \\left(- 2 q_{w} q_{x} + 2 q_{y} q_{z}\\right) & 0 & 0 & 0\\\\dt \\left(- 2 q_{w} q_{y} + 2 q_{x} q_{z}\\right) & dt \\left(2 q_{w} q_{x} + 2 q_{y} q_{z}\\right) & dt \\left(q_{w}^{2} - q_{x}^{2} - q_{y}^{2} + q_{z}^{2}\\right) & 0 & 0 & 0\\\\0 & 0 & 0 & - \\frac{q_{x} \\sin{\\left(\\frac{dt |w|}{2} \\right)}}{|w|} & - \\frac{q_{y} \\sin{\\left(\\frac{dt |w|}{2} \\right)}}{|w|} & - \\frac{q_{z} \\sin{\\left(\\frac{dt |w|}{2} \\right)}}{|w|}\\\\0 & 0 & 0 & \\frac{q_{w} \\sin{\\left(\\frac{dt |w|}{2} \\right)}}{|w|} & - \\frac{q_{z} \\sin{\\left(\\frac{dt |w|}{2} \\right)}}{|w|} & \\frac{q_{y} \\sin{\\left(\\frac{dt |w|}{2} \\right)}}{|w|}\\\\0 & 0 & 0 & \\frac{q_{z} \\sin{\\left(\\frac{dt |w|}{2} \\right)}}{|w|} & \\frac{q_{w} \\sin{\\left(\\frac{dt |w|}{2} \\right)}}{|w|} & - \\frac{q_{x} \\sin{\\left(\\frac{dt |w|}{2} \\right)}}{|w|}\\\\0 & 0 & 0 & - \\frac{q_{y} \\sin{\\left(\\frac{dt |w|}{2} \\right)}}{|w|} & \\frac{q_{x} \\sin{\\left(\\frac{dt |w|}{2} \\right)}}{|w|} & \\frac{q_{w} \\sin{\\left(\\frac{dt |w|}{2} \\right)}}{|w|}\\\\0 & 0 & 0 & 0 & 0 & 0\\\\0 & 0 & 0 & 0 & 0 & 0\\\\0 & 0 & 0 & 0 & 0 & 0\\\\0 & 0 & 0 & 0 & 0 & 0\\\\0 & 0 & 0 & 0 & 0 & 0\\\\0 & 0 & 0 & 0 & 0 & 0\\end{matrix}\\right]$"
      ],
      "text/plain": [
       "Matrix([\n",
       "[                                             0,                                              0,                                              0,                                                                                                                                                                                                                                                                                                                                                                                        0,                        0,             dt*v_{f}*cos(dt*w_{z} + atan2(2*q_{w}*q_{z} + 2*q_{x}*q_{y}, q_{w}**2 + q_{x}**2 - q_{y}**2 - q_{z}**2))/w_{z} + v_{f}*(2*q_{w}*q_{z} + 2*q_{x}*q_{y})/(w_{z}**2*sqrt((2*q_{w}*q_{z} + 2*q_{x}*q_{y})**2 + (q_{w}**2 + q_{x}**2 - q_{y}**2 - q_{z}**2)**2)) - v_{f}*sin(dt*w_{z} + atan2(2*q_{w}*q_{z} + 2*q_{x}*q_{y}, q_{w}**2 + q_{x}**2 - q_{y}**2 - q_{z}**2))/w_{z}**2],\n",
       "[                                             0,                                              0,                                              0,                                                                                                                                                                                                                                                                                                                                                                                        0,                        0, dt*v_{f}*sin(dt*w_{z} + atan2(2*q_{w}*q_{z} + 2*q_{x}*q_{y}, q_{w}**2 + q_{x}**2 - q_{y}**2 - q_{z}**2))/w_{z} + v_{f}*cos(dt*w_{z} + atan2(2*q_{w}*q_{z} + 2*q_{x}*q_{y}, q_{w}**2 + q_{x}**2 - q_{y}**2 - q_{z}**2))/w_{z}**2 - v_{f}*(q_{w}**2 + q_{x}**2 - q_{y}**2 - q_{z}**2)/(w_{z}**2*sqrt((2*q_{w}*q_{z} + 2*q_{x}*q_{y})**2 + (q_{w}**2 + q_{x}**2 - q_{y}**2 - q_{z}**2)**2))],\n",
       "[                                             0,                                              0,                                              0, dt*v_{f}*sin(dt*w_{x} + atan2(2*q_{w}*q_{x} + 2*q_{y}*q_{z}, q_{w}**2 - q_{x}**2 - q_{y}**2 + q_{z}**2))/w_{x} + v_{f}*cos(dt*w_{x} + atan2(2*q_{w}*q_{x} + 2*q_{y}*q_{z}, q_{w}**2 - q_{x}**2 - q_{y}**2 + q_{z}**2))/w_{x}**2 - v_{f}*(q_{w}**2 - q_{x}**2 - q_{y}**2 + q_{z}**2)/(w_{x}**2*sqrt((2*q_{w}*q_{x} + 2*q_{y}*q_{z})**2 + (q_{w}**2 - q_{x}**2 - q_{y}**2 + q_{z}**2)**2)),                        0,                                                                                                                                                                                                                                                                                                                                                                                        0],\n",
       "[dt*(q_{w}**2 + q_{x}**2 - q_{y}**2 - q_{z}**2),            dt*(-2*q_{w}*q_{z} + 2*q_{x}*q_{y}),             dt*(2*q_{w}*q_{y} + 2*q_{x}*q_{z}),                                                                                                                                                                                                                                                                                                                                                                                        0,                        0,                                                                                                                                                                                                                                                                                                                                                                                        0],\n",
       "[            dt*(2*q_{w}*q_{z} + 2*q_{x}*q_{y}), dt*(q_{w}**2 - q_{x}**2 + q_{y}**2 - q_{z}**2),            dt*(-2*q_{w}*q_{x} + 2*q_{y}*q_{z}),                                                                                                                                                                                                                                                                                                                                                                                        0,                        0,                                                                                                                                                                                                                                                                                                                                                                                        0],\n",
       "[           dt*(-2*q_{w}*q_{y} + 2*q_{x}*q_{z}),             dt*(2*q_{w}*q_{x} + 2*q_{y}*q_{z}), dt*(q_{w}**2 - q_{x}**2 - q_{y}**2 + q_{z}**2),                                                                                                                                                                                                                                                                                                                                                                                        0,                        0,                                                                                                                                                                                                                                                                                                                                                                                        0],\n",
       "[                                             0,                                              0,                                              0,                                                                                                                                                                                                                                                                                                                                                                 -q_{x}*sin(dt*|w|/2)/|w|, -q_{y}*sin(dt*|w|/2)/|w|,                                                                                                                                                                                                                                                                                                                                                                 -q_{z}*sin(dt*|w|/2)/|w|],\n",
       "[                                             0,                                              0,                                              0,                                                                                                                                                                                                                                                                                                                                                                  q_{w}*sin(dt*|w|/2)/|w|, -q_{z}*sin(dt*|w|/2)/|w|,                                                                                                                                                                                                                                                                                                                                                                  q_{y}*sin(dt*|w|/2)/|w|],\n",
       "[                                             0,                                              0,                                              0,                                                                                                                                                                                                                                                                                                                                                                  q_{z}*sin(dt*|w|/2)/|w|,  q_{w}*sin(dt*|w|/2)/|w|,                                                                                                                                                                                                                                                                                                                                                                 -q_{x}*sin(dt*|w|/2)/|w|],\n",
       "[                                             0,                                              0,                                              0,                                                                                                                                                                                                                                                                                                                                                                 -q_{y}*sin(dt*|w|/2)/|w|,  q_{x}*sin(dt*|w|/2)/|w|,                                                                                                                                                                                                                                                                                                                                                                  q_{w}*sin(dt*|w|/2)/|w|],\n",
       "[                                             0,                                              0,                                              0,                                                                                                                                                                                                                                                                                                                                                                                        0,                        0,                                                                                                                                                                                                                                                                                                                                                                                        0],\n",
       "[                                             0,                                              0,                                              0,                                                                                                                                                                                                                                                                                                                                                                                        0,                        0,                                                                                                                                                                                                                                                                                                                                                                                        0],\n",
       "[                                             0,                                              0,                                              0,                                                                                                                                                                                                                                                                                                                                                                                        0,                        0,                                                                                                                                                                                                                                                                                                                                                                                        0],\n",
       "[                                             0,                                              0,                                              0,                                                                                                                                                                                                                                                                                                                                                                                        0,                        0,                                                                                                                                                                                                                                                                                                                                                                                        0],\n",
       "[                                             0,                                              0,                                              0,                                                                                                                                                                                                                                                                                                                                                                                        0,                        0,                                                                                                                                                                                                                                                                                                                                                                                        0],\n",
       "[                                             0,                                              0,                                              0,                                                                                                                                                                                                                                                                                                                                                                                        0,                        0,                                                                                                                                                                                                                                                                                                                                                                                        0]])"
      ]
     },
     "execution_count": 62,
     "metadata": {},
     "output_type": "execute_result"
    }
   ],
   "source": [
    "G_velocity = fxu_velocity.jacobian(control_input)\n",
    "G_velocity"
   ]
  },
  {
   "cell_type": "code",
   "execution_count": 81,
   "id": "644f729e",
   "metadata": {},
   "outputs": [
    {
     "data": {
      "text/latex": [
       "$\\displaystyle \\left[\\begin{matrix}0 & 0 & 0 & - \\frac{q_{y} \\sin{\\left(\\frac{dt |w|}{2} \\right)}}{|w|} & \\frac{q_{x} \\sin{\\left(\\frac{dt |w|}{2} \\right)}}{|w|} & \\frac{q_{w} \\sin{\\left(\\frac{dt |w|}{2} \\right)}}{|w|}\\end{matrix}\\right]$"
      ],
      "text/plain": [
       "Matrix([[0, 0, 0, -q_{y}*sin(dt*|w|/2)/|w|, q_{x}*sin(dt*|w|/2)/|w|, q_{w}*sin(dt*|w|/2)/|w|]])"
      ]
     },
     "execution_count": 81,
     "metadata": {},
     "output_type": "execute_result"
    }
   ],
   "source": [
    "G_velocity[9, :]"
   ]
  },
  {
   "cell_type": "code",
   "execution_count": 23,
   "id": "df2f4146-d646-44e8-a015-d9506e490af5",
   "metadata": {},
   "outputs": [
    {
     "data": {
      "text/plain": [
       "array([[ 0.17291655],\n",
       "       [ 0.00865304],\n",
       "       [ 0.00865304],\n",
       "       [ 0.1       ],\n",
       "       [ 0.1       ],\n",
       "       [-0.881     ],\n",
       "       [ 0.99625234],\n",
       "       [ 0.04993752],\n",
       "       [ 0.04993752],\n",
       "       [ 0.04993752],\n",
       "       [ 0.0011    ],\n",
       "       [ 0.0011    ],\n",
       "       [ 0.0011    ],\n",
       "       [ 0.0011    ],\n",
       "       [ 0.0011    ],\n",
       "       [ 0.0011    ]])"
      ]
     },
     "execution_count": 23,
     "metadata": {},
     "output_type": "execute_result"
    }
   ],
   "source": [
    "values = {\n",
    "    px: 0,\n",
    "    py: 0,\n",
    "    pz: 0,\n",
    "    vx: 0,\n",
    "    vy: 0,\n",
    "    vz: 0,\n",
    "    qw: 1,\n",
    "    qx: 0,\n",
    "    qy: 0,\n",
    "    qz: 0,\n",
    "    bwx: 0.001,\n",
    "    bwy: 0.001,\n",
    "    bwz: 0.001,\n",
    "    bax: 0.001,\n",
    "    bay: 0.001,\n",
    "    baz: 0.001,\n",
    "    ax: 1,\n",
    "    ay: 1,\n",
    "    az: 1,\n",
    "    wx: 1,\n",
    "    wy: 1,\n",
    "    wz: 1,\n",
    "    dt: 0.1,\n",
    "    norm_w: np.sqrt(1+1+1),\n",
    "    sigma_w: 0.0001,\n",
    "    sigma_a: 0.0001,\n",
    "    ww: 0.0001,\n",
    "    wa: 0.0001,\n",
    "    vf: np.sqrt(3),\n",
    "}\n",
    "\n",
    "x_ = np.array(fxu_velocity.evalf(subs=values)).astype(float)\n",
    "x_"
   ]
  },
  {
   "cell_type": "markdown",
   "id": "5ca1b379-c5aa-40b3-b594-0460ec6708ce",
   "metadata": {},
   "source": [
    "## when pitch = + pi/2 radian (UP)"
   ]
  },
  {
   "cell_type": "markdown",
   "id": "84506f71-0c21-4d7b-8e9f-ee6f15935d7d",
   "metadata": {},
   "source": [
    "https://danceswithcode.net/engineeringnotes/quaternions/quaternions.html"
   ]
  },
  {
   "cell_type": "code",
   "execution_count": 82,
   "id": "374c4c8a-6c17-462b-af8d-c27631eb4a60",
   "metadata": {},
   "outputs": [],
   "source": [
    "_phi = 0\n",
    "_theta = sympy.asin(2*(qw*qy - qx*qz))\n",
    "_psi = -2*sympy.atan2(qx, qw)\n",
    "\n",
    "fxu_velocity_condition_1 = Matrix([\n",
    "    [px - rz*sympy.sin(_psi) + rz*sympy.sin(_psi + dpsi)],\n",
    "    [py + rz*sympy.cos(_psi) - rz*sympy.cos(_psi + dpsi)],\n",
    "    [pz + rx*sympy.cos(_phi) - rx*sympy.cos(_phi + dphi)],\n",
    "    v_t,\n",
    "    q_t,\n",
    "    b_w_t,\n",
    "    b_a_t\n",
    "])\n",
    "F_velocity_condition_1 = fxu_velocity_condition_1.jacobian(state_x)\n",
    "G_velocity_condition_1 = fxu_velocity_condition_1.jacobian(control_input)"
   ]
  },
  {
   "cell_type": "code",
   "execution_count": 83,
   "id": "4002f38b-2482-4b63-b523-99086ccd4316",
   "metadata": {},
   "outputs": [
    {
     "data": {
      "text/latex": [
       "$\\displaystyle \\left[\\begin{matrix}p_{x} + \\frac{v_{f} \\sin{\\left(dt w_{z} - 2 \\operatorname{atan}_{2}{\\left(q_{x},q_{w} \\right)} \\right)}}{w_{z}} + \\frac{v_{f} \\sin{\\left(2 \\operatorname{atan}_{2}{\\left(q_{x},q_{w} \\right)} \\right)}}{w_{z}}\\\\p_{y} - \\frac{v_{f} \\cos{\\left(dt w_{z} - 2 \\operatorname{atan}_{2}{\\left(q_{x},q_{w} \\right)} \\right)}}{w_{z}} + \\frac{v_{f} \\cos{\\left(2 \\operatorname{atan}_{2}{\\left(q_{x},q_{w} \\right)} \\right)}}{w_{z}}\\\\p_{z} - \\frac{v_{f} \\cos{\\left(dt w_{x} \\right)}}{w_{x}} + \\frac{v_{f}}{w_{x}}\\\\dt \\left(a_{x} \\left(q_{w}^{2} + q_{x}^{2} - q_{y}^{2} - q_{z}^{2}\\right) + a_{y} \\left(- 2 q_{w} q_{z} + 2 q_{x} q_{y}\\right) + a_{z} \\left(2 q_{w} q_{y} + 2 q_{x} q_{z}\\right)\\right) + v_{x}\\\\dt \\left(a_{x} \\left(2 q_{w} q_{z} + 2 q_{x} q_{y}\\right) + a_{y} \\left(q_{w}^{2} - q_{x}^{2} + q_{y}^{2} - q_{z}^{2}\\right) + a_{z} \\left(- 2 q_{w} q_{x} + 2 q_{y} q_{z}\\right)\\right) + v_{y}\\\\dt \\left(a_{x} \\left(- 2 q_{w} q_{y} + 2 q_{x} q_{z}\\right) + a_{y} \\left(2 q_{w} q_{x} + 2 q_{y} q_{z}\\right) + a_{z} \\left(q_{w}^{2} - q_{x}^{2} - q_{y}^{2} + q_{z}^{2}\\right) - 9.81\\right) + v_{z}\\\\q_{w} \\cos{\\left(\\frac{dt |w|}{2} \\right)} - \\frac{q_{x} w_{x} \\sin{\\left(\\frac{dt |w|}{2} \\right)}}{|w|} - \\frac{q_{y} w_{y} \\sin{\\left(\\frac{dt |w|}{2} \\right)}}{|w|} - \\frac{q_{z} w_{z} \\sin{\\left(\\frac{dt |w|}{2} \\right)}}{|w|}\\\\\\frac{q_{w} w_{x} \\sin{\\left(\\frac{dt |w|}{2} \\right)}}{|w|} + q_{x} \\cos{\\left(\\frac{dt |w|}{2} \\right)} + \\frac{q_{y} w_{z} \\sin{\\left(\\frac{dt |w|}{2} \\right)}}{|w|} - \\frac{q_{z} w_{y} \\sin{\\left(\\frac{dt |w|}{2} \\right)}}{|w|}\\\\\\frac{q_{w} w_{y} \\sin{\\left(\\frac{dt |w|}{2} \\right)}}{|w|} - \\frac{q_{x} w_{z} \\sin{\\left(\\frac{dt |w|}{2} \\right)}}{|w|} + q_{y} \\cos{\\left(\\frac{dt |w|}{2} \\right)} + \\frac{q_{z} w_{x} \\sin{\\left(\\frac{dt |w|}{2} \\right)}}{|w|}\\\\\\frac{q_{w} w_{z} \\sin{\\left(\\frac{dt |w|}{2} \\right)}}{|w|} + \\frac{q_{x} w_{y} \\sin{\\left(\\frac{dt |w|}{2} \\right)}}{|w|} - \\frac{q_{y} w_{x} \\sin{\\left(\\frac{dt |w|}{2} \\right)}}{|w|} + q_{z} \\cos{\\left(\\frac{dt |w|}{2} \\right)}\\\\b_{w_x} + w_{w}\\\\b_{w_y} + w_{w}\\\\b_{w_z} + w_{w}\\\\b_{a_x} + w_{a}\\\\b_{a_y} + w_{a}\\\\b_{a_z} + w_{a}\\end{matrix}\\right]$"
      ],
      "text/plain": [
       "Matrix([\n",
       "[                                                    p_{x} + v_{f}*sin(dt*w_{z} - 2*atan2(q_{x}, q_{w}))/w_{z} + v_{f}*sin(2*atan2(q_{x}, q_{w}))/w_{z}],\n",
       "[                                                    p_{y} - v_{f}*cos(dt*w_{z} - 2*atan2(q_{x}, q_{w}))/w_{z} + v_{f}*cos(2*atan2(q_{x}, q_{w}))/w_{z}],\n",
       "[                                                                                                       p_{z} - v_{f}*cos(dt*w_{x})/w_{x} + v_{f}/w_{x}],\n",
       "[       dt*(a_{x}*(q_{w}**2 + q_{x}**2 - q_{y}**2 - q_{z}**2) + a_{y}*(-2*q_{w}*q_{z} + 2*q_{x}*q_{y}) + a_{z}*(2*q_{w}*q_{y} + 2*q_{x}*q_{z})) + v_{x}],\n",
       "[       dt*(a_{x}*(2*q_{w}*q_{z} + 2*q_{x}*q_{y}) + a_{y}*(q_{w}**2 - q_{x}**2 + q_{y}**2 - q_{z}**2) + a_{z}*(-2*q_{w}*q_{x} + 2*q_{y}*q_{z})) + v_{y}],\n",
       "[dt*(a_{x}*(-2*q_{w}*q_{y} + 2*q_{x}*q_{z}) + a_{y}*(2*q_{w}*q_{x} + 2*q_{y}*q_{z}) + a_{z}*(q_{w}**2 - q_{x}**2 - q_{y}**2 + q_{z}**2) - 9.81) + v_{z}],\n",
       "[                                   q_{w}*cos(dt*|w|/2) - q_{x}*w_{x}*sin(dt*|w|/2)/|w| - q_{y}*w_{y}*sin(dt*|w|/2)/|w| - q_{z}*w_{z}*sin(dt*|w|/2)/|w|],\n",
       "[                                   q_{w}*w_{x}*sin(dt*|w|/2)/|w| + q_{x}*cos(dt*|w|/2) + q_{y}*w_{z}*sin(dt*|w|/2)/|w| - q_{z}*w_{y}*sin(dt*|w|/2)/|w|],\n",
       "[                                   q_{w}*w_{y}*sin(dt*|w|/2)/|w| - q_{x}*w_{z}*sin(dt*|w|/2)/|w| + q_{y}*cos(dt*|w|/2) + q_{z}*w_{x}*sin(dt*|w|/2)/|w|],\n",
       "[                                   q_{w}*w_{z}*sin(dt*|w|/2)/|w| + q_{x}*w_{y}*sin(dt*|w|/2)/|w| - q_{y}*w_{x}*sin(dt*|w|/2)/|w| + q_{z}*cos(dt*|w|/2)],\n",
       "[                                                                                                                                       b_{w_x} + w_{w}],\n",
       "[                                                                                                                                       b_{w_y} + w_{w}],\n",
       "[                                                                                                                                       b_{w_z} + w_{w}],\n",
       "[                                                                                                                                       b_{a_x} + w_{a}],\n",
       "[                                                                                                                                       b_{a_y} + w_{a}],\n",
       "[                                                                                                                                       b_{a_z} + w_{a}]])"
      ]
     },
     "execution_count": 83,
     "metadata": {},
     "output_type": "execute_result"
    }
   ],
   "source": [
    "fxu_velocity_condition_1"
   ]
  },
  {
   "cell_type": "code",
   "execution_count": 84,
   "id": "74fe3c64-4b71-4890-95ae-89ba59ee561c",
   "metadata": {},
   "outputs": [
    {
     "data": {
      "text/latex": [
       "$\\displaystyle \\left[\\begin{array}{cccccccccccccccc}1 & 0 & 0 & 0 & 0 & 0 & \\frac{2 q_{x} v_{f} \\cos{\\left(dt w_{z} - 2 \\operatorname{atan}_{2}{\\left(q_{x},q_{w} \\right)} \\right)}}{w_{z} \\left(q_{w}^{2} + q_{x}^{2}\\right)} - \\frac{2 q_{x} v_{f} \\cos{\\left(2 \\operatorname{atan}_{2}{\\left(q_{x},q_{w} \\right)} \\right)}}{w_{z} \\left(q_{w}^{2} + q_{x}^{2}\\right)} & - \\frac{2 q_{w} v_{f} \\cos{\\left(dt w_{z} - 2 \\operatorname{atan}_{2}{\\left(q_{x},q_{w} \\right)} \\right)}}{w_{z} \\left(q_{w}^{2} + q_{x}^{2}\\right)} + \\frac{2 q_{w} v_{f} \\cos{\\left(2 \\operatorname{atan}_{2}{\\left(q_{x},q_{w} \\right)} \\right)}}{w_{z} \\left(q_{w}^{2} + q_{x}^{2}\\right)} & 0 & 0 & 0 & 0 & 0 & 0 & 0 & 0\\\\0 & 1 & 0 & 0 & 0 & 0 & \\frac{2 q_{x} v_{f} \\sin{\\left(dt w_{z} - 2 \\operatorname{atan}_{2}{\\left(q_{x},q_{w} \\right)} \\right)}}{w_{z} \\left(q_{w}^{2} + q_{x}^{2}\\right)} + \\frac{2 q_{x} v_{f} \\sin{\\left(2 \\operatorname{atan}_{2}{\\left(q_{x},q_{w} \\right)} \\right)}}{w_{z} \\left(q_{w}^{2} + q_{x}^{2}\\right)} & - \\frac{2 q_{w} v_{f} \\sin{\\left(dt w_{z} - 2 \\operatorname{atan}_{2}{\\left(q_{x},q_{w} \\right)} \\right)}}{w_{z} \\left(q_{w}^{2} + q_{x}^{2}\\right)} - \\frac{2 q_{w} v_{f} \\sin{\\left(2 \\operatorname{atan}_{2}{\\left(q_{x},q_{w} \\right)} \\right)}}{w_{z} \\left(q_{w}^{2} + q_{x}^{2}\\right)} & 0 & 0 & 0 & 0 & 0 & 0 & 0 & 0\\\\0 & 0 & 1 & 0 & 0 & 0 & 0 & 0 & 0 & 0 & 0 & 0 & 0 & 0 & 0 & 0\\\\0 & 0 & 0 & 1 & 0 & 0 & dt \\left(2 a_{x} q_{w} - 2 a_{y} q_{z} + 2 a_{z} q_{y}\\right) & dt \\left(2 a_{x} q_{x} + 2 a_{y} q_{y} + 2 a_{z} q_{z}\\right) & dt \\left(- 2 a_{x} q_{y} + 2 a_{y} q_{x} + 2 a_{z} q_{w}\\right) & dt \\left(- 2 a_{x} q_{z} - 2 a_{y} q_{w} + 2 a_{z} q_{x}\\right) & 0 & 0 & 0 & 0 & 0 & 0\\\\0 & 0 & 0 & 0 & 1 & 0 & dt \\left(2 a_{x} q_{z} + 2 a_{y} q_{w} - 2 a_{z} q_{x}\\right) & dt \\left(2 a_{x} q_{y} - 2 a_{y} q_{x} - 2 a_{z} q_{w}\\right) & dt \\left(2 a_{x} q_{x} + 2 a_{y} q_{y} + 2 a_{z} q_{z}\\right) & dt \\left(2 a_{x} q_{w} - 2 a_{y} q_{z} + 2 a_{z} q_{y}\\right) & 0 & 0 & 0 & 0 & 0 & 0\\\\0 & 0 & 0 & 0 & 0 & 1 & dt \\left(- 2 a_{x} q_{y} + 2 a_{y} q_{x} + 2 a_{z} q_{w}\\right) & dt \\left(2 a_{x} q_{z} + 2 a_{y} q_{w} - 2 a_{z} q_{x}\\right) & dt \\left(- 2 a_{x} q_{w} + 2 a_{y} q_{z} - 2 a_{z} q_{y}\\right) & dt \\left(2 a_{x} q_{x} + 2 a_{y} q_{y} + 2 a_{z} q_{z}\\right) & 0 & 0 & 0 & 0 & 0 & 0\\\\0 & 0 & 0 & 0 & 0 & 0 & \\cos{\\left(\\frac{dt |w|}{2} \\right)} & - \\frac{w_{x} \\sin{\\left(\\frac{dt |w|}{2} \\right)}}{|w|} & - \\frac{w_{y} \\sin{\\left(\\frac{dt |w|}{2} \\right)}}{|w|} & - \\frac{w_{z} \\sin{\\left(\\frac{dt |w|}{2} \\right)}}{|w|} & 0 & 0 & 0 & 0 & 0 & 0\\\\0 & 0 & 0 & 0 & 0 & 0 & \\frac{w_{x} \\sin{\\left(\\frac{dt |w|}{2} \\right)}}{|w|} & \\cos{\\left(\\frac{dt |w|}{2} \\right)} & \\frac{w_{z} \\sin{\\left(\\frac{dt |w|}{2} \\right)}}{|w|} & - \\frac{w_{y} \\sin{\\left(\\frac{dt |w|}{2} \\right)}}{|w|} & 0 & 0 & 0 & 0 & 0 & 0\\\\0 & 0 & 0 & 0 & 0 & 0 & \\frac{w_{y} \\sin{\\left(\\frac{dt |w|}{2} \\right)}}{|w|} & - \\frac{w_{z} \\sin{\\left(\\frac{dt |w|}{2} \\right)}}{|w|} & \\cos{\\left(\\frac{dt |w|}{2} \\right)} & \\frac{w_{x} \\sin{\\left(\\frac{dt |w|}{2} \\right)}}{|w|} & 0 & 0 & 0 & 0 & 0 & 0\\\\0 & 0 & 0 & 0 & 0 & 0 & \\frac{w_{z} \\sin{\\left(\\frac{dt |w|}{2} \\right)}}{|w|} & \\frac{w_{y} \\sin{\\left(\\frac{dt |w|}{2} \\right)}}{|w|} & - \\frac{w_{x} \\sin{\\left(\\frac{dt |w|}{2} \\right)}}{|w|} & \\cos{\\left(\\frac{dt |w|}{2} \\right)} & 0 & 0 & 0 & 0 & 0 & 0\\\\0 & 0 & 0 & 0 & 0 & 0 & 0 & 0 & 0 & 0 & 1 & 0 & 0 & 0 & 0 & 0\\\\0 & 0 & 0 & 0 & 0 & 0 & 0 & 0 & 0 & 0 & 0 & 1 & 0 & 0 & 0 & 0\\\\0 & 0 & 0 & 0 & 0 & 0 & 0 & 0 & 0 & 0 & 0 & 0 & 1 & 0 & 0 & 0\\\\0 & 0 & 0 & 0 & 0 & 0 & 0 & 0 & 0 & 0 & 0 & 0 & 0 & 1 & 0 & 0\\\\0 & 0 & 0 & 0 & 0 & 0 & 0 & 0 & 0 & 0 & 0 & 0 & 0 & 0 & 1 & 0\\\\0 & 0 & 0 & 0 & 0 & 0 & 0 & 0 & 0 & 0 & 0 & 0 & 0 & 0 & 0 & 1\\end{array}\\right]$"
      ],
      "text/plain": [
       "Matrix([\n",
       "[1, 0, 0, 0, 0, 0, 2*q_{x}*v_{f}*cos(dt*w_{z} - 2*atan2(q_{x}, q_{w}))/(w_{z}*(q_{w}**2 + q_{x}**2)) - 2*q_{x}*v_{f}*cos(2*atan2(q_{x}, q_{w}))/(w_{z}*(q_{w}**2 + q_{x}**2)), -2*q_{w}*v_{f}*cos(dt*w_{z} - 2*atan2(q_{x}, q_{w}))/(w_{z}*(q_{w}**2 + q_{x}**2)) + 2*q_{w}*v_{f}*cos(2*atan2(q_{x}, q_{w}))/(w_{z}*(q_{w}**2 + q_{x}**2)),                                                   0,                                                   0, 0, 0, 0, 0, 0, 0],\n",
       "[0, 1, 0, 0, 0, 0, 2*q_{x}*v_{f}*sin(dt*w_{z} - 2*atan2(q_{x}, q_{w}))/(w_{z}*(q_{w}**2 + q_{x}**2)) + 2*q_{x}*v_{f}*sin(2*atan2(q_{x}, q_{w}))/(w_{z}*(q_{w}**2 + q_{x}**2)), -2*q_{w}*v_{f}*sin(dt*w_{z} - 2*atan2(q_{x}, q_{w}))/(w_{z}*(q_{w}**2 + q_{x}**2)) - 2*q_{w}*v_{f}*sin(2*atan2(q_{x}, q_{w}))/(w_{z}*(q_{w}**2 + q_{x}**2)),                                                   0,                                                   0, 0, 0, 0, 0, 0, 0],\n",
       "[0, 0, 1, 0, 0, 0,                                                                                                                                                          0,                                                                                                                                                           0,                                                   0,                                                   0, 0, 0, 0, 0, 0, 0],\n",
       "[0, 0, 0, 1, 0, 0,                                                                                                         dt*(2*a_{x}*q_{w} - 2*a_{y}*q_{z} + 2*a_{z}*q_{y}),                                                                                                          dt*(2*a_{x}*q_{x} + 2*a_{y}*q_{y} + 2*a_{z}*q_{z}), dt*(-2*a_{x}*q_{y} + 2*a_{y}*q_{x} + 2*a_{z}*q_{w}), dt*(-2*a_{x}*q_{z} - 2*a_{y}*q_{w} + 2*a_{z}*q_{x}), 0, 0, 0, 0, 0, 0],\n",
       "[0, 0, 0, 0, 1, 0,                                                                                                         dt*(2*a_{x}*q_{z} + 2*a_{y}*q_{w} - 2*a_{z}*q_{x}),                                                                                                          dt*(2*a_{x}*q_{y} - 2*a_{y}*q_{x} - 2*a_{z}*q_{w}),  dt*(2*a_{x}*q_{x} + 2*a_{y}*q_{y} + 2*a_{z}*q_{z}),  dt*(2*a_{x}*q_{w} - 2*a_{y}*q_{z} + 2*a_{z}*q_{y}), 0, 0, 0, 0, 0, 0],\n",
       "[0, 0, 0, 0, 0, 1,                                                                                                        dt*(-2*a_{x}*q_{y} + 2*a_{y}*q_{x} + 2*a_{z}*q_{w}),                                                                                                          dt*(2*a_{x}*q_{z} + 2*a_{y}*q_{w} - 2*a_{z}*q_{x}), dt*(-2*a_{x}*q_{w} + 2*a_{y}*q_{z} - 2*a_{z}*q_{y}),  dt*(2*a_{x}*q_{x} + 2*a_{y}*q_{y} + 2*a_{z}*q_{z}), 0, 0, 0, 0, 0, 0],\n",
       "[0, 0, 0, 0, 0, 0,                                                                                                                                              cos(dt*|w|/2),                                                                                                                                    -w_{x}*sin(dt*|w|/2)/|w|,                            -w_{y}*sin(dt*|w|/2)/|w|,                            -w_{z}*sin(dt*|w|/2)/|w|, 0, 0, 0, 0, 0, 0],\n",
       "[0, 0, 0, 0, 0, 0,                                                                                                                                    w_{x}*sin(dt*|w|/2)/|w|,                                                                                                                                               cos(dt*|w|/2),                             w_{z}*sin(dt*|w|/2)/|w|,                            -w_{y}*sin(dt*|w|/2)/|w|, 0, 0, 0, 0, 0, 0],\n",
       "[0, 0, 0, 0, 0, 0,                                                                                                                                    w_{y}*sin(dt*|w|/2)/|w|,                                                                                                                                    -w_{z}*sin(dt*|w|/2)/|w|,                                       cos(dt*|w|/2),                             w_{x}*sin(dt*|w|/2)/|w|, 0, 0, 0, 0, 0, 0],\n",
       "[0, 0, 0, 0, 0, 0,                                                                                                                                    w_{z}*sin(dt*|w|/2)/|w|,                                                                                                                                     w_{y}*sin(dt*|w|/2)/|w|,                            -w_{x}*sin(dt*|w|/2)/|w|,                                       cos(dt*|w|/2), 0, 0, 0, 0, 0, 0],\n",
       "[0, 0, 0, 0, 0, 0,                                                                                                                                                          0,                                                                                                                                                           0,                                                   0,                                                   0, 1, 0, 0, 0, 0, 0],\n",
       "[0, 0, 0, 0, 0, 0,                                                                                                                                                          0,                                                                                                                                                           0,                                                   0,                                                   0, 0, 1, 0, 0, 0, 0],\n",
       "[0, 0, 0, 0, 0, 0,                                                                                                                                                          0,                                                                                                                                                           0,                                                   0,                                                   0, 0, 0, 1, 0, 0, 0],\n",
       "[0, 0, 0, 0, 0, 0,                                                                                                                                                          0,                                                                                                                                                           0,                                                   0,                                                   0, 0, 0, 0, 1, 0, 0],\n",
       "[0, 0, 0, 0, 0, 0,                                                                                                                                                          0,                                                                                                                                                           0,                                                   0,                                                   0, 0, 0, 0, 0, 1, 0],\n",
       "[0, 0, 0, 0, 0, 0,                                                                                                                                                          0,                                                                                                                                                           0,                                                   0,                                                   0, 0, 0, 0, 0, 0, 1]])"
      ]
     },
     "execution_count": 84,
     "metadata": {},
     "output_type": "execute_result"
    }
   ],
   "source": [
    "F_velocity_condition_1"
   ]
  },
  {
   "cell_type": "code",
   "execution_count": 99,
   "id": "6648854e",
   "metadata": {},
   "outputs": [
    {
     "data": {
      "text/latex": [
       "$\\displaystyle \\left[\\begin{array}{cccccccccccccccc}0 & 0 & 0 & 0 & 0 & 0 & \\frac{w_{z} \\sin{\\left(\\frac{dt |w|}{2} \\right)}}{|w|} & \\frac{w_{y} \\sin{\\left(\\frac{dt |w|}{2} \\right)}}{|w|} & - \\frac{w_{x} \\sin{\\left(\\frac{dt |w|}{2} \\right)}}{|w|} & \\cos{\\left(\\frac{dt |w|}{2} \\right)} & 0 & 0 & 0 & 0 & 0 & 0\\end{array}\\right]$"
      ],
      "text/plain": [
       "Matrix([[0, 0, 0, 0, 0, 0, w_{z}*sin(dt*|w|/2)/|w|, w_{y}*sin(dt*|w|/2)/|w|, -w_{x}*sin(dt*|w|/2)/|w|, cos(dt*|w|/2), 0, 0, 0, 0, 0, 0]])"
      ]
     },
     "execution_count": 99,
     "metadata": {},
     "output_type": "execute_result"
    }
   ],
   "source": [
    "F_velocity_condition_1[9, :]"
   ]
  },
  {
   "cell_type": "code",
   "execution_count": 100,
   "id": "fcf19cfa-5ae4-4292-ad25-ffd9c0fcd8f8",
   "metadata": {},
   "outputs": [
    {
     "data": {
      "text/latex": [
       "$\\displaystyle \\left[\\begin{matrix}0 & 0 & 0 & 0 & 0 & \\frac{dt v_{f} \\cos{\\left(dt w_{z} - 2 \\operatorname{atan}_{2}{\\left(q_{x},q_{w} \\right)} \\right)}}{w_{z}} - \\frac{v_{f} \\sin{\\left(dt w_{z} - 2 \\operatorname{atan}_{2}{\\left(q_{x},q_{w} \\right)} \\right)}}{w_{z}^{2}} - \\frac{v_{f} \\sin{\\left(2 \\operatorname{atan}_{2}{\\left(q_{x},q_{w} \\right)} \\right)}}{w_{z}^{2}}\\\\0 & 0 & 0 & 0 & 0 & \\frac{dt v_{f} \\sin{\\left(dt w_{z} - 2 \\operatorname{atan}_{2}{\\left(q_{x},q_{w} \\right)} \\right)}}{w_{z}} + \\frac{v_{f} \\cos{\\left(dt w_{z} - 2 \\operatorname{atan}_{2}{\\left(q_{x},q_{w} \\right)} \\right)}}{w_{z}^{2}} - \\frac{v_{f} \\cos{\\left(2 \\operatorname{atan}_{2}{\\left(q_{x},q_{w} \\right)} \\right)}}{w_{z}^{2}}\\\\0 & 0 & 0 & \\frac{dt v_{f} \\sin{\\left(dt w_{x} \\right)}}{w_{x}} + \\frac{v_{f} \\cos{\\left(dt w_{x} \\right)}}{w_{x}^{2}} - \\frac{v_{f}}{w_{x}^{2}} & 0 & 0\\\\dt \\left(q_{w}^{2} + q_{x}^{2} - q_{y}^{2} - q_{z}^{2}\\right) & dt \\left(- 2 q_{w} q_{z} + 2 q_{x} q_{y}\\right) & dt \\left(2 q_{w} q_{y} + 2 q_{x} q_{z}\\right) & 0 & 0 & 0\\\\dt \\left(2 q_{w} q_{z} + 2 q_{x} q_{y}\\right) & dt \\left(q_{w}^{2} - q_{x}^{2} + q_{y}^{2} - q_{z}^{2}\\right) & dt \\left(- 2 q_{w} q_{x} + 2 q_{y} q_{z}\\right) & 0 & 0 & 0\\\\dt \\left(- 2 q_{w} q_{y} + 2 q_{x} q_{z}\\right) & dt \\left(2 q_{w} q_{x} + 2 q_{y} q_{z}\\right) & dt \\left(q_{w}^{2} - q_{x}^{2} - q_{y}^{2} + q_{z}^{2}\\right) & 0 & 0 & 0\\\\0 & 0 & 0 & - \\frac{q_{x} \\sin{\\left(\\frac{dt |w|}{2} \\right)}}{|w|} & - \\frac{q_{y} \\sin{\\left(\\frac{dt |w|}{2} \\right)}}{|w|} & - \\frac{q_{z} \\sin{\\left(\\frac{dt |w|}{2} \\right)}}{|w|}\\\\0 & 0 & 0 & \\frac{q_{w} \\sin{\\left(\\frac{dt |w|}{2} \\right)}}{|w|} & - \\frac{q_{z} \\sin{\\left(\\frac{dt |w|}{2} \\right)}}{|w|} & \\frac{q_{y} \\sin{\\left(\\frac{dt |w|}{2} \\right)}}{|w|}\\\\0 & 0 & 0 & \\frac{q_{z} \\sin{\\left(\\frac{dt |w|}{2} \\right)}}{|w|} & \\frac{q_{w} \\sin{\\left(\\frac{dt |w|}{2} \\right)}}{|w|} & - \\frac{q_{x} \\sin{\\left(\\frac{dt |w|}{2} \\right)}}{|w|}\\\\0 & 0 & 0 & - \\frac{q_{y} \\sin{\\left(\\frac{dt |w|}{2} \\right)}}{|w|} & \\frac{q_{x} \\sin{\\left(\\frac{dt |w|}{2} \\right)}}{|w|} & \\frac{q_{w} \\sin{\\left(\\frac{dt |w|}{2} \\right)}}{|w|}\\\\0 & 0 & 0 & 0 & 0 & 0\\\\0 & 0 & 0 & 0 & 0 & 0\\\\0 & 0 & 0 & 0 & 0 & 0\\\\0 & 0 & 0 & 0 & 0 & 0\\\\0 & 0 & 0 & 0 & 0 & 0\\\\0 & 0 & 0 & 0 & 0 & 0\\end{matrix}\\right]$"
      ],
      "text/plain": [
       "Matrix([\n",
       "[                                             0,                                              0,                                              0,                                                                            0,                        0, dt*v_{f}*cos(dt*w_{z} - 2*atan2(q_{x}, q_{w}))/w_{z} - v_{f}*sin(dt*w_{z} - 2*atan2(q_{x}, q_{w}))/w_{z}**2 - v_{f}*sin(2*atan2(q_{x}, q_{w}))/w_{z}**2],\n",
       "[                                             0,                                              0,                                              0,                                                                            0,                        0, dt*v_{f}*sin(dt*w_{z} - 2*atan2(q_{x}, q_{w}))/w_{z} + v_{f}*cos(dt*w_{z} - 2*atan2(q_{x}, q_{w}))/w_{z}**2 - v_{f}*cos(2*atan2(q_{x}, q_{w}))/w_{z}**2],\n",
       "[                                             0,                                              0,                                              0, dt*v_{f}*sin(dt*w_{x})/w_{x} + v_{f}*cos(dt*w_{x})/w_{x}**2 - v_{f}/w_{x}**2,                        0,                                                                                                                                                       0],\n",
       "[dt*(q_{w}**2 + q_{x}**2 - q_{y}**2 - q_{z}**2),            dt*(-2*q_{w}*q_{z} + 2*q_{x}*q_{y}),             dt*(2*q_{w}*q_{y} + 2*q_{x}*q_{z}),                                                                            0,                        0,                                                                                                                                                       0],\n",
       "[            dt*(2*q_{w}*q_{z} + 2*q_{x}*q_{y}), dt*(q_{w}**2 - q_{x}**2 + q_{y}**2 - q_{z}**2),            dt*(-2*q_{w}*q_{x} + 2*q_{y}*q_{z}),                                                                            0,                        0,                                                                                                                                                       0],\n",
       "[           dt*(-2*q_{w}*q_{y} + 2*q_{x}*q_{z}),             dt*(2*q_{w}*q_{x} + 2*q_{y}*q_{z}), dt*(q_{w}**2 - q_{x}**2 - q_{y}**2 + q_{z}**2),                                                                            0,                        0,                                                                                                                                                       0],\n",
       "[                                             0,                                              0,                                              0,                                                     -q_{x}*sin(dt*|w|/2)/|w|, -q_{y}*sin(dt*|w|/2)/|w|,                                                                                                                                -q_{z}*sin(dt*|w|/2)/|w|],\n",
       "[                                             0,                                              0,                                              0,                                                      q_{w}*sin(dt*|w|/2)/|w|, -q_{z}*sin(dt*|w|/2)/|w|,                                                                                                                                 q_{y}*sin(dt*|w|/2)/|w|],\n",
       "[                                             0,                                              0,                                              0,                                                      q_{z}*sin(dt*|w|/2)/|w|,  q_{w}*sin(dt*|w|/2)/|w|,                                                                                                                                -q_{x}*sin(dt*|w|/2)/|w|],\n",
       "[                                             0,                                              0,                                              0,                                                     -q_{y}*sin(dt*|w|/2)/|w|,  q_{x}*sin(dt*|w|/2)/|w|,                                                                                                                                 q_{w}*sin(dt*|w|/2)/|w|],\n",
       "[                                             0,                                              0,                                              0,                                                                            0,                        0,                                                                                                                                                       0],\n",
       "[                                             0,                                              0,                                              0,                                                                            0,                        0,                                                                                                                                                       0],\n",
       "[                                             0,                                              0,                                              0,                                                                            0,                        0,                                                                                                                                                       0],\n",
       "[                                             0,                                              0,                                              0,                                                                            0,                        0,                                                                                                                                                       0],\n",
       "[                                             0,                                              0,                                              0,                                                                            0,                        0,                                                                                                                                                       0],\n",
       "[                                             0,                                              0,                                              0,                                                                            0,                        0,                                                                                                                                                       0]])"
      ]
     },
     "execution_count": 100,
     "metadata": {},
     "output_type": "execute_result"
    }
   ],
   "source": [
    "G_velocity_condition_1"
   ]
  },
  {
   "cell_type": "code",
   "execution_count": 111,
   "id": "b55162bd",
   "metadata": {},
   "outputs": [
    {
     "data": {
      "text/latex": [
       "$\\displaystyle \\left[\\begin{matrix}0 & 0 & 0 & - \\frac{q_{y} \\sin{\\left(\\frac{dt |w|}{2} \\right)}}{|w|} & \\frac{q_{x} \\sin{\\left(\\frac{dt |w|}{2} \\right)}}{|w|} & \\frac{q_{w} \\sin{\\left(\\frac{dt |w|}{2} \\right)}}{|w|}\\end{matrix}\\right]$"
      ],
      "text/plain": [
       "Matrix([[0, 0, 0, -q_{y}*sin(dt*|w|/2)/|w|, q_{x}*sin(dt*|w|/2)/|w|, q_{w}*sin(dt*|w|/2)/|w|]])"
      ]
     },
     "execution_count": 111,
     "metadata": {},
     "output_type": "execute_result"
    }
   ],
   "source": [
    "G_velocity_condition_1[9, :]"
   ]
  },
  {
   "cell_type": "markdown",
   "id": "2da3fa81-2aba-4887-ae7b-a5e0c89a98bd",
   "metadata": {},
   "source": [
    "## When pitch = - pi/2 radians (DOWN)"
   ]
  },
  {
   "cell_type": "markdown",
   "id": "b73fb9f1-7f4c-42b6-89ac-23adf4519af9",
   "metadata": {},
   "source": [
    "https://danceswithcode.net/engineeringnotes/quaternions/quaternions.html"
   ]
  },
  {
   "cell_type": "code",
   "execution_count": 112,
   "id": "b000fd7c-41e7-4c80-941e-9ded6a6c3f2b",
   "metadata": {},
   "outputs": [],
   "source": [
    "phi = 0\n",
    "theta = sympy.asin(2*(qw*qy - qx*qz))\n",
    "psi = 2*sympy.atan2(qx, qw)\n",
    "fxu_velocity_condition_2 = Matrix([\n",
    "    [px - rz*sympy.sin(_psi) + rz*sympy.sin(_psi + dpsi)],\n",
    "    [py + rz*sympy.cos(_psi) - rz*sympy.cos(_psi + dpsi)],\n",
    "    [pz + rx*sympy.cos(_phi) - rx*sympy.cos(_phi + dphi)],\n",
    "    v_t,\n",
    "    q_t,\n",
    "    b_w_t,\n",
    "    b_a_t\n",
    "])\n",
    "F_velocity_condition_2 = fxu_velocity_condition_2.jacobian(state_x)\n",
    "G_velocity_condition_2 = fxu_velocity_condition_2.jacobian(control_input)"
   ]
  },
  {
   "cell_type": "code",
   "execution_count": 113,
   "id": "8ed12f42-052b-49ed-88f6-66780a80f9b0",
   "metadata": {},
   "outputs": [
    {
     "data": {
      "text/latex": [
       "$\\displaystyle \\left[\\begin{matrix}p_{x} + \\frac{v_{f} \\sin{\\left(dt w_{z} - 2 \\operatorname{atan}_{2}{\\left(q_{x},q_{w} \\right)} \\right)}}{w_{z}} + \\frac{v_{f} \\sin{\\left(2 \\operatorname{atan}_{2}{\\left(q_{x},q_{w} \\right)} \\right)}}{w_{z}}\\\\p_{y} - \\frac{v_{f} \\cos{\\left(dt w_{z} - 2 \\operatorname{atan}_{2}{\\left(q_{x},q_{w} \\right)} \\right)}}{w_{z}} + \\frac{v_{f} \\cos{\\left(2 \\operatorname{atan}_{2}{\\left(q_{x},q_{w} \\right)} \\right)}}{w_{z}}\\\\p_{z} - \\frac{v_{f} \\cos{\\left(dt w_{x} \\right)}}{w_{x}} + \\frac{v_{f}}{w_{x}}\\\\dt \\left(a_{x} \\left(q_{w}^{2} + q_{x}^{2} - q_{y}^{2} - q_{z}^{2}\\right) + a_{y} \\left(- 2 q_{w} q_{z} + 2 q_{x} q_{y}\\right) + a_{z} \\left(2 q_{w} q_{y} + 2 q_{x} q_{z}\\right)\\right) + v_{x}\\\\dt \\left(a_{x} \\left(2 q_{w} q_{z} + 2 q_{x} q_{y}\\right) + a_{y} \\left(q_{w}^{2} - q_{x}^{2} + q_{y}^{2} - q_{z}^{2}\\right) + a_{z} \\left(- 2 q_{w} q_{x} + 2 q_{y} q_{z}\\right)\\right) + v_{y}\\\\dt \\left(a_{x} \\left(- 2 q_{w} q_{y} + 2 q_{x} q_{z}\\right) + a_{y} \\left(2 q_{w} q_{x} + 2 q_{y} q_{z}\\right) + a_{z} \\left(q_{w}^{2} - q_{x}^{2} - q_{y}^{2} + q_{z}^{2}\\right) - 9.81\\right) + v_{z}\\\\q_{w} \\cos{\\left(\\frac{dt |w|}{2} \\right)} - \\frac{q_{x} w_{x} \\sin{\\left(\\frac{dt |w|}{2} \\right)}}{|w|} - \\frac{q_{y} w_{y} \\sin{\\left(\\frac{dt |w|}{2} \\right)}}{|w|} - \\frac{q_{z} w_{z} \\sin{\\left(\\frac{dt |w|}{2} \\right)}}{|w|}\\\\\\frac{q_{w} w_{x} \\sin{\\left(\\frac{dt |w|}{2} \\right)}}{|w|} + q_{x} \\cos{\\left(\\frac{dt |w|}{2} \\right)} + \\frac{q_{y} w_{z} \\sin{\\left(\\frac{dt |w|}{2} \\right)}}{|w|} - \\frac{q_{z} w_{y} \\sin{\\left(\\frac{dt |w|}{2} \\right)}}{|w|}\\\\\\frac{q_{w} w_{y} \\sin{\\left(\\frac{dt |w|}{2} \\right)}}{|w|} - \\frac{q_{x} w_{z} \\sin{\\left(\\frac{dt |w|}{2} \\right)}}{|w|} + q_{y} \\cos{\\left(\\frac{dt |w|}{2} \\right)} + \\frac{q_{z} w_{x} \\sin{\\left(\\frac{dt |w|}{2} \\right)}}{|w|}\\\\\\frac{q_{w} w_{z} \\sin{\\left(\\frac{dt |w|}{2} \\right)}}{|w|} + \\frac{q_{x} w_{y} \\sin{\\left(\\frac{dt |w|}{2} \\right)}}{|w|} - \\frac{q_{y} w_{x} \\sin{\\left(\\frac{dt |w|}{2} \\right)}}{|w|} + q_{z} \\cos{\\left(\\frac{dt |w|}{2} \\right)}\\\\b_{w_x} + w_{w}\\\\b_{w_y} + w_{w}\\\\b_{w_z} + w_{w}\\\\b_{a_x} + w_{a}\\\\b_{a_y} + w_{a}\\\\b_{a_z} + w_{a}\\end{matrix}\\right]$"
      ],
      "text/plain": [
       "Matrix([\n",
       "[                                                    p_{x} + v_{f}*sin(dt*w_{z} - 2*atan2(q_{x}, q_{w}))/w_{z} + v_{f}*sin(2*atan2(q_{x}, q_{w}))/w_{z}],\n",
       "[                                                    p_{y} - v_{f}*cos(dt*w_{z} - 2*atan2(q_{x}, q_{w}))/w_{z} + v_{f}*cos(2*atan2(q_{x}, q_{w}))/w_{z}],\n",
       "[                                                                                                       p_{z} - v_{f}*cos(dt*w_{x})/w_{x} + v_{f}/w_{x}],\n",
       "[       dt*(a_{x}*(q_{w}**2 + q_{x}**2 - q_{y}**2 - q_{z}**2) + a_{y}*(-2*q_{w}*q_{z} + 2*q_{x}*q_{y}) + a_{z}*(2*q_{w}*q_{y} + 2*q_{x}*q_{z})) + v_{x}],\n",
       "[       dt*(a_{x}*(2*q_{w}*q_{z} + 2*q_{x}*q_{y}) + a_{y}*(q_{w}**2 - q_{x}**2 + q_{y}**2 - q_{z}**2) + a_{z}*(-2*q_{w}*q_{x} + 2*q_{y}*q_{z})) + v_{y}],\n",
       "[dt*(a_{x}*(-2*q_{w}*q_{y} + 2*q_{x}*q_{z}) + a_{y}*(2*q_{w}*q_{x} + 2*q_{y}*q_{z}) + a_{z}*(q_{w}**2 - q_{x}**2 - q_{y}**2 + q_{z}**2) - 9.81) + v_{z}],\n",
       "[                                   q_{w}*cos(dt*|w|/2) - q_{x}*w_{x}*sin(dt*|w|/2)/|w| - q_{y}*w_{y}*sin(dt*|w|/2)/|w| - q_{z}*w_{z}*sin(dt*|w|/2)/|w|],\n",
       "[                                   q_{w}*w_{x}*sin(dt*|w|/2)/|w| + q_{x}*cos(dt*|w|/2) + q_{y}*w_{z}*sin(dt*|w|/2)/|w| - q_{z}*w_{y}*sin(dt*|w|/2)/|w|],\n",
       "[                                   q_{w}*w_{y}*sin(dt*|w|/2)/|w| - q_{x}*w_{z}*sin(dt*|w|/2)/|w| + q_{y}*cos(dt*|w|/2) + q_{z}*w_{x}*sin(dt*|w|/2)/|w|],\n",
       "[                                   q_{w}*w_{z}*sin(dt*|w|/2)/|w| + q_{x}*w_{y}*sin(dt*|w|/2)/|w| - q_{y}*w_{x}*sin(dt*|w|/2)/|w| + q_{z}*cos(dt*|w|/2)],\n",
       "[                                                                                                                                       b_{w_x} + w_{w}],\n",
       "[                                                                                                                                       b_{w_y} + w_{w}],\n",
       "[                                                                                                                                       b_{w_z} + w_{w}],\n",
       "[                                                                                                                                       b_{a_x} + w_{a}],\n",
       "[                                                                                                                                       b_{a_y} + w_{a}],\n",
       "[                                                                                                                                       b_{a_z} + w_{a}]])"
      ]
     },
     "execution_count": 113,
     "metadata": {},
     "output_type": "execute_result"
    }
   ],
   "source": [
    "fxu_velocity_condition_2"
   ]
  },
  {
   "cell_type": "code",
   "execution_count": 114,
   "id": "4a1faaf7-8e22-44b6-817d-c10ce61d2ad7",
   "metadata": {},
   "outputs": [
    {
     "data": {
      "text/latex": [
       "$\\displaystyle \\left[\\begin{array}{cccccccccccccccc}1 & 0 & 0 & 0 & 0 & 0 & \\frac{2 q_{x} v_{f} \\cos{\\left(dt w_{z} - 2 \\operatorname{atan}_{2}{\\left(q_{x},q_{w} \\right)} \\right)}}{w_{z} \\left(q_{w}^{2} + q_{x}^{2}\\right)} - \\frac{2 q_{x} v_{f} \\cos{\\left(2 \\operatorname{atan}_{2}{\\left(q_{x},q_{w} \\right)} \\right)}}{w_{z} \\left(q_{w}^{2} + q_{x}^{2}\\right)} & - \\frac{2 q_{w} v_{f} \\cos{\\left(dt w_{z} - 2 \\operatorname{atan}_{2}{\\left(q_{x},q_{w} \\right)} \\right)}}{w_{z} \\left(q_{w}^{2} + q_{x}^{2}\\right)} + \\frac{2 q_{w} v_{f} \\cos{\\left(2 \\operatorname{atan}_{2}{\\left(q_{x},q_{w} \\right)} \\right)}}{w_{z} \\left(q_{w}^{2} + q_{x}^{2}\\right)} & 0 & 0 & 0 & 0 & 0 & 0 & 0 & 0\\\\0 & 1 & 0 & 0 & 0 & 0 & \\frac{2 q_{x} v_{f} \\sin{\\left(dt w_{z} - 2 \\operatorname{atan}_{2}{\\left(q_{x},q_{w} \\right)} \\right)}}{w_{z} \\left(q_{w}^{2} + q_{x}^{2}\\right)} + \\frac{2 q_{x} v_{f} \\sin{\\left(2 \\operatorname{atan}_{2}{\\left(q_{x},q_{w} \\right)} \\right)}}{w_{z} \\left(q_{w}^{2} + q_{x}^{2}\\right)} & - \\frac{2 q_{w} v_{f} \\sin{\\left(dt w_{z} - 2 \\operatorname{atan}_{2}{\\left(q_{x},q_{w} \\right)} \\right)}}{w_{z} \\left(q_{w}^{2} + q_{x}^{2}\\right)} - \\frac{2 q_{w} v_{f} \\sin{\\left(2 \\operatorname{atan}_{2}{\\left(q_{x},q_{w} \\right)} \\right)}}{w_{z} \\left(q_{w}^{2} + q_{x}^{2}\\right)} & 0 & 0 & 0 & 0 & 0 & 0 & 0 & 0\\\\0 & 0 & 1 & 0 & 0 & 0 & 0 & 0 & 0 & 0 & 0 & 0 & 0 & 0 & 0 & 0\\\\0 & 0 & 0 & 1 & 0 & 0 & dt \\left(2 a_{x} q_{w} - 2 a_{y} q_{z} + 2 a_{z} q_{y}\\right) & dt \\left(2 a_{x} q_{x} + 2 a_{y} q_{y} + 2 a_{z} q_{z}\\right) & dt \\left(- 2 a_{x} q_{y} + 2 a_{y} q_{x} + 2 a_{z} q_{w}\\right) & dt \\left(- 2 a_{x} q_{z} - 2 a_{y} q_{w} + 2 a_{z} q_{x}\\right) & 0 & 0 & 0 & 0 & 0 & 0\\\\0 & 0 & 0 & 0 & 1 & 0 & dt \\left(2 a_{x} q_{z} + 2 a_{y} q_{w} - 2 a_{z} q_{x}\\right) & dt \\left(2 a_{x} q_{y} - 2 a_{y} q_{x} - 2 a_{z} q_{w}\\right) & dt \\left(2 a_{x} q_{x} + 2 a_{y} q_{y} + 2 a_{z} q_{z}\\right) & dt \\left(2 a_{x} q_{w} - 2 a_{y} q_{z} + 2 a_{z} q_{y}\\right) & 0 & 0 & 0 & 0 & 0 & 0\\\\0 & 0 & 0 & 0 & 0 & 1 & dt \\left(- 2 a_{x} q_{y} + 2 a_{y} q_{x} + 2 a_{z} q_{w}\\right) & dt \\left(2 a_{x} q_{z} + 2 a_{y} q_{w} - 2 a_{z} q_{x}\\right) & dt \\left(- 2 a_{x} q_{w} + 2 a_{y} q_{z} - 2 a_{z} q_{y}\\right) & dt \\left(2 a_{x} q_{x} + 2 a_{y} q_{y} + 2 a_{z} q_{z}\\right) & 0 & 0 & 0 & 0 & 0 & 0\\\\0 & 0 & 0 & 0 & 0 & 0 & \\cos{\\left(\\frac{dt |w|}{2} \\right)} & - \\frac{w_{x} \\sin{\\left(\\frac{dt |w|}{2} \\right)}}{|w|} & - \\frac{w_{y} \\sin{\\left(\\frac{dt |w|}{2} \\right)}}{|w|} & - \\frac{w_{z} \\sin{\\left(\\frac{dt |w|}{2} \\right)}}{|w|} & 0 & 0 & 0 & 0 & 0 & 0\\\\0 & 0 & 0 & 0 & 0 & 0 & \\frac{w_{x} \\sin{\\left(\\frac{dt |w|}{2} \\right)}}{|w|} & \\cos{\\left(\\frac{dt |w|}{2} \\right)} & \\frac{w_{z} \\sin{\\left(\\frac{dt |w|}{2} \\right)}}{|w|} & - \\frac{w_{y} \\sin{\\left(\\frac{dt |w|}{2} \\right)}}{|w|} & 0 & 0 & 0 & 0 & 0 & 0\\\\0 & 0 & 0 & 0 & 0 & 0 & \\frac{w_{y} \\sin{\\left(\\frac{dt |w|}{2} \\right)}}{|w|} & - \\frac{w_{z} \\sin{\\left(\\frac{dt |w|}{2} \\right)}}{|w|} & \\cos{\\left(\\frac{dt |w|}{2} \\right)} & \\frac{w_{x} \\sin{\\left(\\frac{dt |w|}{2} \\right)}}{|w|} & 0 & 0 & 0 & 0 & 0 & 0\\\\0 & 0 & 0 & 0 & 0 & 0 & \\frac{w_{z} \\sin{\\left(\\frac{dt |w|}{2} \\right)}}{|w|} & \\frac{w_{y} \\sin{\\left(\\frac{dt |w|}{2} \\right)}}{|w|} & - \\frac{w_{x} \\sin{\\left(\\frac{dt |w|}{2} \\right)}}{|w|} & \\cos{\\left(\\frac{dt |w|}{2} \\right)} & 0 & 0 & 0 & 0 & 0 & 0\\\\0 & 0 & 0 & 0 & 0 & 0 & 0 & 0 & 0 & 0 & 1 & 0 & 0 & 0 & 0 & 0\\\\0 & 0 & 0 & 0 & 0 & 0 & 0 & 0 & 0 & 0 & 0 & 1 & 0 & 0 & 0 & 0\\\\0 & 0 & 0 & 0 & 0 & 0 & 0 & 0 & 0 & 0 & 0 & 0 & 1 & 0 & 0 & 0\\\\0 & 0 & 0 & 0 & 0 & 0 & 0 & 0 & 0 & 0 & 0 & 0 & 0 & 1 & 0 & 0\\\\0 & 0 & 0 & 0 & 0 & 0 & 0 & 0 & 0 & 0 & 0 & 0 & 0 & 0 & 1 & 0\\\\0 & 0 & 0 & 0 & 0 & 0 & 0 & 0 & 0 & 0 & 0 & 0 & 0 & 0 & 0 & 1\\end{array}\\right]$"
      ],
      "text/plain": [
       "Matrix([\n",
       "[1, 0, 0, 0, 0, 0, 2*q_{x}*v_{f}*cos(dt*w_{z} - 2*atan2(q_{x}, q_{w}))/(w_{z}*(q_{w}**2 + q_{x}**2)) - 2*q_{x}*v_{f}*cos(2*atan2(q_{x}, q_{w}))/(w_{z}*(q_{w}**2 + q_{x}**2)), -2*q_{w}*v_{f}*cos(dt*w_{z} - 2*atan2(q_{x}, q_{w}))/(w_{z}*(q_{w}**2 + q_{x}**2)) + 2*q_{w}*v_{f}*cos(2*atan2(q_{x}, q_{w}))/(w_{z}*(q_{w}**2 + q_{x}**2)),                                                   0,                                                   0, 0, 0, 0, 0, 0, 0],\n",
       "[0, 1, 0, 0, 0, 0, 2*q_{x}*v_{f}*sin(dt*w_{z} - 2*atan2(q_{x}, q_{w}))/(w_{z}*(q_{w}**2 + q_{x}**2)) + 2*q_{x}*v_{f}*sin(2*atan2(q_{x}, q_{w}))/(w_{z}*(q_{w}**2 + q_{x}**2)), -2*q_{w}*v_{f}*sin(dt*w_{z} - 2*atan2(q_{x}, q_{w}))/(w_{z}*(q_{w}**2 + q_{x}**2)) - 2*q_{w}*v_{f}*sin(2*atan2(q_{x}, q_{w}))/(w_{z}*(q_{w}**2 + q_{x}**2)),                                                   0,                                                   0, 0, 0, 0, 0, 0, 0],\n",
       "[0, 0, 1, 0, 0, 0,                                                                                                                                                          0,                                                                                                                                                           0,                                                   0,                                                   0, 0, 0, 0, 0, 0, 0],\n",
       "[0, 0, 0, 1, 0, 0,                                                                                                         dt*(2*a_{x}*q_{w} - 2*a_{y}*q_{z} + 2*a_{z}*q_{y}),                                                                                                          dt*(2*a_{x}*q_{x} + 2*a_{y}*q_{y} + 2*a_{z}*q_{z}), dt*(-2*a_{x}*q_{y} + 2*a_{y}*q_{x} + 2*a_{z}*q_{w}), dt*(-2*a_{x}*q_{z} - 2*a_{y}*q_{w} + 2*a_{z}*q_{x}), 0, 0, 0, 0, 0, 0],\n",
       "[0, 0, 0, 0, 1, 0,                                                                                                         dt*(2*a_{x}*q_{z} + 2*a_{y}*q_{w} - 2*a_{z}*q_{x}),                                                                                                          dt*(2*a_{x}*q_{y} - 2*a_{y}*q_{x} - 2*a_{z}*q_{w}),  dt*(2*a_{x}*q_{x} + 2*a_{y}*q_{y} + 2*a_{z}*q_{z}),  dt*(2*a_{x}*q_{w} - 2*a_{y}*q_{z} + 2*a_{z}*q_{y}), 0, 0, 0, 0, 0, 0],\n",
       "[0, 0, 0, 0, 0, 1,                                                                                                        dt*(-2*a_{x}*q_{y} + 2*a_{y}*q_{x} + 2*a_{z}*q_{w}),                                                                                                          dt*(2*a_{x}*q_{z} + 2*a_{y}*q_{w} - 2*a_{z}*q_{x}), dt*(-2*a_{x}*q_{w} + 2*a_{y}*q_{z} - 2*a_{z}*q_{y}),  dt*(2*a_{x}*q_{x} + 2*a_{y}*q_{y} + 2*a_{z}*q_{z}), 0, 0, 0, 0, 0, 0],\n",
       "[0, 0, 0, 0, 0, 0,                                                                                                                                              cos(dt*|w|/2),                                                                                                                                    -w_{x}*sin(dt*|w|/2)/|w|,                            -w_{y}*sin(dt*|w|/2)/|w|,                            -w_{z}*sin(dt*|w|/2)/|w|, 0, 0, 0, 0, 0, 0],\n",
       "[0, 0, 0, 0, 0, 0,                                                                                                                                    w_{x}*sin(dt*|w|/2)/|w|,                                                                                                                                               cos(dt*|w|/2),                             w_{z}*sin(dt*|w|/2)/|w|,                            -w_{y}*sin(dt*|w|/2)/|w|, 0, 0, 0, 0, 0, 0],\n",
       "[0, 0, 0, 0, 0, 0,                                                                                                                                    w_{y}*sin(dt*|w|/2)/|w|,                                                                                                                                    -w_{z}*sin(dt*|w|/2)/|w|,                                       cos(dt*|w|/2),                             w_{x}*sin(dt*|w|/2)/|w|, 0, 0, 0, 0, 0, 0],\n",
       "[0, 0, 0, 0, 0, 0,                                                                                                                                    w_{z}*sin(dt*|w|/2)/|w|,                                                                                                                                     w_{y}*sin(dt*|w|/2)/|w|,                            -w_{x}*sin(dt*|w|/2)/|w|,                                       cos(dt*|w|/2), 0, 0, 0, 0, 0, 0],\n",
       "[0, 0, 0, 0, 0, 0,                                                                                                                                                          0,                                                                                                                                                           0,                                                   0,                                                   0, 1, 0, 0, 0, 0, 0],\n",
       "[0, 0, 0, 0, 0, 0,                                                                                                                                                          0,                                                                                                                                                           0,                                                   0,                                                   0, 0, 1, 0, 0, 0, 0],\n",
       "[0, 0, 0, 0, 0, 0,                                                                                                                                                          0,                                                                                                                                                           0,                                                   0,                                                   0, 0, 0, 1, 0, 0, 0],\n",
       "[0, 0, 0, 0, 0, 0,                                                                                                                                                          0,                                                                                                                                                           0,                                                   0,                                                   0, 0, 0, 0, 1, 0, 0],\n",
       "[0, 0, 0, 0, 0, 0,                                                                                                                                                          0,                                                                                                                                                           0,                                                   0,                                                   0, 0, 0, 0, 0, 1, 0],\n",
       "[0, 0, 0, 0, 0, 0,                                                                                                                                                          0,                                                                                                                                                           0,                                                   0,                                                   0, 0, 0, 0, 0, 0, 1]])"
      ]
     },
     "execution_count": 114,
     "metadata": {},
     "output_type": "execute_result"
    }
   ],
   "source": [
    "F_velocity_condition_2"
   ]
  },
  {
   "cell_type": "code",
   "execution_count": 125,
   "id": "facad43d",
   "metadata": {},
   "outputs": [
    {
     "data": {
      "text/latex": [
       "$\\displaystyle \\left[\\begin{array}{cccccccccccccccc}0 & 0 & 0 & 0 & 0 & 0 & \\frac{w_{z} \\sin{\\left(\\frac{dt |w|}{2} \\right)}}{|w|} & \\frac{w_{y} \\sin{\\left(\\frac{dt |w|}{2} \\right)}}{|w|} & - \\frac{w_{x} \\sin{\\left(\\frac{dt |w|}{2} \\right)}}{|w|} & \\cos{\\left(\\frac{dt |w|}{2} \\right)} & 0 & 0 & 0 & 0 & 0 & 0\\end{array}\\right]$"
      ],
      "text/plain": [
       "Matrix([[0, 0, 0, 0, 0, 0, w_{z}*sin(dt*|w|/2)/|w|, w_{y}*sin(dt*|w|/2)/|w|, -w_{x}*sin(dt*|w|/2)/|w|, cos(dt*|w|/2), 0, 0, 0, 0, 0, 0]])"
      ]
     },
     "execution_count": 125,
     "metadata": {},
     "output_type": "execute_result"
    }
   ],
   "source": [
    "F_velocity_condition_2[9, :]"
   ]
  },
  {
   "cell_type": "code",
   "execution_count": 126,
   "id": "67592700-f5af-4194-85b4-c2c8fbb42096",
   "metadata": {},
   "outputs": [
    {
     "data": {
      "text/latex": [
       "$\\displaystyle \\left[\\begin{matrix}0 & 0 & 0 & 0 & 0 & \\frac{dt v_{f} \\cos{\\left(dt w_{z} - 2 \\operatorname{atan}_{2}{\\left(q_{x},q_{w} \\right)} \\right)}}{w_{z}} - \\frac{v_{f} \\sin{\\left(dt w_{z} - 2 \\operatorname{atan}_{2}{\\left(q_{x},q_{w} \\right)} \\right)}}{w_{z}^{2}} - \\frac{v_{f} \\sin{\\left(2 \\operatorname{atan}_{2}{\\left(q_{x},q_{w} \\right)} \\right)}}{w_{z}^{2}}\\\\0 & 0 & 0 & 0 & 0 & \\frac{dt v_{f} \\sin{\\left(dt w_{z} - 2 \\operatorname{atan}_{2}{\\left(q_{x},q_{w} \\right)} \\right)}}{w_{z}} + \\frac{v_{f} \\cos{\\left(dt w_{z} - 2 \\operatorname{atan}_{2}{\\left(q_{x},q_{w} \\right)} \\right)}}{w_{z}^{2}} - \\frac{v_{f} \\cos{\\left(2 \\operatorname{atan}_{2}{\\left(q_{x},q_{w} \\right)} \\right)}}{w_{z}^{2}}\\\\0 & 0 & 0 & \\frac{dt v_{f} \\sin{\\left(dt w_{x} \\right)}}{w_{x}} + \\frac{v_{f} \\cos{\\left(dt w_{x} \\right)}}{w_{x}^{2}} - \\frac{v_{f}}{w_{x}^{2}} & 0 & 0\\\\dt \\left(q_{w}^{2} + q_{x}^{2} - q_{y}^{2} - q_{z}^{2}\\right) & dt \\left(- 2 q_{w} q_{z} + 2 q_{x} q_{y}\\right) & dt \\left(2 q_{w} q_{y} + 2 q_{x} q_{z}\\right) & 0 & 0 & 0\\\\dt \\left(2 q_{w} q_{z} + 2 q_{x} q_{y}\\right) & dt \\left(q_{w}^{2} - q_{x}^{2} + q_{y}^{2} - q_{z}^{2}\\right) & dt \\left(- 2 q_{w} q_{x} + 2 q_{y} q_{z}\\right) & 0 & 0 & 0\\\\dt \\left(- 2 q_{w} q_{y} + 2 q_{x} q_{z}\\right) & dt \\left(2 q_{w} q_{x} + 2 q_{y} q_{z}\\right) & dt \\left(q_{w}^{2} - q_{x}^{2} - q_{y}^{2} + q_{z}^{2}\\right) & 0 & 0 & 0\\\\0 & 0 & 0 & - \\frac{q_{x} \\sin{\\left(\\frac{dt |w|}{2} \\right)}}{|w|} & - \\frac{q_{y} \\sin{\\left(\\frac{dt |w|}{2} \\right)}}{|w|} & - \\frac{q_{z} \\sin{\\left(\\frac{dt |w|}{2} \\right)}}{|w|}\\\\0 & 0 & 0 & \\frac{q_{w} \\sin{\\left(\\frac{dt |w|}{2} \\right)}}{|w|} & - \\frac{q_{z} \\sin{\\left(\\frac{dt |w|}{2} \\right)}}{|w|} & \\frac{q_{y} \\sin{\\left(\\frac{dt |w|}{2} \\right)}}{|w|}\\\\0 & 0 & 0 & \\frac{q_{z} \\sin{\\left(\\frac{dt |w|}{2} \\right)}}{|w|} & \\frac{q_{w} \\sin{\\left(\\frac{dt |w|}{2} \\right)}}{|w|} & - \\frac{q_{x} \\sin{\\left(\\frac{dt |w|}{2} \\right)}}{|w|}\\\\0 & 0 & 0 & - \\frac{q_{y} \\sin{\\left(\\frac{dt |w|}{2} \\right)}}{|w|} & \\frac{q_{x} \\sin{\\left(\\frac{dt |w|}{2} \\right)}}{|w|} & \\frac{q_{w} \\sin{\\left(\\frac{dt |w|}{2} \\right)}}{|w|}\\\\0 & 0 & 0 & 0 & 0 & 0\\\\0 & 0 & 0 & 0 & 0 & 0\\\\0 & 0 & 0 & 0 & 0 & 0\\\\0 & 0 & 0 & 0 & 0 & 0\\\\0 & 0 & 0 & 0 & 0 & 0\\\\0 & 0 & 0 & 0 & 0 & 0\\end{matrix}\\right]$"
      ],
      "text/plain": [
       "Matrix([\n",
       "[                                             0,                                              0,                                              0,                                                                            0,                        0, dt*v_{f}*cos(dt*w_{z} - 2*atan2(q_{x}, q_{w}))/w_{z} - v_{f}*sin(dt*w_{z} - 2*atan2(q_{x}, q_{w}))/w_{z}**2 - v_{f}*sin(2*atan2(q_{x}, q_{w}))/w_{z}**2],\n",
       "[                                             0,                                              0,                                              0,                                                                            0,                        0, dt*v_{f}*sin(dt*w_{z} - 2*atan2(q_{x}, q_{w}))/w_{z} + v_{f}*cos(dt*w_{z} - 2*atan2(q_{x}, q_{w}))/w_{z}**2 - v_{f}*cos(2*atan2(q_{x}, q_{w}))/w_{z}**2],\n",
       "[                                             0,                                              0,                                              0, dt*v_{f}*sin(dt*w_{x})/w_{x} + v_{f}*cos(dt*w_{x})/w_{x}**2 - v_{f}/w_{x}**2,                        0,                                                                                                                                                       0],\n",
       "[dt*(q_{w}**2 + q_{x}**2 - q_{y}**2 - q_{z}**2),            dt*(-2*q_{w}*q_{z} + 2*q_{x}*q_{y}),             dt*(2*q_{w}*q_{y} + 2*q_{x}*q_{z}),                                                                            0,                        0,                                                                                                                                                       0],\n",
       "[            dt*(2*q_{w}*q_{z} + 2*q_{x}*q_{y}), dt*(q_{w}**2 - q_{x}**2 + q_{y}**2 - q_{z}**2),            dt*(-2*q_{w}*q_{x} + 2*q_{y}*q_{z}),                                                                            0,                        0,                                                                                                                                                       0],\n",
       "[           dt*(-2*q_{w}*q_{y} + 2*q_{x}*q_{z}),             dt*(2*q_{w}*q_{x} + 2*q_{y}*q_{z}), dt*(q_{w}**2 - q_{x}**2 - q_{y}**2 + q_{z}**2),                                                                            0,                        0,                                                                                                                                                       0],\n",
       "[                                             0,                                              0,                                              0,                                                     -q_{x}*sin(dt*|w|/2)/|w|, -q_{y}*sin(dt*|w|/2)/|w|,                                                                                                                                -q_{z}*sin(dt*|w|/2)/|w|],\n",
       "[                                             0,                                              0,                                              0,                                                      q_{w}*sin(dt*|w|/2)/|w|, -q_{z}*sin(dt*|w|/2)/|w|,                                                                                                                                 q_{y}*sin(dt*|w|/2)/|w|],\n",
       "[                                             0,                                              0,                                              0,                                                      q_{z}*sin(dt*|w|/2)/|w|,  q_{w}*sin(dt*|w|/2)/|w|,                                                                                                                                -q_{x}*sin(dt*|w|/2)/|w|],\n",
       "[                                             0,                                              0,                                              0,                                                     -q_{y}*sin(dt*|w|/2)/|w|,  q_{x}*sin(dt*|w|/2)/|w|,                                                                                                                                 q_{w}*sin(dt*|w|/2)/|w|],\n",
       "[                                             0,                                              0,                                              0,                                                                            0,                        0,                                                                                                                                                       0],\n",
       "[                                             0,                                              0,                                              0,                                                                            0,                        0,                                                                                                                                                       0],\n",
       "[                                             0,                                              0,                                              0,                                                                            0,                        0,                                                                                                                                                       0],\n",
       "[                                             0,                                              0,                                              0,                                                                            0,                        0,                                                                                                                                                       0],\n",
       "[                                             0,                                              0,                                              0,                                                                            0,                        0,                                                                                                                                                       0],\n",
       "[                                             0,                                              0,                                              0,                                                                            0,                        0,                                                                                                                                                       0]])"
      ]
     },
     "execution_count": 126,
     "metadata": {},
     "output_type": "execute_result"
    }
   ],
   "source": [
    "G_velocity_condition_2"
   ]
  },
  {
   "cell_type": "code",
   "execution_count": 139,
   "id": "43686bff",
   "metadata": {},
   "outputs": [
    {
     "data": {
      "text/latex": [
       "$\\displaystyle \\left[\\begin{matrix}0 & 0 & 0 & - \\frac{q_{y} \\sin{\\left(\\frac{dt |w|}{2} \\right)}}{|w|} & \\frac{q_{x} \\sin{\\left(\\frac{dt |w|}{2} \\right)}}{|w|} & \\frac{q_{w} \\sin{\\left(\\frac{dt |w|}{2} \\right)}}{|w|}\\end{matrix}\\right]$"
      ],
      "text/plain": [
       "Matrix([[0, 0, 0, -q_{y}*sin(dt*|w|/2)/|w|, q_{x}*sin(dt*|w|/2)/|w|, q_{w}*sin(dt*|w|/2)/|w|]])"
      ]
     },
     "execution_count": 139,
     "metadata": {},
     "output_type": "execute_result"
    }
   ],
   "source": [
    "G_velocity_condition_2[9, :]"
   ]
  },
  {
   "cell_type": "code",
   "execution_count": null,
   "id": "043779ec",
   "metadata": {},
   "outputs": [],
   "source": []
  },
  {
   "cell_type": "code",
   "execution_count": null,
   "id": "b06f0dbd",
   "metadata": {},
   "outputs": [],
   "source": []
  }
 ],
 "metadata": {
  "kernelspec": {
   "display_name": "Python 3 (ipykernel)",
   "language": "python",
   "name": "python3"
  },
  "language_info": {
   "codemirror_mode": {
    "name": "ipython",
    "version": 3
   },
   "file_extension": ".py",
   "mimetype": "text/x-python",
   "name": "python",
   "nbconvert_exporter": "python",
   "pygments_lexer": "ipython3",
   "version": "3.12.10"
  }
 },
 "nbformat": 4,
 "nbformat_minor": 5
}
